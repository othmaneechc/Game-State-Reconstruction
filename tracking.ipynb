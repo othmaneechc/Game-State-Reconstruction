{
 "cells": [
  {
   "cell_type": "code",
   "execution_count": 1,
   "metadata": {},
   "outputs": [
    {
     "name": "stdout",
     "output_type": "stream",
     "text": [
      "Tue Nov 26 12:49:39 2024       \n",
      "+-----------------------------------------------------------------------------------------+\n",
      "| NVIDIA-SMI 555.42.02              Driver Version: 555.42.02      CUDA Version: 12.5     |\n",
      "|-----------------------------------------+------------------------+----------------------+\n",
      "| GPU  Name                 Persistence-M | Bus-Id          Disp.A | Volatile Uncorr. ECC |\n",
      "| Fan  Temp   Perf          Pwr:Usage/Cap |           Memory-Usage | GPU-Util  Compute M. |\n",
      "|                                         |                        |               MIG M. |\n",
      "|=========================================+========================+======================|\n",
      "|   0  NVIDIA A40                     On  |   00000000:04:00.0 Off |                    0 |\n",
      "|  0%   61C    P0            201W /  300W |   38951MiB /  46068MiB |     84%      Default |\n",
      "|                                         |                        |                  N/A |\n",
      "+-----------------------------------------+------------------------+----------------------+\n",
      "|   1  NVIDIA A40                     On  |   00000000:06:00.0 Off |                    0 |\n",
      "|  0%   62C    P0            161W /  300W |   44075MiB /  46068MiB |     34%      Default |\n",
      "|                                         |                        |                  N/A |\n",
      "+-----------------------------------------+------------------------+----------------------+\n",
      "|   2  NVIDIA A40                     On  |   00000000:0E:00.0 Off |                    0 |\n",
      "|  0%   61C    P0            158W /  300W |   33671MiB /  46068MiB |      1%      Default |\n",
      "|                                         |                        |                  N/A |\n",
      "+-----------------------------------------+------------------------+----------------------+\n",
      "|   3  NVIDIA A40                     On  |   00000000:10:00.0 Off |                    0 |\n",
      "|  0%   63C    P0            172W /  300W |   27945MiB /  46068MiB |      1%      Default |\n",
      "|                                         |                        |                  N/A |\n",
      "+-----------------------------------------+------------------------+----------------------+\n",
      "|   4  NVIDIA A40                     On  |   00000000:17:00.0 Off |                    0 |\n",
      "|  0%   62C    P0            157W /  300W |   39049MiB /  46068MiB |      4%      Default |\n",
      "|                                         |                        |                  N/A |\n",
      "+-----------------------------------------+------------------------+----------------------+\n",
      "|   5  NVIDIA A40                     On  |   00000000:19:00.0 Off |                    0 |\n",
      "|  0%   62C    P0            161W /  300W |   39385MiB /  46068MiB |     65%      Default |\n",
      "|                                         |                        |                  N/A |\n",
      "+-----------------------------------------+------------------------+----------------------+\n",
      "|   6  NVIDIA A40                     On  |   00000000:21:00.0 Off |                    0 |\n",
      "|  0%   62C    P0            157W /  300W |   42885MiB /  46068MiB |     31%      Default |\n",
      "|                                         |                        |                  N/A |\n",
      "+-----------------------------------------+------------------------+----------------------+\n",
      "|   7  NVIDIA A40                     On  |   00000000:23:00.0 Off |                    0 |\n",
      "|  0%   64C    P0            175W /  300W |   33327MiB /  46068MiB |     42%      Default |\n",
      "|                                         |                        |                  N/A |\n",
      "+-----------------------------------------+------------------------+----------------------+\n",
      "                                                                                         \n",
      "+-----------------------------------------------------------------------------------------+\n",
      "| Processes:                                                                              |\n",
      "|  GPU   GI   CI        PID   Type   Process name                              GPU Memory |\n",
      "|        ID   ID                                                               Usage      |\n",
      "|=========================================================================================|\n",
      "|    0   N/A  N/A    982340      C   python                                      38942MiB |\n",
      "|    1   N/A  N/A    982336      C   python                                      44066MiB |\n",
      "|    2   N/A  N/A    982339      C   python                                      33662MiB |\n",
      "|    3   N/A  N/A    982337      C   python                                      27936MiB |\n",
      "|    4   N/A  N/A    982342      C   python                                      39040MiB |\n",
      "|    5   N/A  N/A    982341      C   python                                      39376MiB |\n",
      "|    6   N/A  N/A    982338      C   python                                      42876MiB |\n",
      "|    7   N/A  N/A    982343      C   python                                      33318MiB |\n",
      "+-----------------------------------------------------------------------------------------+\n"
     ]
    }
   ],
   "source": [
    "!nvidia-smi"
   ]
  },
  {
   "cell_type": "code",
   "execution_count": null,
   "metadata": {},
   "outputs": [],
   "source": [
    "# !pip install onnxruntime-gpu==1.18.0 --index-url https://aiinfra.pkgs.visualstudio.com/PublicPackages/_packaging/onnxruntime-cuda-12/pypi/simple/\\\n",
    "# !pip install -q git+https://github.com/roboflow/sports.git\n",
    "# !pip install --upgrade pip setuptools wheel\n",
    "# !pip install supervision>=0.23.0\n",
    "# !pip install inference\n",
    "# !pip install plotly\n",
    "# # !git clone https://github.com/roboflow/sports.git\n",
    "# !pip install ultralytics"
   ]
  },
  {
   "cell_type": "code",
   "execution_count": 3,
   "metadata": {},
   "outputs": [],
   "source": [
    "# Import libraries\n",
    "import numpy as np\n",
    "import pandas as pd\n",
    "import os\n",
    "import cv2\n",
    "import skimage\n",
    "from PIL import Image\n",
    "from ultralytics import YOLO\n",
    "from matplotlib import pyplot as plt\n",
    "import json\n",
    "import time\n",
    "import supervision as sv\n",
    "import random\n",
    "from tqdm import tqdm"
   ]
  },
  {
   "cell_type": "code",
   "execution_count": 4,
   "metadata": {},
   "outputs": [
    {
     "name": "stdout",
     "output_type": "stream",
     "text": [
      "Using device: cuda:3\n"
     ]
    }
   ],
   "source": [
    "import torch\n",
    "# Replace 0 with the index of the GPU you want to use\n",
    "device_number = 3\n",
    "device = torch.device(f'cuda:{device_number}')\n",
    "\n",
    "print(f\"Using device: {device}\")"
   ]
  },
  {
   "cell_type": "code",
   "execution_count": null,
   "metadata": {},
   "outputs": [
    {
     "data": {
      "text/plain": [
       "YOLO(\n",
       "  (model): DetectionModel(\n",
       "    (model): Sequential(\n",
       "      (0): Conv(\n",
       "        (conv): Conv2d(3, 80, kernel_size=(3, 3), stride=(2, 2), padding=(1, 1), bias=False)\n",
       "        (bn): BatchNorm2d(80, eps=0.001, momentum=0.03, affine=True, track_running_stats=True)\n",
       "        (act): SiLU(inplace=True)\n",
       "      )\n",
       "      (1): Conv(\n",
       "        (conv): Conv2d(80, 160, kernel_size=(3, 3), stride=(2, 2), padding=(1, 1), bias=False)\n",
       "        (bn): BatchNorm2d(160, eps=0.001, momentum=0.03, affine=True, track_running_stats=True)\n",
       "        (act): SiLU(inplace=True)\n",
       "      )\n",
       "      (2): C2f(\n",
       "        (cv1): Conv(\n",
       "          (conv): Conv2d(160, 160, kernel_size=(1, 1), stride=(1, 1), bias=False)\n",
       "          (bn): BatchNorm2d(160, eps=0.001, momentum=0.03, affine=True, track_running_stats=True)\n",
       "          (act): SiLU(inplace=True)\n",
       "        )\n",
       "        (cv2): Conv(\n",
       "          (conv): Conv2d(400, 160, kernel_size=(1, 1), stride=(1, 1), bias=False)\n",
       "          (bn): BatchNorm2d(160, eps=0.001, momentum=0.03, affine=True, track_running_stats=True)\n",
       "          (act): SiLU(inplace=True)\n",
       "        )\n",
       "        (m): ModuleList(\n",
       "          (0-2): 3 x Bottleneck(\n",
       "            (cv1): Conv(\n",
       "              (conv): Conv2d(80, 80, kernel_size=(3, 3), stride=(1, 1), padding=(1, 1), bias=False)\n",
       "              (bn): BatchNorm2d(80, eps=0.001, momentum=0.03, affine=True, track_running_stats=True)\n",
       "              (act): SiLU(inplace=True)\n",
       "            )\n",
       "            (cv2): Conv(\n",
       "              (conv): Conv2d(80, 80, kernel_size=(3, 3), stride=(1, 1), padding=(1, 1), bias=False)\n",
       "              (bn): BatchNorm2d(80, eps=0.001, momentum=0.03, affine=True, track_running_stats=True)\n",
       "              (act): SiLU(inplace=True)\n",
       "            )\n",
       "          )\n",
       "        )\n",
       "      )\n",
       "      (3): Conv(\n",
       "        (conv): Conv2d(160, 320, kernel_size=(3, 3), stride=(2, 2), padding=(1, 1), bias=False)\n",
       "        (bn): BatchNorm2d(320, eps=0.001, momentum=0.03, affine=True, track_running_stats=True)\n",
       "        (act): SiLU(inplace=True)\n",
       "      )\n",
       "      (4): C2f(\n",
       "        (cv1): Conv(\n",
       "          (conv): Conv2d(320, 320, kernel_size=(1, 1), stride=(1, 1), bias=False)\n",
       "          (bn): BatchNorm2d(320, eps=0.001, momentum=0.03, affine=True, track_running_stats=True)\n",
       "          (act): SiLU(inplace=True)\n",
       "        )\n",
       "        (cv2): Conv(\n",
       "          (conv): Conv2d(1280, 320, kernel_size=(1, 1), stride=(1, 1), bias=False)\n",
       "          (bn): BatchNorm2d(320, eps=0.001, momentum=0.03, affine=True, track_running_stats=True)\n",
       "          (act): SiLU(inplace=True)\n",
       "        )\n",
       "        (m): ModuleList(\n",
       "          (0-5): 6 x Bottleneck(\n",
       "            (cv1): Conv(\n",
       "              (conv): Conv2d(160, 160, kernel_size=(3, 3), stride=(1, 1), padding=(1, 1), bias=False)\n",
       "              (bn): BatchNorm2d(160, eps=0.001, momentum=0.03, affine=True, track_running_stats=True)\n",
       "              (act): SiLU(inplace=True)\n",
       "            )\n",
       "            (cv2): Conv(\n",
       "              (conv): Conv2d(160, 160, kernel_size=(3, 3), stride=(1, 1), padding=(1, 1), bias=False)\n",
       "              (bn): BatchNorm2d(160, eps=0.001, momentum=0.03, affine=True, track_running_stats=True)\n",
       "              (act): SiLU(inplace=True)\n",
       "            )\n",
       "          )\n",
       "        )\n",
       "      )\n",
       "      (5): Conv(\n",
       "        (conv): Conv2d(320, 640, kernel_size=(3, 3), stride=(2, 2), padding=(1, 1), bias=False)\n",
       "        (bn): BatchNorm2d(640, eps=0.001, momentum=0.03, affine=True, track_running_stats=True)\n",
       "        (act): SiLU(inplace=True)\n",
       "      )\n",
       "      (6): C2f(\n",
       "        (cv1): Conv(\n",
       "          (conv): Conv2d(640, 640, kernel_size=(1, 1), stride=(1, 1), bias=False)\n",
       "          (bn): BatchNorm2d(640, eps=0.001, momentum=0.03, affine=True, track_running_stats=True)\n",
       "          (act): SiLU(inplace=True)\n",
       "        )\n",
       "        (cv2): Conv(\n",
       "          (conv): Conv2d(2560, 640, kernel_size=(1, 1), stride=(1, 1), bias=False)\n",
       "          (bn): BatchNorm2d(640, eps=0.001, momentum=0.03, affine=True, track_running_stats=True)\n",
       "          (act): SiLU(inplace=True)\n",
       "        )\n",
       "        (m): ModuleList(\n",
       "          (0-5): 6 x Bottleneck(\n",
       "            (cv1): Conv(\n",
       "              (conv): Conv2d(320, 320, kernel_size=(3, 3), stride=(1, 1), padding=(1, 1), bias=False)\n",
       "              (bn): BatchNorm2d(320, eps=0.001, momentum=0.03, affine=True, track_running_stats=True)\n",
       "              (act): SiLU(inplace=True)\n",
       "            )\n",
       "            (cv2): Conv(\n",
       "              (conv): Conv2d(320, 320, kernel_size=(3, 3), stride=(1, 1), padding=(1, 1), bias=False)\n",
       "              (bn): BatchNorm2d(320, eps=0.001, momentum=0.03, affine=True, track_running_stats=True)\n",
       "              (act): SiLU(inplace=True)\n",
       "            )\n",
       "          )\n",
       "        )\n",
       "      )\n",
       "      (7): Conv(\n",
       "        (conv): Conv2d(640, 640, kernel_size=(3, 3), stride=(2, 2), padding=(1, 1), bias=False)\n",
       "        (bn): BatchNorm2d(640, eps=0.001, momentum=0.03, affine=True, track_running_stats=True)\n",
       "        (act): SiLU(inplace=True)\n",
       "      )\n",
       "      (8): C2f(\n",
       "        (cv1): Conv(\n",
       "          (conv): Conv2d(640, 640, kernel_size=(1, 1), stride=(1, 1), bias=False)\n",
       "          (bn): BatchNorm2d(640, eps=0.001, momentum=0.03, affine=True, track_running_stats=True)\n",
       "          (act): SiLU(inplace=True)\n",
       "        )\n",
       "        (cv2): Conv(\n",
       "          (conv): Conv2d(1600, 640, kernel_size=(1, 1), stride=(1, 1), bias=False)\n",
       "          (bn): BatchNorm2d(640, eps=0.001, momentum=0.03, affine=True, track_running_stats=True)\n",
       "          (act): SiLU(inplace=True)\n",
       "        )\n",
       "        (m): ModuleList(\n",
       "          (0-2): 3 x Bottleneck(\n",
       "            (cv1): Conv(\n",
       "              (conv): Conv2d(320, 320, kernel_size=(3, 3), stride=(1, 1), padding=(1, 1), bias=False)\n",
       "              (bn): BatchNorm2d(320, eps=0.001, momentum=0.03, affine=True, track_running_stats=True)\n",
       "              (act): SiLU(inplace=True)\n",
       "            )\n",
       "            (cv2): Conv(\n",
       "              (conv): Conv2d(320, 320, kernel_size=(3, 3), stride=(1, 1), padding=(1, 1), bias=False)\n",
       "              (bn): BatchNorm2d(320, eps=0.001, momentum=0.03, affine=True, track_running_stats=True)\n",
       "              (act): SiLU(inplace=True)\n",
       "            )\n",
       "          )\n",
       "        )\n",
       "      )\n",
       "      (9): SPPF(\n",
       "        (cv1): Conv(\n",
       "          (conv): Conv2d(640, 320, kernel_size=(1, 1), stride=(1, 1), bias=False)\n",
       "          (bn): BatchNorm2d(320, eps=0.001, momentum=0.03, affine=True, track_running_stats=True)\n",
       "          (act): SiLU(inplace=True)\n",
       "        )\n",
       "        (cv2): Conv(\n",
       "          (conv): Conv2d(1280, 640, kernel_size=(1, 1), stride=(1, 1), bias=False)\n",
       "          (bn): BatchNorm2d(640, eps=0.001, momentum=0.03, affine=True, track_running_stats=True)\n",
       "          (act): SiLU(inplace=True)\n",
       "        )\n",
       "        (m): MaxPool2d(kernel_size=5, stride=1, padding=2, dilation=1, ceil_mode=False)\n",
       "      )\n",
       "      (10): Upsample(scale_factor=2.0, mode='nearest')\n",
       "      (11): Concat()\n",
       "      (12): C2f(\n",
       "        (cv1): Conv(\n",
       "          (conv): Conv2d(1280, 640, kernel_size=(1, 1), stride=(1, 1), bias=False)\n",
       "          (bn): BatchNorm2d(640, eps=0.001, momentum=0.03, affine=True, track_running_stats=True)\n",
       "          (act): SiLU(inplace=True)\n",
       "        )\n",
       "        (cv2): Conv(\n",
       "          (conv): Conv2d(1600, 640, kernel_size=(1, 1), stride=(1, 1), bias=False)\n",
       "          (bn): BatchNorm2d(640, eps=0.001, momentum=0.03, affine=True, track_running_stats=True)\n",
       "          (act): SiLU(inplace=True)\n",
       "        )\n",
       "        (m): ModuleList(\n",
       "          (0-2): 3 x Bottleneck(\n",
       "            (cv1): Conv(\n",
       "              (conv): Conv2d(320, 320, kernel_size=(3, 3), stride=(1, 1), padding=(1, 1), bias=False)\n",
       "              (bn): BatchNorm2d(320, eps=0.001, momentum=0.03, affine=True, track_running_stats=True)\n",
       "              (act): SiLU(inplace=True)\n",
       "            )\n",
       "            (cv2): Conv(\n",
       "              (conv): Conv2d(320, 320, kernel_size=(3, 3), stride=(1, 1), padding=(1, 1), bias=False)\n",
       "              (bn): BatchNorm2d(320, eps=0.001, momentum=0.03, affine=True, track_running_stats=True)\n",
       "              (act): SiLU(inplace=True)\n",
       "            )\n",
       "          )\n",
       "        )\n",
       "      )\n",
       "      (13): Upsample(scale_factor=2.0, mode='nearest')\n",
       "      (14): Concat()\n",
       "      (15): C2f(\n",
       "        (cv1): Conv(\n",
       "          (conv): Conv2d(960, 320, kernel_size=(1, 1), stride=(1, 1), bias=False)\n",
       "          (bn): BatchNorm2d(320, eps=0.001, momentum=0.03, affine=True, track_running_stats=True)\n",
       "          (act): SiLU(inplace=True)\n",
       "        )\n",
       "        (cv2): Conv(\n",
       "          (conv): Conv2d(800, 320, kernel_size=(1, 1), stride=(1, 1), bias=False)\n",
       "          (bn): BatchNorm2d(320, eps=0.001, momentum=0.03, affine=True, track_running_stats=True)\n",
       "          (act): SiLU(inplace=True)\n",
       "        )\n",
       "        (m): ModuleList(\n",
       "          (0-2): 3 x Bottleneck(\n",
       "            (cv1): Conv(\n",
       "              (conv): Conv2d(160, 160, kernel_size=(3, 3), stride=(1, 1), padding=(1, 1), bias=False)\n",
       "              (bn): BatchNorm2d(160, eps=0.001, momentum=0.03, affine=True, track_running_stats=True)\n",
       "              (act): SiLU(inplace=True)\n",
       "            )\n",
       "            (cv2): Conv(\n",
       "              (conv): Conv2d(160, 160, kernel_size=(3, 3), stride=(1, 1), padding=(1, 1), bias=False)\n",
       "              (bn): BatchNorm2d(160, eps=0.001, momentum=0.03, affine=True, track_running_stats=True)\n",
       "              (act): SiLU(inplace=True)\n",
       "            )\n",
       "          )\n",
       "        )\n",
       "      )\n",
       "      (16): Conv(\n",
       "        (conv): Conv2d(320, 320, kernel_size=(3, 3), stride=(2, 2), padding=(1, 1), bias=False)\n",
       "        (bn): BatchNorm2d(320, eps=0.001, momentum=0.03, affine=True, track_running_stats=True)\n",
       "        (act): SiLU(inplace=True)\n",
       "      )\n",
       "      (17): Concat()\n",
       "      (18): C2f(\n",
       "        (cv1): Conv(\n",
       "          (conv): Conv2d(960, 640, kernel_size=(1, 1), stride=(1, 1), bias=False)\n",
       "          (bn): BatchNorm2d(640, eps=0.001, momentum=0.03, affine=True, track_running_stats=True)\n",
       "          (act): SiLU(inplace=True)\n",
       "        )\n",
       "        (cv2): Conv(\n",
       "          (conv): Conv2d(1600, 640, kernel_size=(1, 1), stride=(1, 1), bias=False)\n",
       "          (bn): BatchNorm2d(640, eps=0.001, momentum=0.03, affine=True, track_running_stats=True)\n",
       "          (act): SiLU(inplace=True)\n",
       "        )\n",
       "        (m): ModuleList(\n",
       "          (0-2): 3 x Bottleneck(\n",
       "            (cv1): Conv(\n",
       "              (conv): Conv2d(320, 320, kernel_size=(3, 3), stride=(1, 1), padding=(1, 1), bias=False)\n",
       "              (bn): BatchNorm2d(320, eps=0.001, momentum=0.03, affine=True, track_running_stats=True)\n",
       "              (act): SiLU(inplace=True)\n",
       "            )\n",
       "            (cv2): Conv(\n",
       "              (conv): Conv2d(320, 320, kernel_size=(3, 3), stride=(1, 1), padding=(1, 1), bias=False)\n",
       "              (bn): BatchNorm2d(320, eps=0.001, momentum=0.03, affine=True, track_running_stats=True)\n",
       "              (act): SiLU(inplace=True)\n",
       "            )\n",
       "          )\n",
       "        )\n",
       "      )\n",
       "      (19): Conv(\n",
       "        (conv): Conv2d(640, 640, kernel_size=(3, 3), stride=(2, 2), padding=(1, 1), bias=False)\n",
       "        (bn): BatchNorm2d(640, eps=0.001, momentum=0.03, affine=True, track_running_stats=True)\n",
       "        (act): SiLU(inplace=True)\n",
       "      )\n",
       "      (20): Concat()\n",
       "      (21): C2f(\n",
       "        (cv1): Conv(\n",
       "          (conv): Conv2d(1280, 640, kernel_size=(1, 1), stride=(1, 1), bias=False)\n",
       "          (bn): BatchNorm2d(640, eps=0.001, momentum=0.03, affine=True, track_running_stats=True)\n",
       "          (act): SiLU(inplace=True)\n",
       "        )\n",
       "        (cv2): Conv(\n",
       "          (conv): Conv2d(1600, 640, kernel_size=(1, 1), stride=(1, 1), bias=False)\n",
       "          (bn): BatchNorm2d(640, eps=0.001, momentum=0.03, affine=True, track_running_stats=True)\n",
       "          (act): SiLU(inplace=True)\n",
       "        )\n",
       "        (m): ModuleList(\n",
       "          (0-2): 3 x Bottleneck(\n",
       "            (cv1): Conv(\n",
       "              (conv): Conv2d(320, 320, kernel_size=(3, 3), stride=(1, 1), padding=(1, 1), bias=False)\n",
       "              (bn): BatchNorm2d(320, eps=0.001, momentum=0.03, affine=True, track_running_stats=True)\n",
       "              (act): SiLU(inplace=True)\n",
       "            )\n",
       "            (cv2): Conv(\n",
       "              (conv): Conv2d(320, 320, kernel_size=(3, 3), stride=(1, 1), padding=(1, 1), bias=False)\n",
       "              (bn): BatchNorm2d(320, eps=0.001, momentum=0.03, affine=True, track_running_stats=True)\n",
       "              (act): SiLU(inplace=True)\n",
       "            )\n",
       "          )\n",
       "        )\n",
       "      )\n",
       "      (22): Detect(\n",
       "        (cv2): ModuleList(\n",
       "          (0): Sequential(\n",
       "            (0): Conv(\n",
       "              (conv): Conv2d(320, 80, kernel_size=(3, 3), stride=(1, 1), padding=(1, 1), bias=False)\n",
       "              (bn): BatchNorm2d(80, eps=0.001, momentum=0.03, affine=True, track_running_stats=True)\n",
       "              (act): SiLU(inplace=True)\n",
       "            )\n",
       "            (1): Conv(\n",
       "              (conv): Conv2d(80, 80, kernel_size=(3, 3), stride=(1, 1), padding=(1, 1), bias=False)\n",
       "              (bn): BatchNorm2d(80, eps=0.001, momentum=0.03, affine=True, track_running_stats=True)\n",
       "              (act): SiLU(inplace=True)\n",
       "            )\n",
       "            (2): Conv2d(80, 64, kernel_size=(1, 1), stride=(1, 1))\n",
       "          )\n",
       "          (1-2): 2 x Sequential(\n",
       "            (0): Conv(\n",
       "              (conv): Conv2d(640, 80, kernel_size=(3, 3), stride=(1, 1), padding=(1, 1), bias=False)\n",
       "              (bn): BatchNorm2d(80, eps=0.001, momentum=0.03, affine=True, track_running_stats=True)\n",
       "              (act): SiLU(inplace=True)\n",
       "            )\n",
       "            (1): Conv(\n",
       "              (conv): Conv2d(80, 80, kernel_size=(3, 3), stride=(1, 1), padding=(1, 1), bias=False)\n",
       "              (bn): BatchNorm2d(80, eps=0.001, momentum=0.03, affine=True, track_running_stats=True)\n",
       "              (act): SiLU(inplace=True)\n",
       "            )\n",
       "            (2): Conv2d(80, 64, kernel_size=(1, 1), stride=(1, 1))\n",
       "          )\n",
       "        )\n",
       "        (cv3): ModuleList(\n",
       "          (0): Sequential(\n",
       "            (0): Conv(\n",
       "              (conv): Conv2d(320, 320, kernel_size=(3, 3), stride=(1, 1), padding=(1, 1), bias=False)\n",
       "              (bn): BatchNorm2d(320, eps=0.001, momentum=0.03, affine=True, track_running_stats=True)\n",
       "              (act): SiLU(inplace=True)\n",
       "            )\n",
       "            (1): Conv(\n",
       "              (conv): Conv2d(320, 320, kernel_size=(3, 3), stride=(1, 1), padding=(1, 1), bias=False)\n",
       "              (bn): BatchNorm2d(320, eps=0.001, momentum=0.03, affine=True, track_running_stats=True)\n",
       "              (act): SiLU(inplace=True)\n",
       "            )\n",
       "            (2): Conv2d(320, 4, kernel_size=(1, 1), stride=(1, 1))\n",
       "          )\n",
       "          (1-2): 2 x Sequential(\n",
       "            (0): Conv(\n",
       "              (conv): Conv2d(640, 320, kernel_size=(3, 3), stride=(1, 1), padding=(1, 1), bias=False)\n",
       "              (bn): BatchNorm2d(320, eps=0.001, momentum=0.03, affine=True, track_running_stats=True)\n",
       "              (act): SiLU(inplace=True)\n",
       "            )\n",
       "            (1): Conv(\n",
       "              (conv): Conv2d(320, 320, kernel_size=(3, 3), stride=(1, 1), padding=(1, 1), bias=False)\n",
       "              (bn): BatchNorm2d(320, eps=0.001, momentum=0.03, affine=True, track_running_stats=True)\n",
       "              (act): SiLU(inplace=True)\n",
       "            )\n",
       "            (2): Conv2d(320, 4, kernel_size=(1, 1), stride=(1, 1))\n",
       "          )\n",
       "        )\n",
       "        (dfl): DFL(\n",
       "          (conv): Conv2d(16, 1, kernel_size=(1, 1), stride=(1, 1), bias=False)\n",
       "        )\n",
       "      )\n",
       "    )\n",
       "  )\n",
       ")"
      ]
     },
     "execution_count": 5,
     "metadata": {},
     "output_type": "execute_result"
    }
   ],
   "source": [
    "model_path = \"/dkucc/home/oe23/Game-State-Reconstruction/ultralytics/runs/detect/train7/weights/best.pt\"  # Update if different\n",
    "\n",
    "BALL_ID = 0\n",
    "GOALKEEPER_ID = 1\n",
    "PLAYER_ID = 2\n",
    "REFEREE_ID = 3\n",
    "\n",
    "labels_dic = {\n",
    "    0:\"Ball\",\n",
    "    1:\"GK\",\n",
    "    2:\"Player\",\n",
    "    3:\"Referee\",\n",
    "}\n",
    "\n",
    "model_players = YOLO(model_path, verbose=False, silent=True)\n",
    "model_players.to(device)"
   ]
  },
  {
   "cell_type": "code",
   "execution_count": 6,
   "metadata": {},
   "outputs": [],
   "source": [
    "# Initialize frame counter\n",
    "frame_nbr = 0\n",
    "\n",
    "# Set confidence thresholds for players and field keypoints detections\n",
    "player_model_conf_thresh = 0.80\n",
    "\n",
    "# Set variable to record the time when we processed last frame \n",
    "prev_frame_time = 0\n",
    "# Set variable to record the time at which we processed current frame \n",
    "new_frame_time = 0\n",
    "\n",
    "# Store the ball track history\n",
    "ball_track_history = {'src':[],\n",
    "                      'dst':[]\n",
    "}\n",
    "\n",
    "# Count consecutive frames with no ball detected\n",
    "nbr_frames_no_ball = 0\n",
    "# Threshold for number of frames with no ball to reset ball track (frames)\n",
    "nbr_frames_no_ball_thresh = 30\n",
    "# Distance threshold for ball tracking (pixels)\n",
    "ball_track_dist_thresh = 100\n",
    "# Maximum ball track length (detections)\n",
    "max_track_length = 35\n",
    "\n",
    "# Initialize counters and storage for class detections\n",
    "class_detection_counts = {}"
   ]
  },
  {
   "cell_type": "code",
   "execution_count": 7,
   "metadata": {},
   "outputs": [],
   "source": [
    "video_path = '/dkucc/home/oe23/football_tracking/C0018_1.MP4'\n",
    "original_image = cv2.imread('/dkucc/home/oe23/football_tracking/frame.png')"
   ]
  },
  {
   "cell_type": "code",
   "execution_count": 8,
   "metadata": {},
   "outputs": [
    {
     "name": "stdout",
     "output_type": "stream",
     "text": [
      "Grass BGR color:  (33.598850721623705, 86.5013691081267, 64.37901022063008)\n"
     ]
    },
    {
     "data": {
      "image/png": "[encoded data removed]",
      "text/plain": [
       "<Figure size 640x480 with 1 Axes>"
      ]
     },
     "metadata": {},
     "output_type": "display_data"
    }
   ],
   "source": [
    "img = original_image\n",
    "hsv = cv2.cvtColor(original_image, cv2.COLOR_BGR2HSV)\n",
    "\n",
    "# Define a large range of green color in HSV\n",
    "lower_green = np.array([30, 40, 40])\n",
    "upper_green = np.array([80, 255, 255])\n",
    "\n",
    "# Threshold the HSV image to get only green colors\n",
    "mask = cv2.inRange(hsv, lower_green, upper_green)\n",
    "\n",
    "# Calculate the mean value of the pixels that are not masked\n",
    "masked_img = cv2.bitwise_and(img, img, mask=mask)\n",
    "plt.imshow(masked_img)\n",
    "grass_color = cv2.mean(img, mask=mask)\n",
    "grass_color = grass_color[:3]\n",
    "print(\"Grass BGR color: \", grass_color)"
   ]
  },
  {
   "cell_type": "code",
   "execution_count": 9,
   "metadata": {},
   "outputs": [],
   "source": [
    "# import cv2\n",
    "# import numpy as np\n",
    "# import random\n",
    "# from tqdm import tqdm\n",
    "# import os\n",
    "\n",
    "# # Video path\n",
    "# video_path = \"/dkucc/home/oe23/football_tracking/C0018_1.MP4\"\n",
    "\n",
    "# # Output path for saving crops\n",
    "# crops_output_folder = \"/dkucc/home/oe23/Game-State-Reconstruction/player_crops\"\n",
    "# os.makedirs(crops_output_folder, exist_ok=True)\n",
    "\n",
    "# # Initialize video capture\n",
    "# cap = cv2.VideoCapture(video_path)\n",
    "\n",
    "# # Get total number of frames\n",
    "# total_frames = int(cap.get(cv2.CAP_PROP_FRAME_COUNT))\n",
    "\n",
    "# # Model configurations\n",
    "# player_model_conf_thresh = 0.5  # Example confidence threshold\n",
    "# num_random_frames = 1000  # Number of random frames to sample\n",
    "\n",
    "# # Generate 1000 random frame indices\n",
    "# random_frames = sorted(random.sample(range(total_frames), num_random_frames))\n",
    "\n",
    "# # Placeholder for bounding boxes, labels, and confidence scores\n",
    "# all_bboxes = []\n",
    "# all_labels = []\n",
    "# all_confs = []\n",
    "\n",
    "# # Read and process random frames\n",
    "# crop_count = 0\n",
    "# for frame_idx in tqdm(random_frames, desc=\"Processing frames\"):\n",
    "#     # Seek to the specific frame\n",
    "#     cap.set(cv2.CAP_PROP_POS_FRAMES, frame_idx)\n",
    "#     ret, img = cap.read()\n",
    "#     if not ret:\n",
    "#         print(f\"Could not read frame {frame_idx}\")\n",
    "#         continue\n",
    "\n",
    "#     # Perform detection\n",
    "#     results_players = model_players(img, conf=player_model_conf_thresh)\n",
    "\n",
    "#     # Extract detection data\n",
    "#     bboxes_p = results_players[0].boxes.xyxy.cpu().numpy()\n",
    "#     labels_p = list(results_players[0].boxes.cls.cpu().numpy())\n",
    "#     confs_p = list(results_players[0].boxes.conf.cpu().numpy())\n",
    "\n",
    "#     all_bboxes.append(bboxes_p)\n",
    "#     all_labels.append(labels_p)\n",
    "#     all_confs.append(confs_p)\n",
    "\n",
    "#     # Extract player crops\n",
    "#     for i, label in enumerate(labels_p):\n",
    "#         if label == 2:  # Assuming '2' is the label for players\n",
    "#             x1, y1, x2, y2 = map(int, bboxes_p[i])\n",
    "#             player_img = img[y1:y2, x1:x2]\n",
    "\n",
    "#             if player_img.size > 0:  # Ensure the crop is valid\n",
    "#                 crop_file_path = os.path.join(crops_output_folder, f\"crop_{crop_count}.jpg\")\n",
    "#                 cv2.imwrite(crop_file_path, player_img)\n",
    "#                 crop_count += 1\n",
    "\n",
    "# # Release video capture\n",
    "# cap.release()\n",
    "\n",
    "# print(f\"Processed bounding boxes: {len(all_bboxes)}\")\n",
    "# print(f\"Saved {crop_count} player crops in {crops_output_folder}.\")\n"
   ]
  },
  {
   "cell_type": "code",
   "execution_count": 10,
   "metadata": {},
   "outputs": [
    {
     "name": "stdout",
     "output_type": "stream",
     "text": [
      "Loading crops...\n",
      "Loaded 18032 crops.\n",
      "Training the model...\n",
      "Model training completed.\n"
     ]
    }
   ],
   "source": [
    "import cv2\n",
    "import numpy as np\n",
    "from pathlib import Path\n",
    "from sports.common.team import TeamClassifier \n",
    "\n",
    "# Define paths to your dataset\n",
    "crops_output_folder = \"/dkucc/home/oe23/Game-State-Reconstruction/player_crops\"\n",
    "crops_folder = crops_output_folder # Path to folder containing image crops\n",
    "\n",
    "# Load crops\n",
    "def load_crops(crops_folder: str):\n",
    "    \"\"\"\n",
    "    Load image crops from the specified folder.\n",
    "\n",
    "    Args:\n",
    "        crops_folder (str): Path to the folder containing crops.\n",
    "\n",
    "    Returns:\n",
    "        List[np.ndarray]: List of loaded crops as numpy arrays.\n",
    "    \"\"\"\n",
    "    crops = []\n",
    "    for image_path in Path(crops_folder).glob(\"*.jpg\"):  # Adjust extension if needed\n",
    "        img = cv2.imread(str(image_path))\n",
    "        if img is not None:\n",
    "            crops.append(cv2.cvtColor(img, cv2.COLOR_BGR2RGB))\n",
    "    return crops\n",
    "\n",
    "# Instantiate the classifier\n",
    "classifier = TeamClassifier(device=device, batch_size=1024)\n",
    "\n",
    "# Load the crops\n",
    "print(\"Loading crops...\")\n",
    "crops = load_crops(crops_folder)\n",
    "print(f\"Loaded {len(crops)} crops.\")\n",
    "\n",
    "# Train the model\n",
    "print(\"Training the model...\")\n",
    "classifier.fit(crops)\n",
    "print(\"Model training completed.\")"
   ]
  },
  {
   "cell_type": "code",
   "execution_count": null,
   "metadata": {},
   "outputs": [
    {
     "name": "stderr",
     "output_type": "stream",
     "text": [
      "Processing Frames:   0%|                                                                                                                   | 1/3864 [00:00<02:44, 23.48frame/s, Frame=1, Second=0.02]"
     ]
    },
    {
     "name": "stdout",
     "output_type": "stream",
     "text": [
      "Frame number: 0\n",
      "Second : 0.0\n",
      "\n",
      "0: 736x1280 1 ball, 1 goalkeeper, 20 players, 2 referees, 180.5ms\n",
      "Speed: 11.2ms preprocess, 180.5ms inference, 11.7ms postprocess per image at shape (1, 3, 736, 1280)\n"
     ]
    },
    {
     "name": "stderr",
     "output_type": "stream",
     "text": [
      "Processing Frames:   0%|                                                                                                                 | 2/3864 [00:10<5:25:12,  5.05s/frame, Frame=2, Second=0.04]"
     ]
    },
    {
     "name": "stdout",
     "output_type": "stream",
     "text": [
      "Frame number: 1\n",
      "Second : 0.02\n",
      "\n",
      "0: 736x1280 1 ball, 1 goalkeeper, 21 players, 1 referee, 40.2ms\n",
      "Speed: 7.1ms preprocess, 40.2ms inference, 11.9ms postprocess per image at shape (1, 3, 736, 1280)\n"
     ]
    },
    {
     "name": "stderr",
     "output_type": "stream",
     "text": [
      "Processing Frames:   0%|                                                                                                                 | 3/3864 [00:10<3:16:26,  3.05s/frame, Frame=3, Second=0.06]"
     ]
    },
    {
     "name": "stdout",
     "output_type": "stream",
     "text": [
      "Frame number: 2\n",
      "Second : 0.04\n",
      "\n",
      "0: 736x1280 1 ball, 1 goalkeeper, 21 players, 1 referee, 40.3ms\n",
      "Speed: 9.8ms preprocess, 40.3ms inference, 12.0ms postprocess per image at shape (1, 3, 736, 1280)\n"
     ]
    },
    {
     "name": "stderr",
     "output_type": "stream",
     "text": [
      "Processing Frames:   0%|                                                                                                                 | 4/3864 [00:10<2:09:08,  2.01s/frame, Frame=4, Second=0.08]"
     ]
    },
    {
     "name": "stdout",
     "output_type": "stream",
     "text": [
      "Frame number: 3\n",
      "Second : 0.06\n",
      "\n",
      "0: 736x1280 1 ball, 1 goalkeeper, 21 players, 2 referees, 40.0ms\n",
      "Speed: 6.2ms preprocess, 40.0ms inference, 11.7ms postprocess per image at shape (1, 3, 736, 1280)\n"
     ]
    },
    {
     "name": "stderr",
     "output_type": "stream",
     "text": [
      "Processing Frames:   0%|▏                                                                                                                 | 5/3864 [00:10<1:29:05,  1.39s/frame, Frame=5, Second=0.1]"
     ]
    },
    {
     "name": "stdout",
     "output_type": "stream",
     "text": [
      "Frame number: 4\n",
      "Second : 0.08\n",
      "\n",
      "0: 736x1280 1 ball, 1 goalkeeper, 20 players, 2 referees, 36.8ms\n",
      "Speed: 19.8ms preprocess, 36.8ms inference, 1.7ms postprocess per image at shape (1, 3, 736, 1280)\n"
     ]
    },
    {
     "name": "stderr",
     "output_type": "stream",
     "text": [
      "Processing Frames:   0%|▏                                                                                                                | 6/3864 [00:11<1:04:37,  1.01s/frame, Frame=6, Second=0.12]"
     ]
    },
    {
     "name": "stdout",
     "output_type": "stream",
     "text": [
      "Frame number: 5\n",
      "Second : 0.1\n",
      "\n",
      "0: 736x1280 1 ball, 1 goalkeeper, 20 players, 2 referees, 29.7ms\n",
      "Speed: 24.2ms preprocess, 29.7ms inference, 1.3ms postprocess per image at shape (1, 3, 736, 1280)\n"
     ]
    },
    {
     "name": "stderr",
     "output_type": "stream",
     "text": [
      "Processing Frames:   0%|▏                                                                                                                  | 7/3864 [00:11<48:17,  1.33frame/s, Frame=7, Second=0.14]"
     ]
    },
    {
     "name": "stdout",
     "output_type": "stream",
     "text": [
      "Frame number: 6\n",
      "Second : 0.12\n",
      "\n",
      "0: 736x1280 1 ball, 1 goalkeeper, 20 players, 2 referees, 18.8ms\n",
      "Speed: 5.9ms preprocess, 18.8ms inference, 1.3ms postprocess per image at shape (1, 3, 736, 1280)\n"
     ]
    },
    {
     "name": "stderr",
     "output_type": "stream",
     "text": [
      "Processing Frames:   0%|▏                                                                                                                  | 8/3864 [00:11<36:32,  1.76frame/s, Frame=8, Second=0.16]"
     ]
    },
    {
     "name": "stdout",
     "output_type": "stream",
     "text": [
      "Frame number: 7\n",
      "Second : 0.14\n",
      "\n",
      "0: 736x1280 1 ball, 1 goalkeeper, 20 players, 2 referees, 40.3ms\n",
      "Speed: 7.7ms preprocess, 40.3ms inference, 11.9ms postprocess per image at shape (1, 3, 736, 1280)\n"
     ]
    },
    {
     "name": "stderr",
     "output_type": "stream",
     "text": [
      "Processing Frames:   0%|▎                                                                                                                  | 9/3864 [00:11<30:02,  2.14frame/s, Frame=9, Second=0.18]"
     ]
    },
    {
     "name": "stdout",
     "output_type": "stream",
     "text": [
      "Frame number: 8\n",
      "Second : 0.16\n",
      "\n",
      "0: 736x1280 1 ball, 1 goalkeeper, 20 players, 2 referees, 40.4ms\n",
      "Speed: 8.5ms preprocess, 40.4ms inference, 11.9ms postprocess per image at shape (1, 3, 736, 1280)\n"
     ]
    },
    {
     "name": "stderr",
     "output_type": "stream",
     "text": [
      "Processing Frames:   0%|▎                                                                                                                 | 10/3864 [00:11<25:35,  2.51frame/s, Frame=10, Second=0.2]"
     ]
    },
    {
     "name": "stdout",
     "output_type": "stream",
     "text": [
      "Frame number: 9\n",
      "Second : 0.18\n",
      "\n",
      "0: 736x1280 1 ball, 1 goalkeeper, 20 players, 2 referees, 28.1ms\n",
      "Speed: 6.2ms preprocess, 28.1ms inference, 4.7ms postprocess per image at shape (1, 3, 736, 1280)\n"
     ]
    },
    {
     "name": "stderr",
     "output_type": "stream",
     "text": [
      "Processing Frames:   0%|▎                                                                                                                | 11/3864 [00:12<22:09,  2.90frame/s, Frame=11, Second=0.22]"
     ]
    },
    {
     "name": "stdout",
     "output_type": "stream",
     "text": [
      "Frame number: 10\n",
      "Second : 0.2\n",
      "\n",
      "0: 736x1280 1 ball, 1 goalkeeper, 20 players, 2 referees, 40.3ms\n",
      "Speed: 7.8ms preprocess, 40.3ms inference, 11.9ms postprocess per image at shape (1, 3, 736, 1280)\n"
     ]
    },
    {
     "name": "stderr",
     "output_type": "stream",
     "text": [
      "Processing Frames:   0%|▎                                                                                                                | 12/3864 [00:12<20:20,  3.16frame/s, Frame=12, Second=0.24]"
     ]
    },
    {
     "name": "stdout",
     "output_type": "stream",
     "text": [
      "Frame number: 11\n",
      "Second : 0.22\n",
      "\n",
      "0: 736x1280 1 ball, 1 goalkeeper, 20 players, 2 referees, 19.3ms\n",
      "Speed: 5.8ms preprocess, 19.3ms inference, 1.3ms postprocess per image at shape (1, 3, 736, 1280)\n"
     ]
    },
    {
     "name": "stderr",
     "output_type": "stream",
     "text": [
      "Processing Frames:   0%|▍                                                                                                                | 13/3864 [00:12<17:31,  3.66frame/s, Frame=13, Second=0.26]"
     ]
    },
    {
     "name": "stdout",
     "output_type": "stream",
     "text": [
      "Frame number: 12\n",
      "Second : 0.24\n",
      "\n",
      "0: 736x1280 1 ball, 1 goalkeeper, 21 players, 1 referee, 40.3ms\n",
      "Speed: 7.3ms preprocess, 40.3ms inference, 11.8ms postprocess per image at shape (1, 3, 736, 1280)\n"
     ]
    },
    {
     "name": "stderr",
     "output_type": "stream",
     "text": [
      "Processing Frames:   0%|▍                                                                                                                | 14/3864 [00:12<17:01,  3.77frame/s, Frame=14, Second=0.28]"
     ]
    },
    {
     "name": "stdout",
     "output_type": "stream",
     "text": [
      "Frame number: 13\n",
      "Second : 0.26\n",
      "\n",
      "0: 736x1280 1 ball, 1 goalkeeper, 21 players, 2 referees, 40.1ms\n",
      "Speed: 6.7ms preprocess, 40.1ms inference, 11.9ms postprocess per image at shape (1, 3, 736, 1280)\n"
     ]
    },
    {
     "name": "stderr",
     "output_type": "stream",
     "text": [
      "Processing Frames:   0%|▍                                                                                                                 | 15/3864 [00:13<16:44,  3.83frame/s, Frame=15, Second=0.3]"
     ]
    },
    {
     "name": "stdout",
     "output_type": "stream",
     "text": [
      "Frame number: 14\n",
      "Second : 0.28\n",
      "\n",
      "0: 736x1280 1 goalkeeper, 21 players, 1 referee, 18.6ms\n",
      "Speed: 6.8ms preprocess, 18.6ms inference, 1.6ms postprocess per image at shape (1, 3, 736, 1280)\n"
     ]
    },
    {
     "name": "stderr",
     "output_type": "stream",
     "text": [
      "Processing Frames:   0%|▍                                                                                                                | 16/3864 [00:13<15:43,  4.08frame/s, Frame=16, Second=0.32]"
     ]
    },
    {
     "name": "stdout",
     "output_type": "stream",
     "text": [
      "Frame number: 15\n",
      "Second : 0.3\n",
      "\n",
      "0: 736x1280 1 ball, 1 goalkeeper, 21 players, 1 referee, 40.5ms\n",
      "Speed: 6.2ms preprocess, 40.5ms inference, 12.0ms postprocess per image at shape (1, 3, 736, 1280)\n"
     ]
    },
    {
     "name": "stderr",
     "output_type": "stream",
     "text": [
      "Processing Frames:   0%|▍                                                                                                                | 17/3864 [00:13<16:00,  4.01frame/s, Frame=17, Second=0.34]"
     ]
    },
    {
     "name": "stdout",
     "output_type": "stream",
     "text": [
      "Frame number: 16\n",
      "Second : 0.32\n",
      "\n",
      "0: 736x1280 1 ball, 1 goalkeeper, 21 players, 2 referees, 40.5ms\n",
      "Speed: 10.2ms preprocess, 40.5ms inference, 3.4ms postprocess per image at shape (1, 3, 736, 1280)\n",
      "Frame number: 17\n",
      "Second : 0.34\n"
     ]
    },
    {
     "name": "stderr",
     "output_type": "stream",
     "text": [
      "Processing Frames:   0%|▌                                                                                                                | 18/3864 [00:13<15:01,  4.27frame/s, Frame=18, Second=0.36]"
     ]
    },
    {
     "name": "stdout",
     "output_type": "stream",
     "text": [
      "\n",
      "0: 736x1280 1 ball, 1 goalkeeper, 21 players, 1 referee, 18.5ms\n",
      "Speed: 6.0ms preprocess, 18.5ms inference, 1.3ms postprocess per image at shape (1, 3, 736, 1280)\n"
     ]
    },
    {
     "name": "stderr",
     "output_type": "stream",
     "text": [
      "Processing Frames:   0%|▌                                                                                                                | 19/3864 [00:13<14:04,  4.55frame/s, Frame=19, Second=0.38]"
     ]
    },
    {
     "name": "stdout",
     "output_type": "stream",
     "text": [
      "Frame number: 18\n",
      "Second : 0.36\n",
      "\n",
      "0: 736x1280 1 goalkeeper, 20 players, 2 referees, 40.3ms\n",
      "Speed: 7.5ms preprocess, 40.3ms inference, 12.0ms postprocess per image at shape (1, 3, 736, 1280)\n"
     ]
    },
    {
     "name": "stderr",
     "output_type": "stream",
     "text": [
      "Processing Frames:   1%|▌                                                                                                                 | 20/3864 [00:14<14:21,  4.46frame/s, Frame=20, Second=0.4]"
     ]
    },
    {
     "name": "stdout",
     "output_type": "stream",
     "text": [
      "Frame number: 19\n",
      "Second : 0.38\n",
      "\n",
      "0: 736x1280 1 ball, 1 goalkeeper, 21 players, 1 referee, 40.5ms\n",
      "Speed: 6.6ms preprocess, 40.5ms inference, 12.0ms postprocess per image at shape (1, 3, 736, 1280)\n"
     ]
    },
    {
     "name": "stderr",
     "output_type": "stream",
     "text": [
      "Processing Frames:   1%|▌                                                                                                                | 21/3864 [00:14<14:49,  4.32frame/s, Frame=21, Second=0.42]"
     ]
    },
    {
     "name": "stdout",
     "output_type": "stream",
     "text": [
      "Frame number: 20\n",
      "Second : 0.4\n",
      "\n",
      "0: 736x1280 1 goalkeeper, 21 players, 1 referee, 40.5ms\n",
      "Speed: 6.0ms preprocess, 40.5ms inference, 12.0ms postprocess per image at shape (1, 3, 736, 1280)\n"
     ]
    },
    {
     "name": "stderr",
     "output_type": "stream",
     "text": [
      "Processing Frames:   1%|▋                                                                                                                | 22/3864 [00:14<14:56,  4.29frame/s, Frame=22, Second=0.44]"
     ]
    },
    {
     "name": "stdout",
     "output_type": "stream",
     "text": [
      "Frame number: 21\n",
      "Second : 0.42\n",
      "\n",
      "0: 736x1280 1 goalkeeper, 21 players, 1 referee, 39.8ms\n",
      "Speed: 8.9ms preprocess, 39.8ms inference, 11.7ms postprocess per image at shape (1, 3, 736, 1280)\n",
      "Frame number: 22\n",
      "Second : 0.44\n"
     ]
    },
    {
     "name": "stderr",
     "output_type": "stream",
     "text": [
      "Processing Frames:   1%|▋                                                                                                                | 23/3864 [00:14<15:42,  4.07frame/s, Frame=23, Second=0.46]"
     ]
    },
    {
     "name": "stdout",
     "output_type": "stream",
     "text": [
      "\n",
      "0: 736x1280 1 goalkeeper, 21 players, 1 referee, 40.6ms\n",
      "Speed: 7.5ms preprocess, 40.6ms inference, 12.0ms postprocess per image at shape (1, 3, 736, 1280)\n"
     ]
    },
    {
     "name": "stderr",
     "output_type": "stream",
     "text": [
      "Processing Frames:   1%|▋                                                                                                                | 24/3864 [00:15<16:45,  3.82frame/s, Frame=24, Second=0.48]"
     ]
    },
    {
     "name": "stdout",
     "output_type": "stream",
     "text": [
      "Frame number: 23\n",
      "Second : 0.46\n",
      "\n",
      "0: 736x1280 1 ball, 1 goalkeeper, 21 players, 1 referee, 18.5ms\n",
      "Speed: 6.1ms preprocess, 18.5ms inference, 1.9ms postprocess per image at shape (1, 3, 736, 1280)\n"
     ]
    },
    {
     "name": "stderr",
     "output_type": "stream",
     "text": [
      "Processing Frames:   1%|▋                                                                                                                 | 25/3864 [00:15<15:15,  4.19frame/s, Frame=25, Second=0.5]"
     ]
    },
    {
     "name": "stdout",
     "output_type": "stream",
     "text": [
      "Frame number: 24\n",
      "Second : 0.48\n",
      "\n",
      "0: 736x1280 1 goalkeeper, 20 players, 2 referees, 40.4ms\n",
      "Speed: 6.3ms preprocess, 40.4ms inference, 12.0ms postprocess per image at shape (1, 3, 736, 1280)\n"
     ]
    },
    {
     "name": "stderr",
     "output_type": "stream",
     "text": [
      "Processing Frames:   1%|▊                                                                                                                | 26/3864 [00:15<15:09,  4.22frame/s, Frame=26, Second=0.52]"
     ]
    },
    {
     "name": "stdout",
     "output_type": "stream",
     "text": [
      "Frame number: 25\n",
      "Second : 0.5\n",
      "\n",
      "0: 736x1280 1 goalkeeper, 19 players, 2 referees, 40.4ms\n",
      "Speed: 6.3ms preprocess, 40.4ms inference, 11.9ms postprocess per image at shape (1, 3, 736, 1280)\n"
     ]
    },
    {
     "name": "stderr",
     "output_type": "stream",
     "text": [
      "Processing Frames:   1%|▊                                                                                                                | 27/3864 [00:15<14:56,  4.28frame/s, Frame=27, Second=0.54]"
     ]
    },
    {
     "name": "stdout",
     "output_type": "stream",
     "text": [
      "Frame number: 26\n",
      "Second : 0.52\n",
      "\n",
      "0: 736x1280 1 ball, 1 goalkeeper, 20 players, 2 referees, 40.4ms\n",
      "Speed: 6.9ms preprocess, 40.4ms inference, 11.8ms postprocess per image at shape (1, 3, 736, 1280)\n"
     ]
    },
    {
     "name": "stderr",
     "output_type": "stream",
     "text": [
      "Processing Frames:   1%|▊                                                                                                                | 28/3864 [00:16<15:44,  4.06frame/s, Frame=28, Second=0.56]"
     ]
    },
    {
     "name": "stdout",
     "output_type": "stream",
     "text": [
      "Frame number: 27\n",
      "Second : 0.54\n",
      "\n",
      "0: 736x1280 1 ball, 1 goalkeeper, 20 players, 2 referees, 37.2ms\n",
      "Speed: 6.8ms preprocess, 37.2ms inference, 2.7ms postprocess per image at shape (1, 3, 736, 1280)\n"
     ]
    },
    {
     "name": "stderr",
     "output_type": "stream",
     "text": [
      "Processing Frames:   1%|▊                                                                                                                | 29/3864 [00:16<16:07,  3.96frame/s, Frame=29, Second=0.58]"
     ]
    },
    {
     "name": "stdout",
     "output_type": "stream",
     "text": [
      "Frame number: 28\n",
      "Second : 0.56\n",
      "\n",
      "0: 736x1280 1 ball, 1 goalkeeper, 20 players, 2 referees, 21.1ms\n",
      "Speed: 5.9ms preprocess, 21.1ms inference, 1.6ms postprocess per image at shape (1, 3, 736, 1280)\n"
     ]
    },
    {
     "name": "stderr",
     "output_type": "stream",
     "text": [
      "Processing Frames:   1%|▉                                                                                                                 | 30/3864 [00:16<15:11,  4.21frame/s, Frame=30, Second=0.6]"
     ]
    },
    {
     "name": "stdout",
     "output_type": "stream",
     "text": [
      "Frame number: 29\n",
      "Second : 0.58\n",
      "\n",
      "0: 736x1280 1 ball, 1 goalkeeper, 19 players, 2 referees, 18.9ms\n",
      "Speed: 5.9ms preprocess, 18.9ms inference, 1.3ms postprocess per image at shape (1, 3, 736, 1280)\n"
     ]
    },
    {
     "name": "stderr",
     "output_type": "stream",
     "text": [
      "Processing Frames:   1%|▉                                                                                                                | 31/3864 [00:16<14:02,  4.55frame/s, Frame=31, Second=0.62]"
     ]
    },
    {
     "name": "stdout",
     "output_type": "stream",
     "text": [
      "Frame number: 30\n",
      "Second : 0.6\n",
      "\n",
      "0: 736x1280 1 goalkeeper, 20 players, 2 referees, 35.7ms\n",
      "Speed: 7.6ms preprocess, 35.7ms inference, 11.9ms postprocess per image at shape (1, 3, 736, 1280)\n"
     ]
    },
    {
     "name": "stderr",
     "output_type": "stream",
     "text": [
      "Processing Frames:   1%|▉                                                                                                                | 32/3864 [00:17<14:12,  4.50frame/s, Frame=32, Second=0.64]"
     ]
    },
    {
     "name": "stdout",
     "output_type": "stream",
     "text": [
      "Frame number: 31\n",
      "Second : 0.62\n",
      "\n",
      "0: 736x1280 1 ball, 1 goalkeeper, 20 players, 2 referees, 40.4ms\n",
      "Speed: 9.2ms preprocess, 40.4ms inference, 12.0ms postprocess per image at shape (1, 3, 736, 1280)\n"
     ]
    },
    {
     "name": "stderr",
     "output_type": "stream",
     "text": [
      "Processing Frames:   1%|▉                                                                                                                | 33/3864 [00:17<14:35,  4.38frame/s, Frame=33, Second=0.66]"
     ]
    },
    {
     "name": "stdout",
     "output_type": "stream",
     "text": [
      "Frame number: 32\n",
      "Second : 0.64\n",
      "\n",
      "0: 736x1280 1 goalkeeper, 20 players, 2 referees, 33.3ms\n",
      "Speed: 5.9ms preprocess, 33.3ms inference, 2.6ms postprocess per image at shape (1, 3, 736, 1280)\n"
     ]
    },
    {
     "name": "stderr",
     "output_type": "stream",
     "text": [
      "Processing Frames:   1%|▉                                                                                                                | 34/3864 [00:17<14:49,  4.31frame/s, Frame=34, Second=0.68]"
     ]
    },
    {
     "name": "stdout",
     "output_type": "stream",
     "text": [
      "Frame number: 33\n",
      "Second : 0.66\n",
      "\n",
      "0: 736x1280 1 goalkeeper, 20 players, 2 referees, 40.6ms\n",
      "Speed: 7.1ms preprocess, 40.6ms inference, 12.0ms postprocess per image at shape (1, 3, 736, 1280)\n"
     ]
    },
    {
     "name": "stderr",
     "output_type": "stream",
     "text": [
      "Processing Frames:   1%|█                                                                                                                 | 35/3864 [00:17<14:46,  4.32frame/s, Frame=35, Second=0.7]"
     ]
    },
    {
     "name": "stdout",
     "output_type": "stream",
     "text": [
      "Frame number: 34\n",
      "Second : 0.68\n",
      "\n",
      "0: 736x1280 1 goalkeeper, 20 players, 2 referees, 28.4ms\n",
      "Speed: 6.6ms preprocess, 28.4ms inference, 1.8ms postprocess per image at shape (1, 3, 736, 1280)\n"
     ]
    },
    {
     "name": "stderr",
     "output_type": "stream",
     "text": [
      "Processing Frames:   1%|█                                                                                                                | 36/3864 [00:17<14:39,  4.35frame/s, Frame=36, Second=0.72]"
     ]
    },
    {
     "name": "stdout",
     "output_type": "stream",
     "text": [
      "Frame number: 35\n",
      "Second : 0.7\n",
      "\n",
      "0: 736x1280 1 goalkeeper, 20 players, 2 referees, 19.4ms\n",
      "Speed: 5.9ms preprocess, 19.4ms inference, 1.3ms postprocess per image at shape (1, 3, 736, 1280)\n"
     ]
    },
    {
     "name": "stderr",
     "output_type": "stream",
     "text": [
      "Processing Frames:   1%|█                                                                                                                | 37/3864 [00:18<13:51,  4.60frame/s, Frame=37, Second=0.74]"
     ]
    },
    {
     "name": "stdout",
     "output_type": "stream",
     "text": [
      "Frame number: 36\n",
      "Second : 0.72\n",
      "\n",
      "0: 736x1280 1 goalkeeper, 20 players, 2 referees, 43.5ms\n",
      "Speed: 7.8ms preprocess, 43.5ms inference, 12.0ms postprocess per image at shape (1, 3, 736, 1280)\n"
     ]
    },
    {
     "name": "stderr",
     "output_type": "stream",
     "text": [
      "Processing Frames:   1%|█                                                                                                                | 38/3864 [00:18<14:21,  4.44frame/s, Frame=38, Second=0.76]"
     ]
    },
    {
     "name": "stdout",
     "output_type": "stream",
     "text": [
      "Frame number: 37\n",
      "Second : 0.74\n",
      "\n",
      "0: 736x1280 1 goalkeeper, 20 players, 2 referees, 40.5ms\n",
      "Speed: 7.8ms preprocess, 40.5ms inference, 12.0ms postprocess per image at shape (1, 3, 736, 1280)\n"
     ]
    },
    {
     "name": "stderr",
     "output_type": "stream",
     "text": [
      "Processing Frames:   1%|█▏                                                                                                               | 39/3864 [00:18<14:34,  4.37frame/s, Frame=39, Second=0.78]"
     ]
    },
    {
     "name": "stdout",
     "output_type": "stream",
     "text": [
      "Frame number: 38\n",
      "Second : 0.76\n",
      "\n",
      "0: 736x1280 1 ball, 1 goalkeeper, 20 players, 2 referees, 40.3ms\n",
      "Speed: 8.1ms preprocess, 40.3ms inference, 12.0ms postprocess per image at shape (1, 3, 736, 1280)\n"
     ]
    },
    {
     "name": "stderr",
     "output_type": "stream",
     "text": [
      "Processing Frames:   1%|█▏                                                                                                                | 40/3864 [00:18<14:45,  4.32frame/s, Frame=40, Second=0.8]"
     ]
    },
    {
     "name": "stdout",
     "output_type": "stream",
     "text": [
      "Frame number: 39\n",
      "Second : 0.78\n",
      "\n",
      "0: 736x1280 1 goalkeeper, 21 players, 2 referees, 43.3ms\n",
      "Speed: 7.5ms preprocess, 43.3ms inference, 12.0ms postprocess per image at shape (1, 3, 736, 1280)\n"
     ]
    },
    {
     "name": "stderr",
     "output_type": "stream",
     "text": [
      "Processing Frames:   1%|█▏                                                                                                               | 41/3864 [00:19<14:49,  4.30frame/s, Frame=41, Second=0.82]"
     ]
    },
    {
     "name": "stdout",
     "output_type": "stream",
     "text": [
      "Frame number: 40\n",
      "Second : 0.8\n",
      "\n",
      "0: 736x1280 1 ball, 1 goalkeeper, 21 players, 1 referee, 39.9ms\n",
      "Speed: 8.6ms preprocess, 39.9ms inference, 11.7ms postprocess per image at shape (1, 3, 736, 1280)\n"
     ]
    },
    {
     "name": "stderr",
     "output_type": "stream",
     "text": [
      "Processing Frames:   1%|█▏                                                                                                               | 42/3864 [00:19<15:01,  4.24frame/s, Frame=42, Second=0.84]"
     ]
    },
    {
     "name": "stdout",
     "output_type": "stream",
     "text": [
      "Frame number: 41\n",
      "Second : 0.82\n",
      "\n",
      "0: 736x1280 1 goalkeeper, 20 players, 2 referees, 40.2ms\n",
      "Speed: 6.4ms preprocess, 40.2ms inference, 12.0ms postprocess per image at shape (1, 3, 736, 1280)\n"
     ]
    },
    {
     "name": "stderr",
     "output_type": "stream",
     "text": [
      "Processing Frames:   1%|█▎                                                                                                               | 43/3864 [00:19<15:03,  4.23frame/s, Frame=43, Second=0.86]"
     ]
    },
    {
     "name": "stdout",
     "output_type": "stream",
     "text": [
      "Frame number: 42\n",
      "Second : 0.84\n",
      "\n",
      "0: 736x1280 1 goalkeeper, 21 players, 2 referees, 21.8ms\n",
      "Speed: 5.8ms preprocess, 21.8ms inference, 1.6ms postprocess per image at shape (1, 3, 736, 1280)\n"
     ]
    },
    {
     "name": "stderr",
     "output_type": "stream",
     "text": [
      "Processing Frames:   1%|█▎                                                                                                               | 44/3864 [00:19<13:38,  4.67frame/s, Frame=44, Second=0.88]"
     ]
    },
    {
     "name": "stdout",
     "output_type": "stream",
     "text": [
      "Frame number: 43\n",
      "Second : 0.86\n",
      "\n",
      "0: 736x1280 1 goalkeeper, 20 players, 1 referee, 19.3ms\n",
      "Speed: 5.8ms preprocess, 19.3ms inference, 1.3ms postprocess per image at shape (1, 3, 736, 1280)\n"
     ]
    },
    {
     "name": "stderr",
     "output_type": "stream",
     "text": [
      "Processing Frames:   1%|█▎                                                                                                                | 45/3864 [00:19<12:55,  4.92frame/s, Frame=45, Second=0.9]"
     ]
    },
    {
     "name": "stdout",
     "output_type": "stream",
     "text": [
      "Frame number: 44\n",
      "Second : 0.88\n",
      "\n",
      "0: 736x1280 1 goalkeeper, 20 players, 2 referees, 40.5ms\n",
      "Speed: 7.2ms preprocess, 40.5ms inference, 12.0ms postprocess per image at shape (1, 3, 736, 1280)\n"
     ]
    },
    {
     "name": "stderr",
     "output_type": "stream",
     "text": [
      "Processing Frames:   1%|█▎                                                                                                               | 46/3864 [00:20<13:32,  4.70frame/s, Frame=46, Second=0.92]"
     ]
    },
    {
     "name": "stdout",
     "output_type": "stream",
     "text": [
      "Frame number: 45\n",
      "Second : 0.9\n",
      "\n",
      "0: 736x1280 1 goalkeeper, 20 players, 2 referees, 40.3ms\n",
      "Speed: 8.1ms preprocess, 40.3ms inference, 12.0ms postprocess per image at shape (1, 3, 736, 1280)\n"
     ]
    },
    {
     "name": "stderr",
     "output_type": "stream",
     "text": [
      "Processing Frames:   1%|█▎                                                                                                               | 47/3864 [00:20<13:57,  4.56frame/s, Frame=47, Second=0.94]"
     ]
    },
    {
     "name": "stdout",
     "output_type": "stream",
     "text": [
      "Frame number: 46\n",
      "Second : 0.92\n",
      "\n",
      "0: 736x1280 1 goalkeeper, 20 players, 2 referees, 37.5ms\n",
      "Speed: 6.0ms preprocess, 37.5ms inference, 1.6ms postprocess per image at shape (1, 3, 736, 1280)\n",
      "Frame number: 47\n",
      "Second : 0.94\n"
     ]
    },
    {
     "name": "stderr",
     "output_type": "stream",
     "text": [
      "Processing Frames:   1%|█▍                                                                                                               | 48/3864 [00:20<14:45,  4.31frame/s, Frame=48, Second=0.96]"
     ]
    },
    {
     "name": "stdout",
     "output_type": "stream",
     "text": [
      "\n",
      "0: 736x1280 1 goalkeeper, 21 players, 1 referee, 37.1ms\n",
      "Speed: 7.9ms preprocess, 37.1ms inference, 1.8ms postprocess per image at shape (1, 3, 736, 1280)\n"
     ]
    },
    {
     "name": "stderr",
     "output_type": "stream",
     "text": [
      "Processing Frames:   1%|█▍                                                                                                               | 49/3864 [00:20<15:24,  4.12frame/s, Frame=49, Second=0.98]"
     ]
    },
    {
     "name": "stdout",
     "output_type": "stream",
     "text": [
      "Frame number: 48\n",
      "Second : 0.96\n",
      "\n",
      "0: 736x1280 1 ball, 1 goalkeeper, 20 players, 2 referees, 18.9ms\n",
      "Speed: 6.0ms preprocess, 18.9ms inference, 1.7ms postprocess per image at shape (1, 3, 736, 1280)\n",
      "Frame number: 49\n",
      "Second : 0.98\n"
     ]
    },
    {
     "name": "stderr",
     "output_type": "stream",
     "text": [
      "Processing Frames:   1%|█▌                                                                                                                  | 50/3864 [00:21<14:34,  4.36frame/s, Frame=50, Second=1]"
     ]
    },
    {
     "name": "stdout",
     "output_type": "stream",
     "text": [
      "\n",
      "0: 736x1280 1 ball, 1 goalkeeper, 20 players, 2 referees, 40.2ms\n",
      "Speed: 6.2ms preprocess, 40.2ms inference, 12.0ms postprocess per image at shape (1, 3, 736, 1280)\n"
     ]
    },
    {
     "name": "stderr",
     "output_type": "stream",
     "text": [
      "Processing Frames:   1%|█▍                                                                                                               | 51/3864 [00:21<14:47,  4.30frame/s, Frame=51, Second=1.02]"
     ]
    },
    {
     "name": "stdout",
     "output_type": "stream",
     "text": [
      "Frame number: 50\n",
      "Second : 1.0\n",
      "\n",
      "0: 736x1280 1 ball, 1 goalkeeper, 21 players, 1 referee, 40.4ms\n",
      "Speed: 6.6ms preprocess, 40.4ms inference, 11.8ms postprocess per image at shape (1, 3, 736, 1280)\n"
     ]
    },
    {
     "name": "stderr",
     "output_type": "stream",
     "text": [
      "Processing Frames:   1%|█▌                                                                                                               | 52/3864 [00:21<14:55,  4.26frame/s, Frame=52, Second=1.04]"
     ]
    },
    {
     "name": "stdout",
     "output_type": "stream",
     "text": [
      "Frame number: 51\n",
      "Second : 1.02\n",
      "\n",
      "0: 736x1280 1 goalkeeper, 21 players, 1 referee, 40.3ms\n",
      "Speed: 7.0ms preprocess, 40.3ms inference, 11.7ms postprocess per image at shape (1, 3, 736, 1280)\n"
     ]
    },
    {
     "name": "stderr",
     "output_type": "stream",
     "text": [
      "Processing Frames:   1%|█▌                                                                                                               | 53/3864 [00:21<14:44,  4.31frame/s, Frame=53, Second=1.06]"
     ]
    },
    {
     "name": "stdout",
     "output_type": "stream",
     "text": [
      "Frame number: 52\n",
      "Second : 1.04\n",
      "\n",
      "0: 736x1280 1 ball, 1 goalkeeper, 20 players, 2 referees, 25.7ms\n",
      "Speed: 5.9ms preprocess, 25.7ms inference, 5.2ms postprocess per image at shape (1, 3, 736, 1280)\n"
     ]
    },
    {
     "name": "stderr",
     "output_type": "stream",
     "text": [
      "Processing Frames:   1%|█▌                                                                                                               | 54/3864 [00:22<14:14,  4.46frame/s, Frame=54, Second=1.08]"
     ]
    },
    {
     "name": "stdout",
     "output_type": "stream",
     "text": [
      "Frame number: 53\n",
      "Second : 1.06\n",
      "\n",
      "0: 736x1280 1 ball, 1 goalkeeper, 20 players, 1 referee, 20.6ms\n",
      "Speed: 5.9ms preprocess, 20.6ms inference, 7.3ms postprocess per image at shape (1, 3, 736, 1280)\n"
     ]
    },
    {
     "name": "stderr",
     "output_type": "stream",
     "text": [
      "Processing Frames:   1%|█▌                                                                                                                | 55/3864 [00:22<13:51,  4.58frame/s, Frame=55, Second=1.1]"
     ]
    },
    {
     "name": "stdout",
     "output_type": "stream",
     "text": [
      "Frame number: 54\n",
      "Second : 1.08\n",
      "\n",
      "0: 736x1280 1 ball, 1 goalkeeper, 21 players, 1 referee, 18.9ms\n",
      "Speed: 5.8ms preprocess, 18.9ms inference, 1.4ms postprocess per image at shape (1, 3, 736, 1280)\n"
     ]
    },
    {
     "name": "stderr",
     "output_type": "stream",
     "text": [
      "Processing Frames:   1%|█▋                                                                                                               | 56/3864 [00:22<13:08,  4.83frame/s, Frame=56, Second=1.12]"
     ]
    },
    {
     "name": "stdout",
     "output_type": "stream",
     "text": [
      "Frame number: 55\n",
      "Second : 1.1\n",
      "\n",
      "0: 736x1280 1 ball, 1 goalkeeper, 21 players, 40.4ms\n",
      "Speed: 7.4ms preprocess, 40.4ms inference, 11.9ms postprocess per image at shape (1, 3, 736, 1280)\n"
     ]
    },
    {
     "name": "stderr",
     "output_type": "stream",
     "text": [
      "Processing Frames:   1%|█▋                                                                                                               | 57/3864 [00:22<13:49,  4.59frame/s, Frame=57, Second=1.14]"
     ]
    },
    {
     "name": "stdout",
     "output_type": "stream",
     "text": [
      "Frame number: 56\n",
      "Second : 1.12\n",
      "\n",
      "0: 736x1280 2 balls, 1 goalkeeper, 21 players, 1 referee, 40.5ms\n",
      "Speed: 7.2ms preprocess, 40.5ms inference, 11.9ms postprocess per image at shape (1, 3, 736, 1280)\n"
     ]
    },
    {
     "name": "stderr",
     "output_type": "stream",
     "text": [
      "Processing Frames:   2%|█▋                                                                                                               | 58/3864 [00:22<14:06,  4.50frame/s, Frame=58, Second=1.16]"
     ]
    },
    {
     "name": "stdout",
     "output_type": "stream",
     "text": [
      "Frame number: 57\n",
      "Second : 1.14\n",
      "\n",
      "0: 736x1280 1 goalkeeper, 20 players, 20.8ms\n",
      "Speed: 6.2ms preprocess, 20.8ms inference, 11.8ms postprocess per image at shape (1, 3, 736, 1280)\n"
     ]
    },
    {
     "name": "stderr",
     "output_type": "stream",
     "text": [
      "Processing Frames:   2%|█▋                                                                                                               | 59/3864 [00:23<14:16,  4.44frame/s, Frame=59, Second=1.18]"
     ]
    },
    {
     "name": "stdout",
     "output_type": "stream",
     "text": [
      "Frame number: 58\n",
      "Second : 1.16\n",
      "\n",
      "0: 736x1280 1 ball, 1 goalkeeper, 21 players, 1 referee, 25.5ms\n",
      "Speed: 5.8ms preprocess, 25.5ms inference, 2.3ms postprocess per image at shape (1, 3, 736, 1280)\n"
     ]
    },
    {
     "name": "stderr",
     "output_type": "stream",
     "text": [
      "Processing Frames:   2%|█▊                                                                                                                | 60/3864 [00:23<14:04,  4.50frame/s, Frame=60, Second=1.2]"
     ]
    },
    {
     "name": "stdout",
     "output_type": "stream",
     "text": [
      "Frame number: 59\n",
      "Second : 1.18\n",
      "\n",
      "0: 736x1280 1 ball, 1 goalkeeper, 21 players, 1 referee, 19.4ms\n",
      "Speed: 6.1ms preprocess, 19.4ms inference, 1.3ms postprocess per image at shape (1, 3, 736, 1280)\n"
     ]
    },
    {
     "name": "stderr",
     "output_type": "stream",
     "text": [
      "Processing Frames:   2%|█▊                                                                                                               | 61/3864 [00:23<13:10,  4.81frame/s, Frame=61, Second=1.22]"
     ]
    },
    {
     "name": "stdout",
     "output_type": "stream",
     "text": [
      "Frame number: 60\n",
      "Second : 1.2\n",
      "\n",
      "0: 736x1280 1 goalkeeper, 20 players, 40.5ms\n",
      "Speed: 9.7ms preprocess, 40.5ms inference, 11.9ms postprocess per image at shape (1, 3, 736, 1280)\n"
     ]
    },
    {
     "name": "stderr",
     "output_type": "stream",
     "text": [
      "Processing Frames:   2%|█▊                                                                                                               | 62/3864 [00:23<13:39,  4.64frame/s, Frame=62, Second=1.24]"
     ]
    },
    {
     "name": "stdout",
     "output_type": "stream",
     "text": [
      "Frame number: 61\n",
      "Second : 1.22\n",
      "\n",
      "0: 736x1280 1 goalkeeper, 18 players, 1 referee, 40.3ms\n",
      "Speed: 7.1ms preprocess, 40.3ms inference, 12.1ms postprocess per image at shape (1, 3, 736, 1280)\n"
     ]
    },
    {
     "name": "stderr",
     "output_type": "stream",
     "text": [
      "Processing Frames:   2%|█▊                                                                                                               | 63/3864 [00:23<13:52,  4.57frame/s, Frame=63, Second=1.26]"
     ]
    },
    {
     "name": "stdout",
     "output_type": "stream",
     "text": [
      "Frame number: 62\n",
      "Second : 1.24\n",
      "\n",
      "0: 736x1280 1 goalkeeper, 19 players, 1 referee, 40.0ms\n",
      "Speed: 8.0ms preprocess, 40.0ms inference, 11.7ms postprocess per image at shape (1, 3, 736, 1280)\n"
     ]
    },
    {
     "name": "stderr",
     "output_type": "stream",
     "text": [
      "Processing Frames:   2%|█▊                                                                                                               | 64/3864 [00:24<14:51,  4.26frame/s, Frame=64, Second=1.28]"
     ]
    },
    {
     "name": "stdout",
     "output_type": "stream",
     "text": [
      "Frame number: 63\n",
      "Second : 1.26\n",
      "\n",
      "0: 736x1280 1 goalkeeper, 19 players, 1 referee, 40.5ms\n",
      "Speed: 7.9ms preprocess, 40.5ms inference, 11.9ms postprocess per image at shape (1, 3, 736, 1280)\n"
     ]
    },
    {
     "name": "stderr",
     "output_type": "stream",
     "text": [
      "Processing Frames:   2%|█▉                                                                                                                | 65/3864 [00:24<16:29,  3.84frame/s, Frame=65, Second=1.3]"
     ]
    },
    {
     "name": "stdout",
     "output_type": "stream",
     "text": [
      "Frame number: 64\n",
      "Second : 1.28\n",
      "\n",
      "0: 736x1280 1 goalkeeper, 20 players, 1 referee, 19.1ms\n",
      "Speed: 6.0ms preprocess, 19.1ms inference, 1.3ms postprocess per image at shape (1, 3, 736, 1280)\n",
      "Frame number: 65\n",
      "Second : 1.3\n"
     ]
    },
    {
     "name": "stderr",
     "output_type": "stream",
     "text": [
      "Processing Frames:   2%|█▉                                                                                                               | 66/3864 [00:24<15:18,  4.13frame/s, Frame=66, Second=1.32]"
     ]
    },
    {
     "name": "stdout",
     "output_type": "stream",
     "text": [
      "\n",
      "0: 736x1280 1 goalkeeper, 19 players, 1 referee, 40.4ms\n",
      "Speed: 7.6ms preprocess, 40.4ms inference, 11.9ms postprocess per image at shape (1, 3, 736, 1280)\n"
     ]
    },
    {
     "name": "stderr",
     "output_type": "stream",
     "text": [
      "Processing Frames:   2%|█▉                                                                                                               | 67/3864 [00:25<15:13,  4.16frame/s, Frame=67, Second=1.34]"
     ]
    },
    {
     "name": "stdout",
     "output_type": "stream",
     "text": [
      "Frame number: 66\n",
      "Second : 1.32\n",
      "\n",
      "0: 736x1280 1 ball, 1 goalkeeper, 19 players, 1 referee, 40.6ms\n",
      "Speed: 6.1ms preprocess, 40.6ms inference, 11.8ms postprocess per image at shape (1, 3, 736, 1280)\n"
     ]
    },
    {
     "name": "stderr",
     "output_type": "stream",
     "text": [
      "Processing Frames:   2%|█▉                                                                                                               | 68/3864 [00:25<16:15,  3.89frame/s, Frame=68, Second=1.36]"
     ]
    },
    {
     "name": "stdout",
     "output_type": "stream",
     "text": [
      "Frame number: 67\n",
      "Second : 1.34\n",
      "\n",
      "0: 736x1280 1 goalkeeper, 19 players, 1 referee, 39.9ms\n",
      "Speed: 9.2ms preprocess, 39.9ms inference, 9.5ms postprocess per image at shape (1, 3, 736, 1280)\n"
     ]
    },
    {
     "name": "stderr",
     "output_type": "stream",
     "text": [
      "Processing Frames:   2%|██                                                                                                               | 69/3864 [00:25<15:42,  4.03frame/s, Frame=69, Second=1.38]"
     ]
    },
    {
     "name": "stdout",
     "output_type": "stream",
     "text": [
      "Frame number: 68\n",
      "Second : 1.36\n",
      "\n",
      "0: 736x1280 1 ball, 1 goalkeeper, 19 players, 1 referee, 36.8ms\n",
      "Speed: 23.3ms preprocess, 36.8ms inference, 11.9ms postprocess per image at shape (1, 3, 736, 1280)\n"
     ]
    },
    {
     "name": "stderr",
     "output_type": "stream",
     "text": [
      "Processing Frames:   2%|██                                                                                                                | 70/3864 [00:25<16:04,  3.93frame/s, Frame=70, Second=1.4]"
     ]
    },
    {
     "name": "stdout",
     "output_type": "stream",
     "text": [
      "Frame number: 69\n",
      "Second : 1.38\n",
      "\n",
      "0: 736x1280 1 goalkeeper, 20 players, 1 referee, 42.7ms\n",
      "Speed: 12.4ms preprocess, 42.7ms inference, 11.9ms postprocess per image at shape (1, 3, 736, 1280)\n"
     ]
    },
    {
     "name": "stderr",
     "output_type": "stream",
     "text": [
      "Processing Frames:   2%|██                                                                                                               | 71/3864 [00:26<15:19,  4.13frame/s, Frame=71, Second=1.42]"
     ]
    },
    {
     "name": "stdout",
     "output_type": "stream",
     "text": [
      "Frame number: 70\n",
      "Second : 1.4\n",
      "\n",
      "0: 736x1280 1 ball, 1 goalkeeper, 19 players, 1 referee, 19.4ms\n",
      "Speed: 5.8ms preprocess, 19.4ms inference, 1.8ms postprocess per image at shape (1, 3, 736, 1280)\n"
     ]
    },
    {
     "name": "stderr",
     "output_type": "stream",
     "text": [
      "Processing Frames:   2%|██                                                                                                               | 72/3864 [00:26<14:05,  4.49frame/s, Frame=72, Second=1.44]"
     ]
    },
    {
     "name": "stdout",
     "output_type": "stream",
     "text": [
      "Frame number: 71\n",
      "Second : 1.42\n",
      "\n",
      "0: 736x1280 1 goalkeeper, 20 players, 1 referee, 40.3ms\n",
      "Speed: 7.8ms preprocess, 40.3ms inference, 11.8ms postprocess per image at shape (1, 3, 736, 1280)\n"
     ]
    },
    {
     "name": "stderr",
     "output_type": "stream",
     "text": [
      "Processing Frames:   2%|██▏                                                                                                              | 73/3864 [00:26<14:20,  4.40frame/s, Frame=73, Second=1.46]"
     ]
    },
    {
     "name": "stdout",
     "output_type": "stream",
     "text": [
      "Frame number: 72\n",
      "Second : 1.44\n",
      "\n",
      "0: 736x1280 1 goalkeeper, 19 players, 1 referee, 40.4ms\n",
      "Speed: 7.0ms preprocess, 40.4ms inference, 12.0ms postprocess per image at shape (1, 3, 736, 1280)\n"
     ]
    },
    {
     "name": "stderr",
     "output_type": "stream",
     "text": [
      "Processing Frames:   2%|██▏                                                                                                              | 74/3864 [00:26<14:32,  4.34frame/s, Frame=74, Second=1.48]"
     ]
    },
    {
     "name": "stdout",
     "output_type": "stream",
     "text": [
      "Frame number: 73\n",
      "Second : 1.46\n",
      "\n",
      "0: 736x1280 1 goalkeeper, 20 players, 1 referee, 39.8ms\n",
      "Speed: 7.5ms preprocess, 39.8ms inference, 11.8ms postprocess per image at shape (1, 3, 736, 1280)\n"
     ]
    },
    {
     "name": "stderr",
     "output_type": "stream",
     "text": [
      "Processing Frames:   2%|██▏                                                                                                               | 75/3864 [00:26<14:22,  4.39frame/s, Frame=75, Second=1.5]"
     ]
    },
    {
     "name": "stdout",
     "output_type": "stream",
     "text": [
      "Frame number: 74\n",
      "Second : 1.48\n",
      "\n",
      "0: 736x1280 1 goalkeeper, 21 players, 1 referee, 27.6ms\n",
      "Speed: 48.9ms preprocess, 27.6ms inference, 2.0ms postprocess per image at shape (1, 3, 736, 1280)\n"
     ]
    },
    {
     "name": "stderr",
     "output_type": "stream",
     "text": [
      "Processing Frames:   2%|██▏                                                                                                              | 76/3864 [00:27<14:39,  4.31frame/s, Frame=76, Second=1.52]"
     ]
    },
    {
     "name": "stdout",
     "output_type": "stream",
     "text": [
      "Frame number: 75\n",
      "Second : 1.5\n",
      "\n",
      "0: 736x1280 1 goalkeeper, 20 players, 1 referee, 41.1ms\n",
      "Speed: 6.8ms preprocess, 41.1ms inference, 20.3ms postprocess per image at shape (1, 3, 736, 1280)\n"
     ]
    },
    {
     "name": "stderr",
     "output_type": "stream",
     "text": [
      "Processing Frames:   2%|██▎                                                                                                              | 77/3864 [00:27<14:30,  4.35frame/s, Frame=77, Second=1.54]"
     ]
    },
    {
     "name": "stdout",
     "output_type": "stream",
     "text": [
      "Frame number: 76\n",
      "Second : 1.52\n",
      "\n",
      "0: 736x1280 1 goalkeeper, 20 players, 19.9ms\n",
      "Speed: 5.8ms preprocess, 19.9ms inference, 1.3ms postprocess per image at shape (1, 3, 736, 1280)\n"
     ]
    },
    {
     "name": "stderr",
     "output_type": "stream",
     "text": [
      "Processing Frames:   2%|██▎                                                                                                              | 78/3864 [00:27<13:36,  4.64frame/s, Frame=78, Second=1.56]"
     ]
    },
    {
     "name": "stdout",
     "output_type": "stream",
     "text": [
      "Frame number: 77\n",
      "Second : 1.54\n",
      "\n",
      "0: 736x1280 1 goalkeeper, 20 players, 1 referee, 40.2ms\n",
      "Speed: 6.1ms preprocess, 40.2ms inference, 12.0ms postprocess per image at shape (1, 3, 736, 1280)\n"
     ]
    },
    {
     "name": "stderr",
     "output_type": "stream",
     "text": [
      "Processing Frames:   2%|██▎                                                                                                              | 79/3864 [00:27<13:51,  4.55frame/s, Frame=79, Second=1.58]"
     ]
    },
    {
     "name": "stdout",
     "output_type": "stream",
     "text": [
      "Frame number: 78\n",
      "Second : 1.56\n",
      "\n",
      "0: 736x1280 1 ball, 1 goalkeeper, 20 players, 40.2ms\n",
      "Speed: 7.0ms preprocess, 40.2ms inference, 11.8ms postprocess per image at shape (1, 3, 736, 1280)\n"
     ]
    },
    {
     "name": "stderr",
     "output_type": "stream",
     "text": [
      "Processing Frames:   2%|██▎                                                                                                               | 80/3864 [00:28<14:05,  4.47frame/s, Frame=80, Second=1.6]"
     ]
    },
    {
     "name": "stdout",
     "output_type": "stream",
     "text": [
      "Frame number: 79\n",
      "Second : 1.58\n",
      "\n",
      "0: 736x1280 1 ball, 1 goalkeeper, 20 players, 1 referee, 32.8ms\n",
      "Speed: 5.6ms preprocess, 32.8ms inference, 2.5ms postprocess per image at shape (1, 3, 736, 1280)\n",
      "Frame number: 80\n",
      "Second : 1.6\n"
     ]
    },
    {
     "name": "stderr",
     "output_type": "stream",
     "text": [
      "Processing Frames:   2%|██▎                                                                                                              | 81/3864 [00:28<14:30,  4.35frame/s, Frame=81, Second=1.62]"
     ]
    },
    {
     "name": "stdout",
     "output_type": "stream",
     "text": [
      "\n",
      "0: 736x1280 1 ball, 1 goalkeeper, 20 players, 1 referee, 40.6ms\n",
      "Speed: 6.8ms preprocess, 40.6ms inference, 11.9ms postprocess per image at shape (1, 3, 736, 1280)\n"
     ]
    },
    {
     "name": "stderr",
     "output_type": "stream",
     "text": [
      "Processing Frames:   2%|██▍                                                                                                              | 82/3864 [00:28<15:43,  4.01frame/s, Frame=82, Second=1.64]"
     ]
    },
    {
     "name": "stdout",
     "output_type": "stream",
     "text": [
      "Frame number: 81\n",
      "Second : 1.62\n",
      "\n",
      "0: 736x1280 1 ball, 1 goalkeeper, 20 players, 1 referee, 18.9ms\n",
      "Speed: 6.2ms preprocess, 18.9ms inference, 1.3ms postprocess per image at shape (1, 3, 736, 1280)\n"
     ]
    },
    {
     "name": "stderr",
     "output_type": "stream",
     "text": [
      "Processing Frames:   2%|██▍                                                                                                              | 83/3864 [00:28<13:55,  4.53frame/s, Frame=83, Second=1.66]"
     ]
    },
    {
     "name": "stdout",
     "output_type": "stream",
     "text": [
      "Frame number: 82\n",
      "Second : 1.64\n",
      "\n",
      "0: 736x1280 1 ball, 1 goalkeeper, 20 players, 1 referee, 40.4ms\n",
      "Speed: 6.0ms preprocess, 40.4ms inference, 11.9ms postprocess per image at shape (1, 3, 736, 1280)\n"
     ]
    },
    {
     "name": "stderr",
     "output_type": "stream",
     "text": [
      "Processing Frames:   2%|██▍                                                                                                              | 84/3864 [00:28<14:05,  4.47frame/s, Frame=84, Second=1.68]"
     ]
    },
    {
     "name": "stdout",
     "output_type": "stream",
     "text": [
      "Frame number: 83\n",
      "Second : 1.66\n",
      "\n",
      "0: 736x1280 1 ball, 1 goalkeeper, 20 players, 1 referee, 40.5ms\n",
      "Speed: 9.2ms preprocess, 40.5ms inference, 12.0ms postprocess per image at shape (1, 3, 736, 1280)\n"
     ]
    },
    {
     "name": "stderr",
     "output_type": "stream",
     "text": [
      "Processing Frames:   2%|██▌                                                                                                               | 85/3864 [00:29<14:38,  4.30frame/s, Frame=85, Second=1.7]"
     ]
    },
    {
     "name": "stdout",
     "output_type": "stream",
     "text": [
      "Frame number: 84\n",
      "Second : 1.68\n",
      "\n",
      "0: 736x1280 1 goalkeeper, 20 players, 1 referee, 40.6ms\n",
      "Speed: 7.3ms preprocess, 40.6ms inference, 12.0ms postprocess per image at shape (1, 3, 736, 1280)\n"
     ]
    },
    {
     "name": "stderr",
     "output_type": "stream",
     "text": [
      "Processing Frames:   2%|██▌                                                                                                              | 86/3864 [00:29<15:16,  4.12frame/s, Frame=86, Second=1.72]"
     ]
    },
    {
     "name": "stdout",
     "output_type": "stream",
     "text": [
      "Frame number: 85\n",
      "Second : 1.7\n",
      "\n",
      "0: 736x1280 1 goalkeeper, 20 players, 1 referee, 40.5ms\n",
      "Speed: 7.7ms preprocess, 40.5ms inference, 11.9ms postprocess per image at shape (1, 3, 736, 1280)\n"
     ]
    },
    {
     "name": "stderr",
     "output_type": "stream",
     "text": [
      "Processing Frames:   2%|██▌                                                                                                              | 87/3864 [00:29<15:14,  4.13frame/s, Frame=87, Second=1.74]"
     ]
    },
    {
     "name": "stdout",
     "output_type": "stream",
     "text": [
      "Frame number: 86\n",
      "Second : 1.72\n",
      "\n",
      "0: 736x1280 1 goalkeeper, 20 players, 1 referee, 21.6ms\n",
      "Speed: 6.0ms preprocess, 21.6ms inference, 1.4ms postprocess per image at shape (1, 3, 736, 1280)\n"
     ]
    },
    {
     "name": "stderr",
     "output_type": "stream",
     "text": [
      "Processing Frames:   2%|██▌                                                                                                              | 88/3864 [00:29<14:35,  4.31frame/s, Frame=88, Second=1.76]"
     ]
    },
    {
     "name": "stdout",
     "output_type": "stream",
     "text": [
      "Frame number: 87\n",
      "Second : 1.74\n",
      "\n",
      "0: 736x1280 1 ball, 1 goalkeeper, 20 players, 1 referee, 40.5ms\n",
      "Speed: 6.3ms preprocess, 40.5ms inference, 12.0ms postprocess per image at shape (1, 3, 736, 1280)\n"
     ]
    },
    {
     "name": "stderr",
     "output_type": "stream",
     "text": [
      "Processing Frames:   2%|██▌                                                                                                              | 89/3864 [00:30<14:52,  4.23frame/s, Frame=89, Second=1.78]"
     ]
    },
    {
     "name": "stdout",
     "output_type": "stream",
     "text": [
      "Frame number: 88\n",
      "Second : 1.76\n",
      "\n",
      "0: 736x1280 1 ball, 1 goalkeeper, 19 players, 1 referee, 19.0ms\n",
      "Speed: 8.1ms preprocess, 19.0ms inference, 1.2ms postprocess per image at shape (1, 3, 736, 1280)\n"
     ]
    },
    {
     "name": "stderr",
     "output_type": "stream",
     "text": [
      "Processing Frames:   2%|██▋                                                                                                               | 90/3864 [00:30<13:26,  4.68frame/s, Frame=90, Second=1.8]"
     ]
    },
    {
     "name": "stdout",
     "output_type": "stream",
     "text": [
      "Frame number: 89\n",
      "Second : 1.78\n",
      "\n",
      "0: 736x1280 1 ball, 1 goalkeeper, 20 players, 2 referees, 19.6ms\n",
      "Speed: 5.8ms preprocess, 19.6ms inference, 2.5ms postprocess per image at shape (1, 3, 736, 1280)\n"
     ]
    },
    {
     "name": "stderr",
     "output_type": "stream",
     "text": [
      "Processing Frames:   2%|██▋                                                                                                              | 91/3864 [00:30<12:58,  4.85frame/s, Frame=91, Second=1.82]"
     ]
    },
    {
     "name": "stdout",
     "output_type": "stream",
     "text": [
      "Frame number: 90\n",
      "Second : 1.8\n",
      "\n",
      "0: 736x1280 20 players, 2 referees, 40.3ms\n",
      "Speed: 9.1ms preprocess, 40.3ms inference, 12.0ms postprocess per image at shape (1, 3, 736, 1280)\n"
     ]
    },
    {
     "name": "stderr",
     "output_type": "stream",
     "text": [
      "Processing Frames:   2%|██▋                                                                                                              | 92/3864 [00:30<13:27,  4.67frame/s, Frame=92, Second=1.84]"
     ]
    },
    {
     "name": "stdout",
     "output_type": "stream",
     "text": [
      "Frame number: 91\n",
      "Second : 1.82\n",
      "\n",
      "0: 736x1280 1 goalkeeper, 20 players, 2 referees, 40.2ms\n",
      "Speed: 7.7ms preprocess, 40.2ms inference, 12.0ms postprocess per image at shape (1, 3, 736, 1280)\n"
     ]
    },
    {
     "name": "stderr",
     "output_type": "stream",
     "text": [
      "Processing Frames:   2%|██▋                                                                                                              | 93/3864 [00:30<13:54,  4.52frame/s, Frame=93, Second=1.86]"
     ]
    },
    {
     "name": "stdout",
     "output_type": "stream",
     "text": [
      "Frame number: 92\n",
      "Second : 1.84\n",
      "\n",
      "0: 736x1280 20 players, 2 referees, 40.3ms\n",
      "Speed: 7.5ms preprocess, 40.3ms inference, 11.8ms postprocess per image at shape (1, 3, 736, 1280)\n"
     ]
    },
    {
     "name": "stderr",
     "output_type": "stream",
     "text": [
      "Processing Frames:   2%|██▋                                                                                                              | 94/3864 [00:31<14:38,  4.29frame/s, Frame=94, Second=1.88]"
     ]
    },
    {
     "name": "stdout",
     "output_type": "stream",
     "text": [
      "Frame number: 93\n",
      "Second : 1.86\n",
      "\n",
      "0: 736x1280 1 goalkeeper, 21 players, 1 referee, 25.8ms\n",
      "Speed: 16.8ms preprocess, 25.8ms inference, 1.7ms postprocess per image at shape (1, 3, 736, 1280)\n"
     ]
    },
    {
     "name": "stderr",
     "output_type": "stream",
     "text": [
      "Processing Frames:   2%|██▊                                                                                                               | 95/3864 [00:31<14:04,  4.46frame/s, Frame=95, Second=1.9]"
     ]
    },
    {
     "name": "stdout",
     "output_type": "stream",
     "text": [
      "Frame number: 94\n",
      "Second : 1.88\n",
      "\n",
      "0: 736x1280 21 players, 1 referee, 28.8ms\n",
      "Speed: 6.6ms preprocess, 28.8ms inference, 11.9ms postprocess per image at shape (1, 3, 736, 1280)\n"
     ]
    },
    {
     "name": "stderr",
     "output_type": "stream",
     "text": [
      "Processing Frames:   2%|██▊                                                                                                              | 96/3864 [00:31<13:41,  4.59frame/s, Frame=96, Second=1.92]"
     ]
    },
    {
     "name": "stdout",
     "output_type": "stream",
     "text": [
      "Frame number: 95\n",
      "Second : 1.9\n",
      "\n",
      "0: 736x1280 19 players, 2 referees, 19.7ms\n",
      "Speed: 5.8ms preprocess, 19.7ms inference, 1.3ms postprocess per image at shape (1, 3, 736, 1280)\n"
     ]
    },
    {
     "name": "stderr",
     "output_type": "stream",
     "text": [
      "Processing Frames:   3%|██▊                                                                                                              | 97/3864 [00:31<12:54,  4.86frame/s, Frame=97, Second=1.94]"
     ]
    },
    {
     "name": "stdout",
     "output_type": "stream",
     "text": [
      "Frame number: 96\n",
      "Second : 1.92\n",
      "\n",
      "0: 736x1280 1 goalkeeper, 19 players, 2 referees, 40.5ms\n",
      "Speed: 6.9ms preprocess, 40.5ms inference, 11.9ms postprocess per image at shape (1, 3, 736, 1280)\n"
     ]
    },
    {
     "name": "stderr",
     "output_type": "stream",
     "text": [
      "Processing Frames:   3%|██▊                                                                                                              | 98/3864 [00:32<13:28,  4.66frame/s, Frame=98, Second=1.96]"
     ]
    },
    {
     "name": "stdout",
     "output_type": "stream",
     "text": [
      "Frame number: 97\n",
      "Second : 1.94\n",
      "\n",
      "0: 736x1280 1 goalkeeper, 19 players, 2 referees, 40.4ms\n",
      "Speed: 7.4ms preprocess, 40.4ms inference, 11.9ms postprocess per image at shape (1, 3, 736, 1280)\n"
     ]
    },
    {
     "name": "stderr",
     "output_type": "stream",
     "text": [
      "Processing Frames:   3%|██▉                                                                                                              | 99/3864 [00:32<13:55,  4.51frame/s, Frame=99, Second=1.98]"
     ]
    },
    {
     "name": "stdout",
     "output_type": "stream",
     "text": [
      "Frame number: 98\n",
      "Second : 1.96\n",
      "\n",
      "0: 736x1280 21 players, 1 referee, 26.2ms\n",
      "Speed: 9.8ms preprocess, 26.2ms inference, 12.0ms postprocess per image at shape (1, 3, 736, 1280)\n"
     ]
    },
    {
     "name": "stderr",
     "output_type": "stream",
     "text": [
      "Processing Frames:   3%|██▉                                                                                                               | 100/3864 [00:32<14:27,  4.34frame/s, Frame=100, Second=2]"
     ]
    },
    {
     "name": "stdout",
     "output_type": "stream",
     "text": [
      "Frame number: 99\n",
      "Second : 1.98\n",
      "\n",
      "0: 736x1280 21 players, 1 referee, 35.1ms\n",
      "Speed: 5.9ms preprocess, 35.1ms inference, 11.9ms postprocess per image at shape (1, 3, 736, 1280)\n"
     ]
    },
    {
     "name": "stderr",
     "output_type": "stream",
     "text": [
      "Processing Frames:   3%|██▉                                                                                                            | 101/3864 [00:32<14:06,  4.45frame/s, Frame=101, Second=2.02]"
     ]
    },
    {
     "name": "stdout",
     "output_type": "stream",
     "text": [
      "Frame number: 100\n",
      "Second : 2.0\n",
      "\n",
      "0: 736x1280 20 players, 1 referee, 21.9ms\n",
      "Speed: 5.9ms preprocess, 21.9ms inference, 1.3ms postprocess per image at shape (1, 3, 736, 1280)\n"
     ]
    },
    {
     "name": "stderr",
     "output_type": "stream",
     "text": [
      "Processing Frames:   3%|██▉                                                                                                            | 102/3864 [00:32<13:28,  4.65frame/s, Frame=102, Second=2.04]"
     ]
    },
    {
     "name": "stdout",
     "output_type": "stream",
     "text": [
      "Frame number: 101\n",
      "Second : 2.02\n",
      "\n",
      "0: 736x1280 20 players, 1 referee, 40.4ms\n",
      "Speed: 7.5ms preprocess, 40.4ms inference, 11.9ms postprocess per image at shape (1, 3, 736, 1280)\n"
     ]
    },
    {
     "name": "stderr",
     "output_type": "stream",
     "text": [
      "Processing Frames:   3%|██▉                                                                                                            | 103/3864 [00:33<13:52,  4.52frame/s, Frame=103, Second=2.06]"
     ]
    },
    {
     "name": "stdout",
     "output_type": "stream",
     "text": [
      "Frame number: 102\n",
      "Second : 2.04\n",
      "\n",
      "0: 736x1280 20 players, 1 referee, 40.1ms\n",
      "Speed: 6.6ms preprocess, 40.1ms inference, 11.7ms postprocess per image at shape (1, 3, 736, 1280)\n"
     ]
    },
    {
     "name": "stderr",
     "output_type": "stream",
     "text": [
      "Processing Frames:   3%|██▉                                                                                                            | 104/3864 [00:33<14:46,  4.24frame/s, Frame=104, Second=2.08]"
     ]
    },
    {
     "name": "stdout",
     "output_type": "stream",
     "text": [
      "Frame number: 103\n",
      "Second : 2.06\n",
      "\n",
      "0: 736x1280 21 players, 1 referee, 43.5ms\n",
      "Speed: 6.4ms preprocess, 43.5ms inference, 12.0ms postprocess per image at shape (1, 3, 736, 1280)\n"
     ]
    },
    {
     "name": "stderr",
     "output_type": "stream",
     "text": [
      "Processing Frames:   3%|███                                                                                                             | 105/3864 [00:33<15:03,  4.16frame/s, Frame=105, Second=2.1]"
     ]
    },
    {
     "name": "stdout",
     "output_type": "stream",
     "text": [
      "Frame number: 104\n",
      "Second : 2.08\n",
      "\n",
      "0: 736x1280 20 players, 1 referee, 19.0ms\n",
      "Speed: 5.8ms preprocess, 19.0ms inference, 1.3ms postprocess per image at shape (1, 3, 736, 1280)\n"
     ]
    },
    {
     "name": "stderr",
     "output_type": "stream",
     "text": [
      "Processing Frames:   3%|███                                                                                                            | 106/3864 [00:33<13:44,  4.56frame/s, Frame=106, Second=2.12]"
     ]
    },
    {
     "name": "stdout",
     "output_type": "stream",
     "text": [
      "Frame number: 105\n",
      "Second : 2.1\n",
      "\n",
      "0: 736x1280 1 goalkeeper, 20 players, 1 referee, 40.5ms\n",
      "Speed: 6.0ms preprocess, 40.5ms inference, 12.0ms postprocess per image at shape (1, 3, 736, 1280)\n"
     ]
    },
    {
     "name": "stderr",
     "output_type": "stream",
     "text": [
      "Processing Frames:   3%|███                                                                                                            | 107/3864 [00:34<14:00,  4.47frame/s, Frame=107, Second=2.14]"
     ]
    },
    {
     "name": "stdout",
     "output_type": "stream",
     "text": [
      "Frame number: 106\n",
      "Second : 2.12\n",
      "\n",
      "0: 736x1280 19 players, 1 referee, 40.5ms\n",
      "Speed: 8.2ms preprocess, 40.5ms inference, 11.8ms postprocess per image at shape (1, 3, 736, 1280)\n"
     ]
    },
    {
     "name": "stderr",
     "output_type": "stream",
     "text": [
      "Processing Frames:   3%|███                                                                                                            | 108/3864 [00:34<14:12,  4.41frame/s, Frame=108, Second=2.16]"
     ]
    },
    {
     "name": "stdout",
     "output_type": "stream",
     "text": [
      "Frame number: 107\n",
      "Second : 2.14\n",
      "\n",
      "0: 736x1280 21 players, 1 referee, 31.2ms\n",
      "Speed: 7.1ms preprocess, 31.2ms inference, 4.1ms postprocess per image at shape (1, 3, 736, 1280)\n"
     ]
    },
    {
     "name": "stderr",
     "output_type": "stream",
     "text": [
      "Processing Frames:   3%|███▏                                                                                                           | 109/3864 [00:34<14:07,  4.43frame/s, Frame=109, Second=2.18]"
     ]
    },
    {
     "name": "stdout",
     "output_type": "stream",
     "text": [
      "Frame number: 108\n",
      "Second : 2.16\n",
      "\n",
      "0: 736x1280 21 players, 1 referee, 43.4ms\n",
      "Speed: 7.3ms preprocess, 43.4ms inference, 7.6ms postprocess per image at shape (1, 3, 736, 1280)\n"
     ]
    },
    {
     "name": "stderr",
     "output_type": "stream",
     "text": [
      "Processing Frames:   3%|███▏                                                                                                            | 110/3864 [00:34<14:26,  4.33frame/s, Frame=110, Second=2.2]"
     ]
    },
    {
     "name": "stdout",
     "output_type": "stream",
     "text": [
      "Frame number: 109\n",
      "Second : 2.18\n",
      "\n",
      "0: 736x1280 21 players, 1 referee, 19.0ms\n",
      "Speed: 5.9ms preprocess, 19.0ms inference, 1.3ms postprocess per image at shape (1, 3, 736, 1280)\n"
     ]
    },
    {
     "name": "stderr",
     "output_type": "stream",
     "text": [
      "Processing Frames:   3%|███▏                                                                                                           | 111/3864 [00:34<13:06,  4.77frame/s, Frame=111, Second=2.22]"
     ]
    },
    {
     "name": "stdout",
     "output_type": "stream",
     "text": [
      "Frame number: 110\n",
      "Second : 2.2\n",
      "\n",
      "0: 736x1280 21 players, 1 referee, 40.3ms\n",
      "Speed: 8.3ms preprocess, 40.3ms inference, 11.8ms postprocess per image at shape (1, 3, 736, 1280)\n"
     ]
    },
    {
     "name": "stderr",
     "output_type": "stream",
     "text": [
      "Processing Frames:   3%|███▏                                                                                                           | 112/3864 [00:35<13:35,  4.60frame/s, Frame=112, Second=2.24]"
     ]
    },
    {
     "name": "stdout",
     "output_type": "stream",
     "text": [
      "Frame number: 111\n",
      "Second : 2.22\n",
      "\n",
      "0: 736x1280 21 players, 1 referee, 40.2ms\n",
      "Speed: 7.3ms preprocess, 40.2ms inference, 11.9ms postprocess per image at shape (1, 3, 736, 1280)\n"
     ]
    },
    {
     "name": "stderr",
     "output_type": "stream",
     "text": [
      "Processing Frames:   3%|███▏                                                                                                           | 113/3864 [00:35<14:01,  4.46frame/s, Frame=113, Second=2.26]"
     ]
    },
    {
     "name": "stdout",
     "output_type": "stream",
     "text": [
      "Frame number: 112\n",
      "Second : 2.24\n",
      "\n",
      "0: 736x1280 20 players, 1 referee, 24.7ms\n",
      "Speed: 7.9ms preprocess, 24.7ms inference, 1.7ms postprocess per image at shape (1, 3, 736, 1280)\n"
     ]
    },
    {
     "name": "stderr",
     "output_type": "stream",
     "text": [
      "Processing Frames:   3%|███▎                                                                                                           | 114/3864 [00:35<13:49,  4.52frame/s, Frame=114, Second=2.28]"
     ]
    },
    {
     "name": "stdout",
     "output_type": "stream",
     "text": [
      "Frame number: 113\n",
      "Second : 2.26\n",
      "\n",
      "0: 736x1280 20 players, 1 referee, 40.3ms\n",
      "Speed: 7.2ms preprocess, 40.3ms inference, 12.0ms postprocess per image at shape (1, 3, 736, 1280)\n"
     ]
    },
    {
     "name": "stderr",
     "output_type": "stream",
     "text": [
      "Processing Frames:   3%|███▎                                                                                                            | 115/3864 [00:35<14:22,  4.35frame/s, Frame=115, Second=2.3]"
     ]
    },
    {
     "name": "stdout",
     "output_type": "stream",
     "text": [
      "Frame number: 114\n",
      "Second : 2.28\n",
      "\n",
      "0: 736x1280 21 players, 19.6ms\n",
      "Speed: 5.9ms preprocess, 19.6ms inference, 1.3ms postprocess per image at shape (1, 3, 736, 1280)\n"
     ]
    },
    {
     "name": "stderr",
     "output_type": "stream",
     "text": [
      "Processing Frames:   3%|███▎                                                                                                           | 116/3864 [00:36<13:19,  4.69frame/s, Frame=116, Second=2.32]"
     ]
    },
    {
     "name": "stdout",
     "output_type": "stream",
     "text": [
      "Frame number: 115\n",
      "Second : 2.3\n",
      "\n",
      "0: 736x1280 21 players, 40.4ms\n",
      "Speed: 7.6ms preprocess, 40.4ms inference, 11.9ms postprocess per image at shape (1, 3, 736, 1280)\n"
     ]
    },
    {
     "name": "stderr",
     "output_type": "stream",
     "text": [
      "Processing Frames:   3%|███▎                                                                                                           | 117/3864 [00:36<14:06,  4.43frame/s, Frame=117, Second=2.34]"
     ]
    },
    {
     "name": "stdout",
     "output_type": "stream",
     "text": [
      "Frame number: 116\n",
      "Second : 2.32\n",
      "\n",
      "0: 736x1280 22 players, 40.5ms\n",
      "Speed: 6.1ms preprocess, 40.5ms inference, 12.1ms postprocess per image at shape (1, 3, 736, 1280)\n"
     ]
    },
    {
     "name": "stderr",
     "output_type": "stream",
     "text": [
      "Processing Frames:   3%|███▍                                                                                                           | 118/3864 [00:36<14:20,  4.35frame/s, Frame=118, Second=2.36]"
     ]
    },
    {
     "name": "stdout",
     "output_type": "stream",
     "text": [
      "Frame number: 117\n",
      "Second : 2.34\n",
      "\n",
      "0: 736x1280 20 players, 1 referee, 40.6ms\n",
      "Speed: 6.8ms preprocess, 40.6ms inference, 11.8ms postprocess per image at shape (1, 3, 736, 1280)\n"
     ]
    },
    {
     "name": "stderr",
     "output_type": "stream",
     "text": [
      "Processing Frames:   3%|███▍                                                                                                           | 119/3864 [00:36<14:20,  4.35frame/s, Frame=119, Second=2.38]"
     ]
    },
    {
     "name": "stdout",
     "output_type": "stream",
     "text": [
      "Frame number: 118\n",
      "Second : 2.36\n",
      "\n",
      "0: 736x1280 1 goalkeeper, 20 players, 1 referee, 23.2ms\n",
      "Speed: 5.7ms preprocess, 23.2ms inference, 10.8ms postprocess per image at shape (1, 3, 736, 1280)\n"
     ]
    },
    {
     "name": "stderr",
     "output_type": "stream",
     "text": [
      "Processing Frames:   3%|███▍                                                                                                            | 120/3864 [00:37<14:49,  4.21frame/s, Frame=120, Second=2.4]"
     ]
    },
    {
     "name": "stdout",
     "output_type": "stream",
     "text": [
      "Frame number: 119\n",
      "Second : 2.38\n",
      "\n",
      "0: 736x1280 21 players, 1 referee, 21.5ms\n",
      "Speed: 6.1ms preprocess, 21.5ms inference, 1.8ms postprocess per image at shape (1, 3, 736, 1280)\n"
     ]
    },
    {
     "name": "stderr",
     "output_type": "stream",
     "text": [
      "Processing Frames:   3%|███▍                                                                                                           | 121/3864 [00:37<14:27,  4.32frame/s, Frame=121, Second=2.42]"
     ]
    },
    {
     "name": "stdout",
     "output_type": "stream",
     "text": [
      "Frame number: 120\n",
      "Second : 2.4\n",
      "\n",
      "0: 736x1280 21 players, 1 referee, 18.6ms\n",
      "Speed: 6.3ms preprocess, 18.6ms inference, 1.3ms postprocess per image at shape (1, 3, 736, 1280)\n"
     ]
    },
    {
     "name": "stderr",
     "output_type": "stream",
     "text": [
      "Processing Frames:   3%|███▌                                                                                                           | 122/3864 [00:37<13:16,  4.70frame/s, Frame=122, Second=2.44]"
     ]
    },
    {
     "name": "stdout",
     "output_type": "stream",
     "text": [
      "Frame number: 121\n",
      "Second : 2.42\n",
      "\n",
      "0: 736x1280 21 players, 2 referees, 40.4ms\n",
      "Speed: 6.6ms preprocess, 40.4ms inference, 11.9ms postprocess per image at shape (1, 3, 736, 1280)\n"
     ]
    },
    {
     "name": "stderr",
     "output_type": "stream",
     "text": [
      "Processing Frames:   3%|███▌                                                                                                           | 123/3864 [00:37<13:46,  4.53frame/s, Frame=123, Second=2.46]"
     ]
    },
    {
     "name": "stdout",
     "output_type": "stream",
     "text": [
      "Frame number: 122\n",
      "Second : 2.44\n",
      "\n",
      "0: 736x1280 21 players, 1 referee, 40.3ms\n",
      "Speed: 8.8ms preprocess, 40.3ms inference, 11.9ms postprocess per image at shape (1, 3, 736, 1280)\n"
     ]
    },
    {
     "name": "stderr",
     "output_type": "stream",
     "text": [
      "Processing Frames:   3%|███▌                                                                                                           | 124/3864 [00:37<15:18,  4.07frame/s, Frame=124, Second=2.48]"
     ]
    },
    {
     "name": "stdout",
     "output_type": "stream",
     "text": [
      "Frame number: 123\n",
      "Second : 2.46\n",
      "\n",
      "0: 736x1280 20 players, 2 referees, 20.5ms\n",
      "Speed: 6.4ms preprocess, 20.5ms inference, 2.7ms postprocess per image at shape (1, 3, 736, 1280)\n",
      "Frame number: 124\n",
      "Second : 2.48\n"
     ]
    },
    {
     "name": "stderr",
     "output_type": "stream",
     "text": [
      "Processing Frames:   3%|███▌                                                                                                            | 125/3864 [00:38<15:10,  4.11frame/s, Frame=125, Second=2.5]"
     ]
    },
    {
     "name": "stdout",
     "output_type": "stream",
     "text": [
      "\n",
      "0: 736x1280 19 players, 2 referees, 39.9ms\n",
      "Speed: 7.7ms preprocess, 39.9ms inference, 12.0ms postprocess per image at shape (1, 3, 736, 1280)\n"
     ]
    },
    {
     "name": "stderr",
     "output_type": "stream",
     "text": [
      "Processing Frames:   3%|███▌                                                                                                           | 126/3864 [00:38<15:17,  4.08frame/s, Frame=126, Second=2.52]"
     ]
    },
    {
     "name": "stdout",
     "output_type": "stream",
     "text": [
      "Frame number: 125\n",
      "Second : 2.5\n",
      "\n",
      "0: 736x1280 19 players, 1 referee, 22.8ms\n",
      "Speed: 6.8ms preprocess, 22.8ms inference, 2.1ms postprocess per image at shape (1, 3, 736, 1280)\n"
     ]
    },
    {
     "name": "stderr",
     "output_type": "stream",
     "text": [
      "Processing Frames:   3%|███▋                                                                                                           | 127/3864 [00:38<13:50,  4.50frame/s, Frame=127, Second=2.54]"
     ]
    },
    {
     "name": "stdout",
     "output_type": "stream",
     "text": [
      "Frame number: 126\n",
      "Second : 2.52\n",
      "\n",
      "0: 736x1280 1 goalkeeper, 18 players, 2 referees, 20.7ms\n",
      "Speed: 6.6ms preprocess, 20.7ms inference, 11.8ms postprocess per image at shape (1, 3, 736, 1280)\n"
     ]
    },
    {
     "name": "stderr",
     "output_type": "stream",
     "text": [
      "Processing Frames:   3%|███▋                                                                                                           | 128/3864 [00:38<13:30,  4.61frame/s, Frame=128, Second=2.56]"
     ]
    },
    {
     "name": "stdout",
     "output_type": "stream",
     "text": [
      "Frame number: 127\n",
      "Second : 2.54\n",
      "\n",
      "0: 736x1280 1 goalkeeper, 19 players, 2 referees, 40.5ms\n",
      "Speed: 7.4ms preprocess, 40.5ms inference, 11.9ms postprocess per image at shape (1, 3, 736, 1280)\n"
     ]
    },
    {
     "name": "stderr",
     "output_type": "stream",
     "text": [
      "Processing Frames:   3%|███▋                                                                                                           | 129/3864 [00:39<14:01,  4.44frame/s, Frame=129, Second=2.58]"
     ]
    },
    {
     "name": "stdout",
     "output_type": "stream",
     "text": [
      "Frame number: 128\n",
      "Second : 2.56\n",
      "\n",
      "0: 736x1280 1 goalkeeper, 19 players, 2 referees, 40.1ms\n",
      "Speed: 6.5ms preprocess, 40.1ms inference, 11.9ms postprocess per image at shape (1, 3, 736, 1280)\n"
     ]
    },
    {
     "name": "stderr",
     "output_type": "stream",
     "text": [
      "Processing Frames:   3%|███▊                                                                                                            | 130/3864 [00:39<14:07,  4.40frame/s, Frame=130, Second=2.6]"
     ]
    },
    {
     "name": "stdout",
     "output_type": "stream",
     "text": [
      "Frame number: 129\n",
      "Second : 2.58\n",
      "\n",
      "0: 736x1280 1 goalkeeper, 19 players, 1 referee, 40.4ms\n",
      "Speed: 7.9ms preprocess, 40.4ms inference, 12.2ms postprocess per image at shape (1, 3, 736, 1280)\n"
     ]
    },
    {
     "name": "stderr",
     "output_type": "stream",
     "text": [
      "Processing Frames:   3%|███▊                                                                                                           | 131/3864 [00:39<14:18,  4.35frame/s, Frame=131, Second=2.62]"
     ]
    },
    {
     "name": "stdout",
     "output_type": "stream",
     "text": [
      "Frame number: 130\n",
      "Second : 2.6\n",
      "\n",
      "0: 736x1280 1 goalkeeper, 18 players, 2 referees, 39.8ms\n",
      "Speed: 8.8ms preprocess, 39.8ms inference, 4.2ms postprocess per image at shape (1, 3, 736, 1280)\n"
     ]
    },
    {
     "name": "stderr",
     "output_type": "stream",
     "text": [
      "Processing Frames:   3%|███▊                                                                                                           | 132/3864 [00:39<15:07,  4.11frame/s, Frame=132, Second=2.64]"
     ]
    },
    {
     "name": "stdout",
     "output_type": "stream",
     "text": [
      "Frame number: 131\n",
      "Second : 2.62\n",
      "\n",
      "0: 736x1280 19 players, 2 referees, 40.5ms\n",
      "Speed: 6.3ms preprocess, 40.5ms inference, 12.0ms postprocess per image at shape (1, 3, 736, 1280)\n"
     ]
    },
    {
     "name": "stderr",
     "output_type": "stream",
     "text": [
      "Processing Frames:   3%|███▊                                                                                                           | 133/3864 [00:40<15:22,  4.05frame/s, Frame=133, Second=2.66]"
     ]
    },
    {
     "name": "stdout",
     "output_type": "stream",
     "text": [
      "Frame number: 132\n",
      "Second : 2.64\n",
      "\n",
      "0: 736x1280 19 players, 2 referees, 19.5ms\n",
      "Speed: 8.5ms preprocess, 19.5ms inference, 1.3ms postprocess per image at shape (1, 3, 736, 1280)\n"
     ]
    },
    {
     "name": "stderr",
     "output_type": "stream",
     "text": [
      "Processing Frames:   3%|███▊                                                                                                           | 134/3864 [00:40<13:58,  4.45frame/s, Frame=134, Second=2.68]"
     ]
    },
    {
     "name": "stdout",
     "output_type": "stream",
     "text": [
      "Frame number: 133\n",
      "Second : 2.66\n",
      "\n",
      "0: 736x1280 20 players, 1 referee, 19.2ms\n",
      "Speed: 5.9ms preprocess, 19.2ms inference, 1.3ms postprocess per image at shape (1, 3, 736, 1280)\n"
     ]
    },
    {
     "name": "stderr",
     "output_type": "stream",
     "text": [
      "Processing Frames:   3%|███▉                                                                                                            | 135/3864 [00:40<12:53,  4.82frame/s, Frame=135, Second=2.7]"
     ]
    },
    {
     "name": "stdout",
     "output_type": "stream",
     "text": [
      "Frame number: 134\n",
      "Second : 2.68\n",
      "\n",
      "0: 736x1280 19 players, 2 referees, 40.2ms\n",
      "Speed: 7.5ms preprocess, 40.2ms inference, 11.9ms postprocess per image at shape (1, 3, 736, 1280)\n"
     ]
    },
    {
     "name": "stderr",
     "output_type": "stream",
     "text": [
      "Processing Frames:   4%|███▉                                                                                                           | 136/3864 [00:40<13:19,  4.66frame/s, Frame=136, Second=2.72]"
     ]
    },
    {
     "name": "stdout",
     "output_type": "stream",
     "text": [
      "Frame number: 135\n",
      "Second : 2.7\n",
      "\n",
      "0: 736x1280 20 players, 2 referees, 40.0ms\n",
      "Speed: 7.8ms preprocess, 40.0ms inference, 12.0ms postprocess per image at shape (1, 3, 736, 1280)\n"
     ]
    },
    {
     "name": "stderr",
     "output_type": "stream",
     "text": [
      "Processing Frames:   4%|███▉                                                                                                           | 137/3864 [00:40<13:45,  4.51frame/s, Frame=137, Second=2.74]"
     ]
    },
    {
     "name": "stdout",
     "output_type": "stream",
     "text": [
      "Frame number: 136\n",
      "Second : 2.72\n",
      "\n",
      "0: 736x1280 20 players, 2 referees, 40.1ms\n",
      "Speed: 7.5ms preprocess, 40.1ms inference, 11.9ms postprocess per image at shape (1, 3, 736, 1280)\n"
     ]
    },
    {
     "name": "stderr",
     "output_type": "stream",
     "text": [
      "Processing Frames:   4%|███▉                                                                                                           | 138/3864 [00:41<14:12,  4.37frame/s, Frame=138, Second=2.76]"
     ]
    },
    {
     "name": "stdout",
     "output_type": "stream",
     "text": [
      "Frame number: 137\n",
      "Second : 2.74\n",
      "\n",
      "0: 736x1280 21 players, 1 referee, 18.9ms\n",
      "Speed: 6.7ms preprocess, 18.9ms inference, 1.7ms postprocess per image at shape (1, 3, 736, 1280)\n"
     ]
    },
    {
     "name": "stderr",
     "output_type": "stream",
     "text": [
      "Processing Frames:   4%|███▉                                                                                                           | 139/3864 [00:41<14:02,  4.42frame/s, Frame=139, Second=2.78]"
     ]
    },
    {
     "name": "stdout",
     "output_type": "stream",
     "text": [
      "Frame number: 138\n",
      "Second : 2.76\n",
      "\n",
      "0: 736x1280 21 players, 1 referee, 40.6ms\n",
      "Speed: 7.3ms preprocess, 40.6ms inference, 12.0ms postprocess per image at shape (1, 3, 736, 1280)\n"
     ]
    },
    {
     "name": "stderr",
     "output_type": "stream",
     "text": [
      "Processing Frames:   4%|████                                                                                                            | 140/3864 [00:41<14:37,  4.24frame/s, Frame=140, Second=2.8]"
     ]
    },
    {
     "name": "stdout",
     "output_type": "stream",
     "text": [
      "Frame number: 139\n",
      "Second : 2.78\n",
      "\n",
      "0: 736x1280 19 players, 2 referees, 18.7ms\n",
      "Speed: 5.9ms preprocess, 18.7ms inference, 1.3ms postprocess per image at shape (1, 3, 736, 1280)\n"
     ]
    },
    {
     "name": "stderr",
     "output_type": "stream",
     "text": [
      "Processing Frames:   4%|████                                                                                                           | 141/3864 [00:41<13:08,  4.72frame/s, Frame=141, Second=2.82]"
     ]
    },
    {
     "name": "stdout",
     "output_type": "stream",
     "text": [
      "Frame number: 140\n",
      "Second : 2.8\n",
      "\n",
      "0: 736x1280 19 players, 2 referees, 40.5ms\n",
      "Speed: 7.9ms preprocess, 40.5ms inference, 12.0ms postprocess per image at shape (1, 3, 736, 1280)\n"
     ]
    },
    {
     "name": "stderr",
     "output_type": "stream",
     "text": [
      "Processing Frames:   4%|████                                                                                                           | 142/3864 [00:42<13:29,  4.60frame/s, Frame=142, Second=2.84]"
     ]
    },
    {
     "name": "stdout",
     "output_type": "stream",
     "text": [
      "Frame number: 141\n",
      "Second : 2.82\n",
      "\n",
      "0: 736x1280 20 players, 2 referees, 40.4ms\n",
      "Speed: 7.2ms preprocess, 40.4ms inference, 11.9ms postprocess per image at shape (1, 3, 736, 1280)\n"
     ]
    },
    {
     "name": "stderr",
     "output_type": "stream",
     "text": [
      "Processing Frames:   4%|████                                                                                                           | 143/3864 [00:42<13:44,  4.51frame/s, Frame=143, Second=2.86]"
     ]
    },
    {
     "name": "stdout",
     "output_type": "stream",
     "text": [
      "Frame number: 142\n",
      "Second : 2.84\n",
      "\n",
      "0: 736x1280 19 players, 2 referees, 40.3ms\n",
      "Speed: 7.7ms preprocess, 40.3ms inference, 11.9ms postprocess per image at shape (1, 3, 736, 1280)\n"
     ]
    },
    {
     "name": "stderr",
     "output_type": "stream",
     "text": [
      "Processing Frames:   4%|████▏                                                                                                          | 144/3864 [00:42<14:01,  4.42frame/s, Frame=144, Second=2.88]"
     ]
    },
    {
     "name": "stdout",
     "output_type": "stream",
     "text": [
      "Frame number: 143\n",
      "Second : 2.86\n",
      "\n",
      "0: 736x1280 18 players, 2 referees, 25.2ms\n",
      "Speed: 6.9ms preprocess, 25.2ms inference, 12.4ms postprocess per image at shape (1, 3, 736, 1280)\n"
     ]
    },
    {
     "name": "stderr",
     "output_type": "stream",
     "text": [
      "Processing Frames:   4%|████▏                                                                                                           | 145/3864 [00:42<14:21,  4.32frame/s, Frame=145, Second=2.9]"
     ]
    },
    {
     "name": "stdout",
     "output_type": "stream",
     "text": [
      "Frame number: 144\n",
      "Second : 2.88\n",
      "\n",
      "0: 736x1280 1 goalkeeper, 19 players, 1 referee, 26.9ms\n",
      "Speed: 7.7ms preprocess, 26.9ms inference, 1.8ms postprocess per image at shape (1, 3, 736, 1280)\n"
     ]
    },
    {
     "name": "stderr",
     "output_type": "stream",
     "text": [
      "Processing Frames:   4%|████▏                                                                                                          | 146/3864 [00:42<13:51,  4.47frame/s, Frame=146, Second=2.92]"
     ]
    },
    {
     "name": "stdout",
     "output_type": "stream",
     "text": [
      "Frame number: 145\n",
      "Second : 2.9\n",
      "\n",
      "0: 736x1280 21 players, 1 referee, 19.2ms\n",
      "Speed: 5.9ms preprocess, 19.2ms inference, 1.2ms postprocess per image at shape (1, 3, 736, 1280)\n"
     ]
    },
    {
     "name": "stderr",
     "output_type": "stream",
     "text": [
      "Processing Frames:   4%|████▏                                                                                                          | 147/3864 [00:43<12:31,  4.94frame/s, Frame=147, Second=2.94]"
     ]
    },
    {
     "name": "stdout",
     "output_type": "stream",
     "text": [
      "Frame number: 146\n",
      "Second : 2.92\n",
      "\n",
      "0: 736x1280 21 players, 1 referee, 40.5ms\n",
      "Speed: 7.9ms preprocess, 40.5ms inference, 11.9ms postprocess per image at shape (1, 3, 736, 1280)\n"
     ]
    },
    {
     "name": "stderr",
     "output_type": "stream",
     "text": [
      "Processing Frames:   4%|████▎                                                                                                          | 148/3864 [00:43<13:05,  4.73frame/s, Frame=148, Second=2.96]"
     ]
    },
    {
     "name": "stdout",
     "output_type": "stream",
     "text": [
      "Frame number: 147\n",
      "Second : 2.94\n",
      "\n",
      "0: 736x1280 21 players, 2 referees, 40.4ms\n",
      "Speed: 7.6ms preprocess, 40.4ms inference, 11.9ms postprocess per image at shape (1, 3, 736, 1280)\n"
     ]
    },
    {
     "name": "stderr",
     "output_type": "stream",
     "text": [
      "Processing Frames:   4%|████▎                                                                                                          | 149/3864 [00:43<13:27,  4.60frame/s, Frame=149, Second=2.98]"
     ]
    },
    {
     "name": "stdout",
     "output_type": "stream",
     "text": [
      "Frame number: 148\n",
      "Second : 2.96\n",
      "\n",
      "0: 736x1280 20 players, 1 referee, 35.8ms\n",
      "Speed: 9.6ms preprocess, 35.8ms inference, 1.4ms postprocess per image at shape (1, 3, 736, 1280)\n",
      "Frame number: 149\n",
      "Second : 2.98\n"
     ]
    },
    {
     "name": "stderr",
     "output_type": "stream",
     "text": [
      "Processing Frames:   4%|████▍                                                                                                             | 150/3864 [00:43<13:05,  4.73frame/s, Frame=150, Second=3]"
     ]
    },
    {
     "name": "stdout",
     "output_type": "stream",
     "text": [
      "\n",
      "0: 736x1280 21 players, 1 referee, 39.9ms\n",
      "Speed: 7.5ms preprocess, 39.9ms inference, 12.0ms postprocess per image at shape (1, 3, 736, 1280)\n"
     ]
    },
    {
     "name": "stderr",
     "output_type": "stream",
     "text": [
      "Processing Frames:   4%|████▎                                                                                                          | 151/3864 [00:44<14:51,  4.17frame/s, Frame=151, Second=3.02]"
     ]
    },
    {
     "name": "stdout",
     "output_type": "stream",
     "text": [
      "Frame number: 150\n",
      "Second : 3.0\n",
      "\n",
      "0: 736x1280 22 players, 1 referee, 20.8ms\n",
      "Speed: 8.5ms preprocess, 20.8ms inference, 1.6ms postprocess per image at shape (1, 3, 736, 1280)\n"
     ]
    },
    {
     "name": "stderr",
     "output_type": "stream",
     "text": [
      "Processing Frames:   4%|████▎                                                                                                          | 152/3864 [00:44<14:20,  4.32frame/s, Frame=152, Second=3.04]"
     ]
    },
    {
     "name": "stdout",
     "output_type": "stream",
     "text": [
      "Frame number: 151\n",
      "Second : 3.02\n",
      "\n",
      "0: 736x1280 22 players, 2 referees, 40.3ms\n",
      "Speed: 8.0ms preprocess, 40.3ms inference, 12.0ms postprocess per image at shape (1, 3, 736, 1280)\n"
     ]
    },
    {
     "name": "stderr",
     "output_type": "stream",
     "text": [
      "Processing Frames:   4%|████▍                                                                                                          | 153/3864 [00:44<14:21,  4.31frame/s, Frame=153, Second=3.06]"
     ]
    },
    {
     "name": "stdout",
     "output_type": "stream",
     "text": [
      "Frame number: 152\n",
      "Second : 3.04\n",
      "\n",
      "0: 736x1280 19 players, 2 referees, 40.5ms\n",
      "Speed: 7.1ms preprocess, 40.5ms inference, 11.9ms postprocess per image at shape (1, 3, 736, 1280)\n"
     ]
    },
    {
     "name": "stderr",
     "output_type": "stream",
     "text": [
      "Processing Frames:   4%|████▍                                                                                                          | 154/3864 [00:44<14:20,  4.31frame/s, Frame=154, Second=3.08]"
     ]
    },
    {
     "name": "stdout",
     "output_type": "stream",
     "text": [
      "Frame number: 153\n",
      "Second : 3.06\n",
      "\n",
      "0: 736x1280 18 players, 2 referees, 18.6ms\n",
      "Speed: 6.6ms preprocess, 18.6ms inference, 1.5ms postprocess per image at shape (1, 3, 736, 1280)\n",
      "Frame number: 154\n",
      "Second : 3.08\n"
     ]
    },
    {
     "name": "stderr",
     "output_type": "stream",
     "text": [
      "Processing Frames:   4%|████▍                                                                                                           | 155/3864 [00:44<14:23,  4.29frame/s, Frame=155, Second=3.1]"
     ]
    },
    {
     "name": "stdout",
     "output_type": "stream",
     "text": [
      "\n",
      "0: 736x1280 18 players, 3 referees, 21.9ms\n",
      "Speed: 6.0ms preprocess, 21.9ms inference, 1.7ms postprocess per image at shape (1, 3, 736, 1280)\n"
     ]
    },
    {
     "name": "stderr",
     "output_type": "stream",
     "text": [
      "Processing Frames:   4%|████▍                                                                                                          | 156/3864 [00:45<13:37,  4.54frame/s, Frame=156, Second=3.12]"
     ]
    },
    {
     "name": "stdout",
     "output_type": "stream",
     "text": [
      "Frame number: 155\n",
      "Second : 3.1\n",
      "\n",
      "0: 736x1280 18 players, 2 referees, 19.3ms\n",
      "Speed: 5.9ms preprocess, 19.3ms inference, 1.4ms postprocess per image at shape (1, 3, 736, 1280)\n"
     ]
    },
    {
     "name": "stderr",
     "output_type": "stream",
     "text": [
      "Processing Frames:   4%|████▌                                                                                                          | 157/3864 [00:45<12:41,  4.87frame/s, Frame=157, Second=3.14]"
     ]
    },
    {
     "name": "stdout",
     "output_type": "stream",
     "text": [
      "Frame number: 156\n",
      "Second : 3.12\n",
      "\n",
      "0: 736x1280 20 players, 1 referee, 39.7ms\n",
      "Speed: 7.0ms preprocess, 39.7ms inference, 11.7ms postprocess per image at shape (1, 3, 736, 1280)\n"
     ]
    },
    {
     "name": "stderr",
     "output_type": "stream",
     "text": [
      "Processing Frames:   4%|████▌                                                                                                          | 158/3864 [00:45<13:14,  4.66frame/s, Frame=158, Second=3.16]"
     ]
    },
    {
     "name": "stdout",
     "output_type": "stream",
     "text": [
      "Frame number: 157\n",
      "Second : 3.14\n",
      "\n",
      "0: 736x1280 20 players, 1 referee, 40.3ms\n",
      "Speed: 9.1ms preprocess, 40.3ms inference, 11.9ms postprocess per image at shape (1, 3, 736, 1280)\n"
     ]
    },
    {
     "name": "stderr",
     "output_type": "stream",
     "text": [
      "Processing Frames:   4%|████▌                                                                                                          | 159/3864 [00:45<13:36,  4.54frame/s, Frame=159, Second=3.18]"
     ]
    },
    {
     "name": "stdout",
     "output_type": "stream",
     "text": [
      "Frame number: 158\n",
      "Second : 3.16\n",
      "\n",
      "0: 736x1280 21 players, 1 referee, 38.9ms\n",
      "Speed: 8.0ms preprocess, 38.9ms inference, 1.7ms postprocess per image at shape (1, 3, 736, 1280)\n"
     ]
    },
    {
     "name": "stderr",
     "output_type": "stream",
     "text": [
      "Processing Frames:   4%|████▋                                                                                                           | 160/3864 [00:45<12:56,  4.77frame/s, Frame=160, Second=3.2]"
     ]
    },
    {
     "name": "stdout",
     "output_type": "stream",
     "text": [
      "Frame number: 159\n",
      "Second : 3.18\n",
      "\n",
      "0: 736x1280 20 players, 1 referee, 21.9ms\n",
      "Speed: 10.1ms preprocess, 21.9ms inference, 1.4ms postprocess per image at shape (1, 3, 736, 1280)\n"
     ]
    },
    {
     "name": "stderr",
     "output_type": "stream",
     "text": [
      "Processing Frames:   4%|████▋                                                                                                          | 161/3864 [00:46<12:55,  4.78frame/s, Frame=161, Second=3.22]"
     ]
    },
    {
     "name": "stdout",
     "output_type": "stream",
     "text": [
      "Frame number: 160\n",
      "Second : 3.2\n",
      "\n",
      "0: 736x1280 1 goalkeeper, 20 players, 1 referee, 40.4ms\n",
      "Speed: 6.5ms preprocess, 40.4ms inference, 24.5ms postprocess per image at shape (1, 3, 736, 1280)\n"
     ]
    },
    {
     "name": "stderr",
     "output_type": "stream",
     "text": [
      "Processing Frames:   4%|████▋                                                                                                          | 162/3864 [00:46<13:12,  4.67frame/s, Frame=162, Second=3.24]"
     ]
    },
    {
     "name": "stdout",
     "output_type": "stream",
     "text": [
      "Frame number: 161\n",
      "Second : 3.22\n",
      "\n",
      "0: 736x1280 1 goalkeeper, 19 players, 1 referee, 21.2ms\n",
      "Speed: 5.9ms preprocess, 21.2ms inference, 1.3ms postprocess per image at shape (1, 3, 736, 1280)\n"
     ]
    },
    {
     "name": "stderr",
     "output_type": "stream",
     "text": [
      "Processing Frames:   4%|████▋                                                                                                          | 163/3864 [00:46<12:45,  4.83frame/s, Frame=163, Second=3.26]"
     ]
    },
    {
     "name": "stdout",
     "output_type": "stream",
     "text": [
      "Frame number: 162\n",
      "Second : 3.24\n",
      "\n",
      "0: 736x1280 20 players, 1 referee, 40.6ms\n",
      "Speed: 7.5ms preprocess, 40.6ms inference, 11.9ms postprocess per image at shape (1, 3, 736, 1280)\n"
     ]
    },
    {
     "name": "stderr",
     "output_type": "stream",
     "text": [
      "Processing Frames:   4%|████▋                                                                                                          | 164/3864 [00:46<13:12,  4.67frame/s, Frame=164, Second=3.28]"
     ]
    },
    {
     "name": "stdout",
     "output_type": "stream",
     "text": [
      "Frame number: 163\n",
      "Second : 3.26\n",
      "\n",
      "0: 736x1280 20 players, 1 referee, 40.0ms\n",
      "Speed: 7.6ms preprocess, 40.0ms inference, 11.6ms postprocess per image at shape (1, 3, 736, 1280)\n"
     ]
    },
    {
     "name": "stderr",
     "output_type": "stream",
     "text": [
      "Processing Frames:   4%|████▊                                                                                                           | 165/3864 [00:47<13:30,  4.56frame/s, Frame=165, Second=3.3]"
     ]
    },
    {
     "name": "stdout",
     "output_type": "stream",
     "text": [
      "Frame number: 164\n",
      "Second : 3.28\n",
      "\n",
      "0: 736x1280 1 goalkeeper, 20 players, 1 referee, 26.8ms\n",
      "Speed: 38.5ms preprocess, 26.8ms inference, 1.7ms postprocess per image at shape (1, 3, 736, 1280)\n"
     ]
    },
    {
     "name": "stderr",
     "output_type": "stream",
     "text": [
      "Processing Frames:   4%|████▊                                                                                                          | 166/3864 [00:47<14:33,  4.24frame/s, Frame=166, Second=3.32]"
     ]
    },
    {
     "name": "stdout",
     "output_type": "stream",
     "text": [
      "Frame number: 165\n",
      "Second : 3.3\n",
      "\n",
      "0: 736x1280 1 goalkeeper, 19 players, 2 referees, 40.7ms\n",
      "Speed: 6.6ms preprocess, 40.7ms inference, 10.5ms postprocess per image at shape (1, 3, 736, 1280)\n"
     ]
    },
    {
     "name": "stderr",
     "output_type": "stream",
     "text": [
      "Processing Frames:   4%|████▊                                                                                                          | 167/3864 [00:47<13:44,  4.48frame/s, Frame=167, Second=3.34]"
     ]
    },
    {
     "name": "stdout",
     "output_type": "stream",
     "text": [
      "Frame number: 166\n",
      "Second : 3.32\n",
      "\n",
      "0: 736x1280 1 goalkeeper, 19 players, 1 referee, 19.3ms\n",
      "Speed: 5.9ms preprocess, 19.3ms inference, 1.3ms postprocess per image at shape (1, 3, 736, 1280)\n"
     ]
    },
    {
     "name": "stderr",
     "output_type": "stream",
     "text": [
      "Processing Frames:   4%|████▊                                                                                                          | 168/3864 [00:47<13:00,  4.73frame/s, Frame=168, Second=3.36]"
     ]
    },
    {
     "name": "stdout",
     "output_type": "stream",
     "text": [
      "Frame number: 167\n",
      "Second : 3.34\n",
      "\n",
      "0: 736x1280 1 goalkeeper, 19 players, 1 referee, 40.1ms\n",
      "Speed: 7.9ms preprocess, 40.1ms inference, 11.9ms postprocess per image at shape (1, 3, 736, 1280)\n"
     ]
    },
    {
     "name": "stderr",
     "output_type": "stream",
     "text": [
      "Processing Frames:   4%|████▊                                                                                                          | 169/3864 [00:47<13:34,  4.54frame/s, Frame=169, Second=3.38]"
     ]
    },
    {
     "name": "stdout",
     "output_type": "stream",
     "text": [
      "Frame number: 168\n",
      "Second : 3.36\n",
      "\n",
      "0: 736x1280 19 players, 1 referee, 40.4ms\n",
      "Speed: 7.8ms preprocess, 40.4ms inference, 11.8ms postprocess per image at shape (1, 3, 736, 1280)\n"
     ]
    },
    {
     "name": "stderr",
     "output_type": "stream",
     "text": [
      "Processing Frames:   4%|████▉                                                                                                           | 170/3864 [00:48<13:40,  4.50frame/s, Frame=170, Second=3.4]"
     ]
    },
    {
     "name": "stdout",
     "output_type": "stream",
     "text": [
      "Frame number: 169\n",
      "Second : 3.38\n",
      "\n",
      "0: 736x1280 1 goalkeeper, 19 players, 1 referee, 34.1ms\n",
      "Speed: 13.7ms preprocess, 34.1ms inference, 1.5ms postprocess per image at shape (1, 3, 736, 1280)\n"
     ]
    },
    {
     "name": "stderr",
     "output_type": "stream",
     "text": [
      "Processing Frames:   4%|████▉                                                                                                          | 171/3864 [00:48<13:40,  4.50frame/s, Frame=171, Second=3.42]"
     ]
    },
    {
     "name": "stdout",
     "output_type": "stream",
     "text": [
      "Frame number: 170\n",
      "Second : 3.4\n",
      "\n",
      "0: 736x1280 1 goalkeeper, 20 players, 35.6ms\n",
      "Speed: 5.9ms preprocess, 35.6ms inference, 13.4ms postprocess per image at shape (1, 3, 736, 1280)\n"
     ]
    },
    {
     "name": "stderr",
     "output_type": "stream",
     "text": [
      "Processing Frames:   4%|████▉                                                                                                          | 172/3864 [00:48<13:28,  4.56frame/s, Frame=172, Second=3.44]"
     ]
    },
    {
     "name": "stdout",
     "output_type": "stream",
     "text": [
      "Frame number: 171\n",
      "Second : 3.42\n",
      "\n",
      "0: 736x1280 19 players, 1 referee, 18.5ms\n",
      "Speed: 5.8ms preprocess, 18.5ms inference, 1.3ms postprocess per image at shape (1, 3, 736, 1280)\n"
     ]
    },
    {
     "name": "stderr",
     "output_type": "stream",
     "text": [
      "Processing Frames:   4%|████▉                                                                                                          | 173/3864 [00:48<12:23,  4.97frame/s, Frame=173, Second=3.46]"
     ]
    },
    {
     "name": "stdout",
     "output_type": "stream",
     "text": [
      "Frame number: 172\n",
      "Second : 3.44\n",
      "\n",
      "0: 736x1280 19 players, 2 referees, 40.4ms\n",
      "Speed: 7.1ms preprocess, 40.4ms inference, 12.0ms postprocess per image at shape (1, 3, 736, 1280)\n"
     ]
    },
    {
     "name": "stderr",
     "output_type": "stream",
     "text": [
      "Processing Frames:   5%|████▉                                                                                                          | 174/3864 [00:48<12:54,  4.76frame/s, Frame=174, Second=3.48]"
     ]
    },
    {
     "name": "stdout",
     "output_type": "stream",
     "text": [
      "Frame number: 173\n",
      "Second : 3.46\n",
      "\n",
      "0: 736x1280 19 players, 2 referees, 40.1ms\n",
      "Speed: 8.9ms preprocess, 40.1ms inference, 11.9ms postprocess per image at shape (1, 3, 736, 1280)\n"
     ]
    },
    {
     "name": "stderr",
     "output_type": "stream",
     "text": [
      "Processing Frames:   5%|█████                                                                                                           | 175/3864 [00:49<13:26,  4.58frame/s, Frame=175, Second=3.5]"
     ]
    },
    {
     "name": "stdout",
     "output_type": "stream",
     "text": [
      "Frame number: 174\n",
      "Second : 3.48\n",
      "\n",
      "0: 736x1280 20 players, 2 referees, 32.2ms\n",
      "Speed: 5.9ms preprocess, 32.2ms inference, 1.6ms postprocess per image at shape (1, 3, 736, 1280)\n"
     ]
    },
    {
     "name": "stderr",
     "output_type": "stream",
     "text": [
      "Processing Frames:   5%|█████                                                                                                          | 176/3864 [00:49<13:19,  4.61frame/s, Frame=176, Second=3.52]"
     ]
    },
    {
     "name": "stdout",
     "output_type": "stream",
     "text": [
      "Frame number: 175\n",
      "Second : 3.5\n",
      "\n",
      "0: 736x1280 19 players, 2 referees, 40.3ms\n",
      "Speed: 7.2ms preprocess, 40.3ms inference, 12.0ms postprocess per image at shape (1, 3, 736, 1280)\n"
     ]
    },
    {
     "name": "stderr",
     "output_type": "stream",
     "text": [
      "Processing Frames:   5%|█████                                                                                                          | 177/3864 [00:49<13:31,  4.55frame/s, Frame=177, Second=3.54]"
     ]
    },
    {
     "name": "stdout",
     "output_type": "stream",
     "text": [
      "Frame number: 176\n",
      "Second : 3.52\n",
      "\n",
      "0: 736x1280 1 ball, 21 players, 1 referee, 43.3ms\n",
      "Speed: 11.0ms preprocess, 43.3ms inference, 12.0ms postprocess per image at shape (1, 3, 736, 1280)\n"
     ]
    },
    {
     "name": "stderr",
     "output_type": "stream",
     "text": [
      "Processing Frames:   5%|█████                                                                                                          | 178/3864 [00:49<13:22,  4.59frame/s, Frame=178, Second=3.56]"
     ]
    },
    {
     "name": "stdout",
     "output_type": "stream",
     "text": [
      "Frame number: 177\n",
      "Second : 3.54\n",
      "\n",
      "0: 736x1280 20 players, 1 referee, 20.4ms\n",
      "Speed: 5.8ms preprocess, 20.4ms inference, 11.9ms postprocess per image at shape (1, 3, 736, 1280)\n"
     ]
    },
    {
     "name": "stderr",
     "output_type": "stream",
     "text": [
      "Processing Frames:   5%|█████▏                                                                                                         | 179/3864 [00:50<13:11,  4.66frame/s, Frame=179, Second=3.58]"
     ]
    },
    {
     "name": "stdout",
     "output_type": "stream",
     "text": [
      "Frame number: 178\n",
      "Second : 3.56\n",
      "\n",
      "0: 736x1280 1 goalkeeper, 20 players, 1 referee, 40.3ms\n",
      "Speed: 8.2ms preprocess, 40.3ms inference, 11.9ms postprocess per image at shape (1, 3, 736, 1280)\n"
     ]
    },
    {
     "name": "stderr",
     "output_type": "stream",
     "text": [
      "Processing Frames:   5%|█████▏                                                                                                          | 180/3864 [00:50<13:30,  4.55frame/s, Frame=180, Second=3.6]"
     ]
    },
    {
     "name": "stdout",
     "output_type": "stream",
     "text": [
      "Frame number: 179\n",
      "Second : 3.58\n",
      "\n",
      "0: 736x1280 20 players, 1 referee, 40.4ms\n",
      "Speed: 6.1ms preprocess, 40.4ms inference, 11.9ms postprocess per image at shape (1, 3, 736, 1280)\n"
     ]
    },
    {
     "name": "stderr",
     "output_type": "stream",
     "text": [
      "Processing Frames:   5%|█████▏                                                                                                         | 181/3864 [00:50<13:36,  4.51frame/s, Frame=181, Second=3.62]"
     ]
    },
    {
     "name": "stdout",
     "output_type": "stream",
     "text": [
      "Frame number: 180\n",
      "Second : 3.6\n",
      "\n",
      "0: 736x1280 20 players, 1 referee, 40.2ms\n",
      "Speed: 6.3ms preprocess, 40.2ms inference, 12.0ms postprocess per image at shape (1, 3, 736, 1280)\n"
     ]
    },
    {
     "name": "stderr",
     "output_type": "stream",
     "text": [
      "Processing Frames:   5%|█████▏                                                                                                         | 182/3864 [00:50<13:44,  4.47frame/s, Frame=182, Second=3.64]"
     ]
    },
    {
     "name": "stdout",
     "output_type": "stream",
     "text": [
      "Frame number: 181\n",
      "Second : 3.62\n",
      "\n",
      "0: 736x1280 20 players, 1 referee, 24.2ms\n",
      "Speed: 6.3ms preprocess, 24.2ms inference, 1.6ms postprocess per image at shape (1, 3, 736, 1280)\n"
     ]
    },
    {
     "name": "stderr",
     "output_type": "stream",
     "text": [
      "Processing Frames:   5%|█████▎                                                                                                         | 183/3864 [00:50<13:10,  4.66frame/s, Frame=183, Second=3.66]"
     ]
    },
    {
     "name": "stdout",
     "output_type": "stream",
     "text": [
      "Frame number: 182\n",
      "Second : 3.64\n",
      "\n",
      "0: 736x1280 17 players, 2 referees, 43.6ms\n",
      "Speed: 6.3ms preprocess, 43.6ms inference, 12.0ms postprocess per image at shape (1, 3, 736, 1280)\n"
     ]
    },
    {
     "name": "stderr",
     "output_type": "stream",
     "text": [
      "Processing Frames:   5%|█████▎                                                                                                         | 184/3864 [00:51<13:29,  4.55frame/s, Frame=184, Second=3.68]"
     ]
    },
    {
     "name": "stdout",
     "output_type": "stream",
     "text": [
      "Frame number: 183\n",
      "Second : 3.66\n",
      "\n",
      "0: 736x1280 19 players, 1 referee, 18.9ms\n",
      "Speed: 6.0ms preprocess, 18.9ms inference, 1.3ms postprocess per image at shape (1, 3, 736, 1280)\n"
     ]
    },
    {
     "name": "stderr",
     "output_type": "stream",
     "text": [
      "Processing Frames:   5%|█████▎                                                                                                          | 185/3864 [00:51<12:14,  5.01frame/s, Frame=185, Second=3.7]"
     ]
    },
    {
     "name": "stdout",
     "output_type": "stream",
     "text": [
      "Frame number: 184\n",
      "Second : 3.68\n",
      "\n",
      "0: 736x1280 18 players, 2 referees, 35.9ms\n",
      "Speed: 6.0ms preprocess, 35.9ms inference, 12.0ms postprocess per image at shape (1, 3, 736, 1280)\n"
     ]
    },
    {
     "name": "stderr",
     "output_type": "stream",
     "text": [
      "Processing Frames:   5%|█████▎                                                                                                         | 186/3864 [00:51<12:24,  4.94frame/s, Frame=186, Second=3.72]"
     ]
    },
    {
     "name": "stdout",
     "output_type": "stream",
     "text": [
      "Frame number: 185\n",
      "Second : 3.7\n",
      "\n",
      "0: 736x1280 18 players, 2 referees, 40.5ms\n",
      "Speed: 6.2ms preprocess, 40.5ms inference, 11.9ms postprocess per image at shape (1, 3, 736, 1280)\n"
     ]
    },
    {
     "name": "stderr",
     "output_type": "stream",
     "text": [
      "Processing Frames:   5%|█████▎                                                                                                         | 187/3864 [00:51<12:41,  4.83frame/s, Frame=187, Second=3.74]"
     ]
    },
    {
     "name": "stdout",
     "output_type": "stream",
     "text": [
      "Frame number: 186\n",
      "Second : 3.72\n",
      "\n",
      "0: 736x1280 18 players, 2 referees, 40.0ms\n",
      "Speed: 10.3ms preprocess, 40.0ms inference, 11.8ms postprocess per image at shape (1, 3, 736, 1280)\n"
     ]
    },
    {
     "name": "stderr",
     "output_type": "stream",
     "text": [
      "Processing Frames:   5%|█████▍                                                                                                         | 188/3864 [00:52<12:50,  4.77frame/s, Frame=188, Second=3.76]"
     ]
    },
    {
     "name": "stdout",
     "output_type": "stream",
     "text": [
      "Frame number: 187\n",
      "Second : 3.74\n",
      "\n",
      "0: 736x1280 18 players, 2 referees, 68.5ms\n",
      "Speed: 15.2ms preprocess, 68.5ms inference, 33.2ms postprocess per image at shape (1, 3, 736, 1280)\n"
     ]
    },
    {
     "name": "stderr",
     "output_type": "stream",
     "text": [
      "Processing Frames:   5%|█████▍                                                                                                         | 189/3864 [00:52<14:02,  4.36frame/s, Frame=189, Second=3.78]"
     ]
    },
    {
     "name": "stdout",
     "output_type": "stream",
     "text": [
      "Frame number: 188\n",
      "Second : 3.76\n",
      "\n",
      "0: 736x1280 17 players, 2 referees, 40.4ms\n",
      "Speed: 18.6ms preprocess, 40.4ms inference, 6.4ms postprocess per image at shape (1, 3, 736, 1280)\n",
      "Frame number: 189\n",
      "Second : 3.78\n"
     ]
    },
    {
     "name": "stderr",
     "output_type": "stream",
     "text": [
      "Processing Frames:   5%|█████▌                                                                                                          | 190/3864 [00:52<13:30,  4.53frame/s, Frame=190, Second=3.8]"
     ]
    },
    {
     "name": "stdout",
     "output_type": "stream",
     "text": [
      "\n",
      "0: 736x1280 17 players, 2 referees, 19.0ms\n",
      "Speed: 5.9ms preprocess, 19.0ms inference, 1.3ms postprocess per image at shape (1, 3, 736, 1280)\n"
     ]
    },
    {
     "name": "stderr",
     "output_type": "stream",
     "text": [
      "Processing Frames:   5%|█████▍                                                                                                         | 191/3864 [00:52<12:25,  4.93frame/s, Frame=191, Second=3.82]"
     ]
    },
    {
     "name": "stdout",
     "output_type": "stream",
     "text": [
      "Frame number: 190\n",
      "Second : 3.8\n",
      "\n",
      "0: 736x1280 17 players, 2 referees, 40.4ms\n",
      "Speed: 8.5ms preprocess, 40.4ms inference, 11.9ms postprocess per image at shape (1, 3, 736, 1280)\n"
     ]
    },
    {
     "name": "stderr",
     "output_type": "stream",
     "text": [
      "Processing Frames:   5%|█████▌                                                                                                         | 192/3864 [00:52<12:38,  4.84frame/s, Frame=192, Second=3.84]"
     ]
    },
    {
     "name": "stdout",
     "output_type": "stream",
     "text": [
      "Frame number: 191\n",
      "Second : 3.82\n",
      "\n",
      "0: 736x1280 1 ball, 1 goalkeeper, 18 players, 2 referees, 40.4ms\n",
      "Speed: 8.6ms preprocess, 40.4ms inference, 12.0ms postprocess per image at shape (1, 3, 736, 1280)\n"
     ]
    },
    {
     "name": "stderr",
     "output_type": "stream",
     "text": [
      "Processing Frames:   5%|█████▌                                                                                                         | 193/3864 [00:53<13:14,  4.62frame/s, Frame=193, Second=3.86]"
     ]
    },
    {
     "name": "stdout",
     "output_type": "stream",
     "text": [
      "Frame number: 192\n",
      "Second : 3.84\n",
      "\n",
      "0: 736x1280 1 goalkeeper, 20 players, 2 referees, 21.6ms\n",
      "Speed: 8.2ms preprocess, 21.6ms inference, 1.3ms postprocess per image at shape (1, 3, 736, 1280)\n"
     ]
    },
    {
     "name": "stderr",
     "output_type": "stream",
     "text": [
      "Processing Frames:   5%|█████▌                                                                                                         | 194/3864 [00:53<13:22,  4.57frame/s, Frame=194, Second=3.88]"
     ]
    },
    {
     "name": "stdout",
     "output_type": "stream",
     "text": [
      "Frame number: 193\n",
      "Second : 3.86\n",
      "\n",
      "0: 736x1280 20 players, 2 referees, 40.7ms\n",
      "Speed: 7.7ms preprocess, 40.7ms inference, 1.6ms postprocess per image at shape (1, 3, 736, 1280)\n"
     ]
    },
    {
     "name": "stderr",
     "output_type": "stream",
     "text": [
      "Processing Frames:   5%|█████▋                                                                                                          | 195/3864 [00:53<13:40,  4.47frame/s, Frame=195, Second=3.9]"
     ]
    },
    {
     "name": "stdout",
     "output_type": "stream",
     "text": [
      "Frame number: 194\n",
      "Second : 3.88\n",
      "\n",
      "0: 736x1280 20 players, 1 referee, 19.6ms\n",
      "Speed: 5.8ms preprocess, 19.6ms inference, 1.3ms postprocess per image at shape (1, 3, 736, 1280)\n"
     ]
    },
    {
     "name": "stderr",
     "output_type": "stream",
     "text": [
      "Processing Frames:   5%|█████▋                                                                                                         | 196/3864 [00:53<13:05,  4.67frame/s, Frame=196, Second=3.92]"
     ]
    },
    {
     "name": "stdout",
     "output_type": "stream",
     "text": [
      "Frame number: 195\n",
      "Second : 3.9\n",
      "\n",
      "0: 736x1280 20 players, 1 referee, 40.2ms\n",
      "Speed: 7.6ms preprocess, 40.2ms inference, 11.9ms postprocess per image at shape (1, 3, 736, 1280)\n"
     ]
    },
    {
     "name": "stderr",
     "output_type": "stream",
     "text": [
      "Processing Frames:   5%|█████▋                                                                                                         | 197/3864 [00:53<13:30,  4.53frame/s, Frame=197, Second=3.94]"
     ]
    },
    {
     "name": "stdout",
     "output_type": "stream",
     "text": [
      "Frame number: 196\n",
      "Second : 3.92\n",
      "\n",
      "0: 736x1280 20 players, 1 referee, 40.2ms\n",
      "Speed: 9.0ms preprocess, 40.2ms inference, 11.8ms postprocess per image at shape (1, 3, 736, 1280)\n"
     ]
    },
    {
     "name": "stderr",
     "output_type": "stream",
     "text": [
      "Processing Frames:   5%|█████▋                                                                                                         | 198/3864 [00:54<13:59,  4.37frame/s, Frame=198, Second=3.96]"
     ]
    },
    {
     "name": "stdout",
     "output_type": "stream",
     "text": [
      "Frame number: 197\n",
      "Second : 3.94\n",
      "\n",
      "0: 736x1280 1 goalkeeper, 19 players, 1 referee, 45.1ms\n",
      "Speed: 9.9ms preprocess, 45.1ms inference, 1.3ms postprocess per image at shape (1, 3, 736, 1280)\n"
     ]
    },
    {
     "name": "stderr",
     "output_type": "stream",
     "text": [
      "Processing Frames:   5%|█████▋                                                                                                         | 199/3864 [00:54<13:40,  4.47frame/s, Frame=199, Second=3.98]"
     ]
    },
    {
     "name": "stdout",
     "output_type": "stream",
     "text": [
      "Frame number: 198\n",
      "Second : 3.96\n",
      "\n",
      "0: 736x1280 1 goalkeeper, 19 players, 1 referee, 21.9ms\n",
      "Speed: 5.9ms preprocess, 21.9ms inference, 1.8ms postprocess per image at shape (1, 3, 736, 1280)\n",
      "Frame number: 199\n",
      "Second : 3.98\n"
     ]
    },
    {
     "name": "stderr",
     "output_type": "stream",
     "text": [
      "Processing Frames:   5%|█████▉                                                                                                            | 200/3864 [00:54<13:11,  4.63frame/s, Frame=200, Second=4]"
     ]
    },
    {
     "name": "stdout",
     "output_type": "stream",
     "text": [
      "\n",
      "0: 736x1280 1 goalkeeper, 18 players, 1 referee, 19.5ms\n",
      "Speed: 5.8ms preprocess, 19.5ms inference, 1.2ms postprocess per image at shape (1, 3, 736, 1280)\n"
     ]
    },
    {
     "name": "stderr",
     "output_type": "stream",
     "text": [
      "Processing Frames:   5%|█████▊                                                                                                         | 201/3864 [00:54<11:59,  5.09frame/s, Frame=201, Second=4.02]"
     ]
    },
    {
     "name": "stdout",
     "output_type": "stream",
     "text": [
      "Frame number: 200\n",
      "Second : 4.0\n",
      "\n",
      "0: 736x1280 18 players, 1 referee, 40.4ms\n",
      "Speed: 7.9ms preprocess, 40.4ms inference, 12.0ms postprocess per image at shape (1, 3, 736, 1280)\n"
     ]
    },
    {
     "name": "stderr",
     "output_type": "stream",
     "text": [
      "Processing Frames:   5%|█████▊                                                                                                         | 202/3864 [00:55<12:20,  4.95frame/s, Frame=202, Second=4.04]"
     ]
    },
    {
     "name": "stdout",
     "output_type": "stream",
     "text": [
      "Frame number: 201\n",
      "Second : 4.02\n",
      "\n",
      "0: 736x1280 1 goalkeeper, 18 players, 3 referees, 40.3ms\n",
      "Speed: 6.7ms preprocess, 40.3ms inference, 11.8ms postprocess per image at shape (1, 3, 736, 1280)\n"
     ]
    },
    {
     "name": "stderr",
     "output_type": "stream",
     "text": [
      "Processing Frames:   5%|█████▊                                                                                                         | 203/3864 [00:55<12:35,  4.85frame/s, Frame=203, Second=4.06]"
     ]
    },
    {
     "name": "stdout",
     "output_type": "stream",
     "text": [
      "Frame number: 202\n",
      "Second : 4.04\n",
      "\n",
      "0: 736x1280 17 players, 2 referees, 42.9ms\n",
      "Speed: 6.8ms preprocess, 42.9ms inference, 2.7ms postprocess per image at shape (1, 3, 736, 1280)\n"
     ]
    },
    {
     "name": "stderr",
     "output_type": "stream",
     "text": [
      "Processing Frames:   5%|█████▊                                                                                                         | 204/3864 [00:55<12:15,  4.98frame/s, Frame=204, Second=4.08]"
     ]
    },
    {
     "name": "stdout",
     "output_type": "stream",
     "text": [
      "Frame number: 203\n",
      "Second : 4.06\n",
      "\n",
      "0: 736x1280 17 players, 1 referee, 19.2ms\n",
      "Speed: 7.4ms preprocess, 19.2ms inference, 1.5ms postprocess per image at shape (1, 3, 736, 1280)\n"
     ]
    },
    {
     "name": "stderr",
     "output_type": "stream",
     "text": [
      "Processing Frames:   5%|█████▉                                                                                                          | 205/3864 [00:55<11:54,  5.12frame/s, Frame=205, Second=4.1]"
     ]
    },
    {
     "name": "stdout",
     "output_type": "stream",
     "text": [
      "Frame number: 204\n",
      "Second : 4.08\n",
      "\n",
      "0: 736x1280 18 players, 1 referee, 43.4ms\n",
      "Speed: 6.0ms preprocess, 43.4ms inference, 12.1ms postprocess per image at shape (1, 3, 736, 1280)\n"
     ]
    },
    {
     "name": "stderr",
     "output_type": "stream",
     "text": [
      "Processing Frames:   5%|█████▉                                                                                                         | 206/3864 [00:55<12:32,  4.86frame/s, Frame=206, Second=4.12]"
     ]
    },
    {
     "name": "stdout",
     "output_type": "stream",
     "text": [
      "Frame number: 205\n",
      "Second : 4.1\n",
      "\n",
      "0: 736x1280 1 goalkeeper, 17 players, 2 referees, 19.4ms\n",
      "Speed: 5.9ms preprocess, 19.4ms inference, 1.3ms postprocess per image at shape (1, 3, 736, 1280)\n"
     ]
    },
    {
     "name": "stderr",
     "output_type": "stream",
     "text": [
      "Processing Frames:   5%|█████▉                                                                                                         | 207/3864 [00:55<11:50,  5.15frame/s, Frame=207, Second=4.14]"
     ]
    },
    {
     "name": "stdout",
     "output_type": "stream",
     "text": [
      "Frame number: 206\n",
      "Second : 4.12\n",
      "\n",
      "0: 736x1280 17 players, 1 referee, 40.3ms\n",
      "Speed: 10.5ms preprocess, 40.3ms inference, 11.8ms postprocess per image at shape (1, 3, 736, 1280)\n"
     ]
    },
    {
     "name": "stderr",
     "output_type": "stream",
     "text": [
      "Processing Frames:   5%|█████▉                                                                                                         | 208/3864 [00:56<12:16,  4.97frame/s, Frame=208, Second=4.16]"
     ]
    },
    {
     "name": "stdout",
     "output_type": "stream",
     "text": [
      "Frame number: 207\n",
      "Second : 4.14\n",
      "\n",
      "0: 736x1280 17 players, 2 referees, 40.8ms\n",
      "Speed: 8.4ms preprocess, 40.8ms inference, 12.0ms postprocess per image at shape (1, 3, 736, 1280)\n"
     ]
    },
    {
     "name": "stderr",
     "output_type": "stream",
     "text": [
      "Processing Frames:   5%|██████                                                                                                         | 209/3864 [00:56<12:34,  4.85frame/s, Frame=209, Second=4.18]"
     ]
    },
    {
     "name": "stdout",
     "output_type": "stream",
     "text": [
      "Frame number: 208\n",
      "Second : 4.16\n",
      "\n",
      "0: 736x1280 17 players, 2 referees, 31.6ms\n",
      "Speed: 8.5ms preprocess, 31.6ms inference, 1.4ms postprocess per image at shape (1, 3, 736, 1280)\n"
     ]
    },
    {
     "name": "stderr",
     "output_type": "stream",
     "text": [
      "Processing Frames:   5%|██████                                                                                                          | 210/3864 [00:56<11:45,  5.18frame/s, Frame=210, Second=4.2]"
     ]
    },
    {
     "name": "stdout",
     "output_type": "stream",
     "text": [
      "Frame number: 209\n",
      "Second : 4.18\n",
      "\n",
      "0: 736x1280 18 players, 1 referee, 27.7ms\n",
      "Speed: 6.4ms preprocess, 27.7ms inference, 1.9ms postprocess per image at shape (1, 3, 736, 1280)\n"
     ]
    },
    {
     "name": "stderr",
     "output_type": "stream",
     "text": [
      "Processing Frames:   5%|██████                                                                                                         | 211/3864 [00:56<12:23,  4.91frame/s, Frame=211, Second=4.22]"
     ]
    },
    {
     "name": "stdout",
     "output_type": "stream",
     "text": [
      "Frame number: 210\n",
      "Second : 4.2\n",
      "\n",
      "0: 736x1280 17 players, 1 referee, 20.9ms\n",
      "Speed: 5.9ms preprocess, 20.9ms inference, 2.8ms postprocess per image at shape (1, 3, 736, 1280)\n"
     ]
    },
    {
     "name": "stderr",
     "output_type": "stream",
     "text": [
      "Processing Frames:   5%|██████                                                                                                         | 212/3864 [00:57<12:01,  5.06frame/s, Frame=212, Second=4.24]"
     ]
    },
    {
     "name": "stdout",
     "output_type": "stream",
     "text": [
      "Frame number: 211\n",
      "Second : 4.22\n",
      "\n",
      "0: 736x1280 1 ball, 19 players, 1 referee, 19.3ms\n",
      "Speed: 5.8ms preprocess, 19.3ms inference, 1.3ms postprocess per image at shape (1, 3, 736, 1280)\n"
     ]
    },
    {
     "name": "stderr",
     "output_type": "stream",
     "text": [
      "Processing Frames:   6%|██████                                                                                                         | 213/3864 [00:57<11:16,  5.40frame/s, Frame=213, Second=4.26]"
     ]
    },
    {
     "name": "stdout",
     "output_type": "stream",
     "text": [
      "Frame number: 212\n",
      "Second : 4.24\n",
      "\n",
      "0: 736x1280 21 players, 1 referee, 40.3ms\n",
      "Speed: 6.8ms preprocess, 40.3ms inference, 11.9ms postprocess per image at shape (1, 3, 736, 1280)\n"
     ]
    },
    {
     "name": "stderr",
     "output_type": "stream",
     "text": [
      "Processing Frames:   6%|██████▏                                                                                                        | 214/3864 [00:57<12:26,  4.89frame/s, Frame=214, Second=4.28]"
     ]
    },
    {
     "name": "stdout",
     "output_type": "stream",
     "text": [
      "Frame number: 213\n",
      "Second : 4.26\n",
      "\n",
      "0: 736x1280 1 ball, 19 players, 1 referee, 40.5ms\n",
      "Speed: 10.7ms preprocess, 40.5ms inference, 11.8ms postprocess per image at shape (1, 3, 736, 1280)\n"
     ]
    },
    {
     "name": "stderr",
     "output_type": "stream",
     "text": [
      "Processing Frames:   6%|██████▏                                                                                                         | 215/3864 [00:57<13:32,  4.49frame/s, Frame=215, Second=4.3]"
     ]
    },
    {
     "name": "stdout",
     "output_type": "stream",
     "text": [
      "Frame number: 214\n",
      "Second : 4.28\n",
      "\n",
      "0: 736x1280 19 players, 1 referee, 21.0ms\n",
      "Speed: 7.4ms preprocess, 21.0ms inference, 1.3ms postprocess per image at shape (1, 3, 736, 1280)\n"
     ]
    },
    {
     "name": "stderr",
     "output_type": "stream",
     "text": [
      "Processing Frames:   6%|██████▏                                                                                                        | 216/3864 [00:58<15:32,  3.91frame/s, Frame=216, Second=4.32]"
     ]
    },
    {
     "name": "stdout",
     "output_type": "stream",
     "text": [
      "Frame number: 215\n",
      "Second : 4.3\n",
      "\n",
      "0: 736x1280 1 ball, 21 players, 1 referee, 40.4ms\n",
      "Speed: 6.3ms preprocess, 40.4ms inference, 16.3ms postprocess per image at shape (1, 3, 736, 1280)\n"
     ]
    },
    {
     "name": "stderr",
     "output_type": "stream",
     "text": [
      "Processing Frames:   6%|██████▏                                                                                                        | 217/3864 [00:58<14:54,  4.08frame/s, Frame=217, Second=4.34]"
     ]
    },
    {
     "name": "stdout",
     "output_type": "stream",
     "text": [
      "Frame number: 216\n",
      "Second : 4.32\n",
      "\n",
      "0: 736x1280 1 ball, 18 players, 1 referee, 19.3ms\n",
      "Speed: 5.8ms preprocess, 19.3ms inference, 1.3ms postprocess per image at shape (1, 3, 736, 1280)\n"
     ]
    },
    {
     "name": "stderr",
     "output_type": "stream",
     "text": [
      "Processing Frames:   6%|██████▎                                                                                                        | 218/3864 [00:58<13:47,  4.41frame/s, Frame=218, Second=4.36]"
     ]
    },
    {
     "name": "stdout",
     "output_type": "stream",
     "text": [
      "Frame number: 217\n",
      "Second : 4.34\n",
      "\n",
      "0: 736x1280 20 players, 1 referee, 40.1ms\n",
      "Speed: 8.7ms preprocess, 40.1ms inference, 12.0ms postprocess per image at shape (1, 3, 736, 1280)\n"
     ]
    },
    {
     "name": "stderr",
     "output_type": "stream",
     "text": [
      "Processing Frames:   6%|██████▎                                                                                                        | 219/3864 [00:58<14:00,  4.34frame/s, Frame=219, Second=4.38]"
     ]
    },
    {
     "name": "stdout",
     "output_type": "stream",
     "text": [
      "Frame number: 218\n",
      "Second : 4.36\n",
      "\n",
      "0: 736x1280 21 players, 1 referee, 40.2ms\n",
      "Speed: 6.0ms preprocess, 40.2ms inference, 11.9ms postprocess per image at shape (1, 3, 736, 1280)\n"
     ]
    },
    {
     "name": "stderr",
     "output_type": "stream",
     "text": [
      "Processing Frames:   6%|██████▍                                                                                                         | 220/3864 [00:58<13:48,  4.40frame/s, Frame=220, Second=4.4]"
     ]
    },
    {
     "name": "stdout",
     "output_type": "stream",
     "text": [
      "Frame number: 219\n",
      "Second : 4.38\n",
      "\n",
      "0: 736x1280 21 players, 1 referee, 37.3ms\n",
      "Speed: 5.9ms preprocess, 37.3ms inference, 2.1ms postprocess per image at shape (1, 3, 736, 1280)\n"
     ]
    },
    {
     "name": "stderr",
     "output_type": "stream",
     "text": [
      "Processing Frames:   6%|██████▎                                                                                                        | 221/3864 [00:59<14:25,  4.21frame/s, Frame=221, Second=4.42]"
     ]
    },
    {
     "name": "stdout",
     "output_type": "stream",
     "text": [
      "Frame number: 220\n",
      "Second : 4.4\n",
      "\n",
      "0: 736x1280 20 players, 1 referee, 22.7ms\n",
      "Speed: 5.8ms preprocess, 22.7ms inference, 4.3ms postprocess per image at shape (1, 3, 736, 1280)\n"
     ]
    },
    {
     "name": "stderr",
     "output_type": "stream",
     "text": [
      "Processing Frames:   6%|██████▍                                                                                                        | 222/3864 [00:59<13:51,  4.38frame/s, Frame=222, Second=4.44]"
     ]
    },
    {
     "name": "stdout",
     "output_type": "stream",
     "text": [
      "Frame number: 221\n",
      "Second : 4.42\n",
      "\n",
      "0: 736x1280 21 players, 2 referees, 19.5ms\n",
      "Speed: 5.8ms preprocess, 19.5ms inference, 1.3ms postprocess per image at shape (1, 3, 736, 1280)\n"
     ]
    },
    {
     "name": "stderr",
     "output_type": "stream",
     "text": [
      "Processing Frames:   6%|██████▍                                                                                                        | 223/3864 [00:59<12:57,  4.68frame/s, Frame=223, Second=4.46]"
     ]
    },
    {
     "name": "stdout",
     "output_type": "stream",
     "text": [
      "Frame number: 222\n",
      "Second : 4.44\n",
      "\n",
      "0: 736x1280 19 players, 1 referee, 40.3ms\n",
      "Speed: 6.9ms preprocess, 40.3ms inference, 12.0ms postprocess per image at shape (1, 3, 736, 1280)\n"
     ]
    },
    {
     "name": "stderr",
     "output_type": "stream",
     "text": [
      "Processing Frames:   6%|██████▍                                                                                                        | 224/3864 [00:59<13:18,  4.56frame/s, Frame=224, Second=4.48]"
     ]
    },
    {
     "name": "stdout",
     "output_type": "stream",
     "text": [
      "Frame number: 223\n",
      "Second : 4.46\n",
      "\n",
      "0: 736x1280 20 players, 1 referee, 40.6ms\n",
      "Speed: 8.5ms preprocess, 40.6ms inference, 11.9ms postprocess per image at shape (1, 3, 736, 1280)\n"
     ]
    },
    {
     "name": "stderr",
     "output_type": "stream",
     "text": [
      "Processing Frames:   6%|██████▌                                                                                                         | 225/3864 [00:59<13:34,  4.47frame/s, Frame=225, Second=4.5]"
     ]
    },
    {
     "name": "stdout",
     "output_type": "stream",
     "text": [
      "Frame number: 224\n",
      "Second : 4.48\n",
      "\n",
      "0: 736x1280 1 ball, 20 players, 1 referee, 39.9ms\n",
      "Speed: 6.7ms preprocess, 39.9ms inference, 11.7ms postprocess per image at shape (1, 3, 736, 1280)\n"
     ]
    },
    {
     "name": "stderr",
     "output_type": "stream",
     "text": [
      "Processing Frames:   6%|██████▍                                                                                                        | 226/3864 [01:00<13:28,  4.50frame/s, Frame=226, Second=4.52]"
     ]
    },
    {
     "name": "stdout",
     "output_type": "stream",
     "text": [
      "Frame number: 225\n",
      "Second : 4.5\n",
      "\n",
      "0: 736x1280 19 players, 21.0ms\n",
      "Speed: 17.3ms preprocess, 21.0ms inference, 1.7ms postprocess per image at shape (1, 3, 736, 1280)\n"
     ]
    },
    {
     "name": "stderr",
     "output_type": "stream",
     "text": [
      "Processing Frames:   6%|██████▌                                                                                                        | 227/3864 [01:00<13:45,  4.40frame/s, Frame=227, Second=4.54]"
     ]
    },
    {
     "name": "stdout",
     "output_type": "stream",
     "text": [
      "Frame number: 226\n",
      "Second : 4.52\n",
      "\n",
      "0: 736x1280 19 players, 40.7ms\n",
      "Speed: 25.9ms preprocess, 40.7ms inference, 11.9ms postprocess per image at shape (1, 3, 736, 1280)\n"
     ]
    },
    {
     "name": "stderr",
     "output_type": "stream",
     "text": [
      "Processing Frames:   6%|██████▌                                                                                                        | 228/3864 [01:00<13:45,  4.40frame/s, Frame=228, Second=4.56]"
     ]
    },
    {
     "name": "stdout",
     "output_type": "stream",
     "text": [
      "Frame number: 227\n",
      "Second : 4.54\n",
      "\n",
      "0: 736x1280 19 players, 1 referee, 19.3ms\n",
      "Speed: 5.8ms preprocess, 19.3ms inference, 1.3ms postprocess per image at shape (1, 3, 736, 1280)\n"
     ]
    },
    {
     "name": "stderr",
     "output_type": "stream",
     "text": [
      "Processing Frames:   6%|██████▌                                                                                                        | 229/3864 [01:00<12:41,  4.78frame/s, Frame=229, Second=4.58]"
     ]
    },
    {
     "name": "stdout",
     "output_type": "stream",
     "text": [
      "Frame number: 228\n",
      "Second : 4.56\n",
      "\n",
      "0: 736x1280 19 players, 1 referee, 40.1ms\n",
      "Speed: 6.9ms preprocess, 40.1ms inference, 11.9ms postprocess per image at shape (1, 3, 736, 1280)\n"
     ]
    },
    {
     "name": "stderr",
     "output_type": "stream",
     "text": [
      "Processing Frames:   6%|██████▋                                                                                                         | 230/3864 [01:01<13:07,  4.61frame/s, Frame=230, Second=4.6]"
     ]
    },
    {
     "name": "stdout",
     "output_type": "stream",
     "text": [
      "Frame number: 229\n",
      "Second : 4.58\n",
      "\n",
      "0: 736x1280 19 players, 1 referee, 39.9ms\n",
      "Speed: 9.7ms preprocess, 39.9ms inference, 12.0ms postprocess per image at shape (1, 3, 736, 1280)\n"
     ]
    },
    {
     "name": "stderr",
     "output_type": "stream",
     "text": [
      "Processing Frames:   6%|██████▋                                                                                                        | 231/3864 [01:01<13:45,  4.40frame/s, Frame=231, Second=4.62]"
     ]
    },
    {
     "name": "stdout",
     "output_type": "stream",
     "text": [
      "Frame number: 230\n",
      "Second : 4.6\n",
      "\n",
      "0: 736x1280 18 players, 1 referee, 23.5ms\n",
      "Speed: 6.3ms preprocess, 23.5ms inference, 2.4ms postprocess per image at shape (1, 3, 736, 1280)\n"
     ]
    },
    {
     "name": "stderr",
     "output_type": "stream",
     "text": [
      "Processing Frames:   6%|██████▋                                                                                                        | 232/3864 [01:01<13:35,  4.46frame/s, Frame=232, Second=4.64]"
     ]
    },
    {
     "name": "stdout",
     "output_type": "stream",
     "text": [
      "Frame number: 231\n",
      "Second : 4.62\n",
      "\n",
      "0: 736x1280 17 players, 1 referee, 22.5ms\n",
      "Speed: 6.6ms preprocess, 22.5ms inference, 1.7ms postprocess per image at shape (1, 3, 736, 1280)\n"
     ]
    },
    {
     "name": "stderr",
     "output_type": "stream",
     "text": [
      "Processing Frames:   6%|██████▋                                                                                                        | 233/3864 [01:01<13:24,  4.51frame/s, Frame=233, Second=4.66]"
     ]
    },
    {
     "name": "stdout",
     "output_type": "stream",
     "text": [
      "Frame number: 232\n",
      "Second : 4.64\n",
      "\n",
      "0: 736x1280 18 players, 1 referee, 19.1ms\n",
      "Speed: 5.9ms preprocess, 19.1ms inference, 1.2ms postprocess per image at shape (1, 3, 736, 1280)\n"
     ]
    },
    {
     "name": "stderr",
     "output_type": "stream",
     "text": [
      "Processing Frames:   6%|██████▋                                                                                                        | 234/3864 [01:01<12:07,  4.99frame/s, Frame=234, Second=4.68]"
     ]
    },
    {
     "name": "stdout",
     "output_type": "stream",
     "text": [
      "Frame number: 233\n",
      "Second : 4.66\n",
      "\n",
      "0: 736x1280 17 players, 1 referee, 40.5ms\n",
      "Speed: 7.5ms preprocess, 40.5ms inference, 12.0ms postprocess per image at shape (1, 3, 736, 1280)\n"
     ]
    },
    {
     "name": "stderr",
     "output_type": "stream",
     "text": [
      "Processing Frames:   6%|██████▊                                                                                                         | 235/3864 [01:02<12:23,  4.88frame/s, Frame=235, Second=4.7]"
     ]
    },
    {
     "name": "stdout",
     "output_type": "stream",
     "text": [
      "Frame number: 234\n",
      "Second : 4.68\n",
      "\n",
      "0: 736x1280 18 players, 1 referee, 40.3ms\n",
      "Speed: 7.6ms preprocess, 40.3ms inference, 12.0ms postprocess per image at shape (1, 3, 736, 1280)\n"
     ]
    },
    {
     "name": "stderr",
     "output_type": "stream",
     "text": [
      "Processing Frames:   6%|██████▊                                                                                                        | 236/3864 [01:02<12:46,  4.73frame/s, Frame=236, Second=4.72]"
     ]
    },
    {
     "name": "stdout",
     "output_type": "stream",
     "text": [
      "Frame number: 235\n",
      "Second : 4.7\n",
      "\n",
      "0: 736x1280 18 players, 1 referee, 38.5ms\n",
      "Speed: 8.2ms preprocess, 38.5ms inference, 1.4ms postprocess per image at shape (1, 3, 736, 1280)\n"
     ]
    },
    {
     "name": "stderr",
     "output_type": "stream",
     "text": [
      "Processing Frames:   6%|██████▊                                                                                                        | 237/3864 [01:02<12:26,  4.86frame/s, Frame=237, Second=4.74]"
     ]
    },
    {
     "name": "stdout",
     "output_type": "stream",
     "text": [
      "Frame number: 236\n",
      "Second : 4.72\n",
      "\n",
      "0: 736x1280 17 players, 1 referee, 29.2ms\n",
      "Speed: 12.3ms preprocess, 29.2ms inference, 1.7ms postprocess per image at shape (1, 3, 736, 1280)\n"
     ]
    },
    {
     "name": "stderr",
     "output_type": "stream",
     "text": [
      "Processing Frames:   6%|██████▊                                                                                                        | 238/3864 [01:02<12:07,  4.99frame/s, Frame=238, Second=4.76]"
     ]
    },
    {
     "name": "stdout",
     "output_type": "stream",
     "text": [
      "Frame number: 237\n",
      "Second : 4.74\n",
      "\n",
      "0: 736x1280 18 players, 1 referee, 21.2ms\n",
      "Speed: 5.9ms preprocess, 21.2ms inference, 2.3ms postprocess per image at shape (1, 3, 736, 1280)\n",
      "Frame number: 238\n",
      "Second : 4.76\n"
     ]
    },
    {
     "name": "stderr",
     "output_type": "stream",
     "text": [
      "Processing Frames:   6%|██████▊                                                                                                        | 239/3864 [01:02<12:04,  5.01frame/s, Frame=239, Second=4.78]"
     ]
    },
    {
     "name": "stdout",
     "output_type": "stream",
     "text": [
      "\n",
      "0: 736x1280 18 players, 2 referees, 19.5ms\n",
      "Speed: 5.8ms preprocess, 19.5ms inference, 1.3ms postprocess per image at shape (1, 3, 736, 1280)\n"
     ]
    },
    {
     "name": "stderr",
     "output_type": "stream",
     "text": [
      "Processing Frames:   6%|██████▉                                                                                                         | 240/3864 [01:03<11:21,  5.32frame/s, Frame=240, Second=4.8]"
     ]
    },
    {
     "name": "stdout",
     "output_type": "stream",
     "text": [
      "Frame number: 239\n",
      "Second : 4.78\n",
      "\n",
      "0: 736x1280 18 players, 1 referee, 40.4ms\n",
      "Speed: 7.7ms preprocess, 40.4ms inference, 12.0ms postprocess per image at shape (1, 3, 736, 1280)\n"
     ]
    },
    {
     "name": "stderr",
     "output_type": "stream",
     "text": [
      "Processing Frames:   6%|██████▉                                                                                                        | 241/3864 [01:03<12:11,  4.95frame/s, Frame=241, Second=4.82]"
     ]
    },
    {
     "name": "stdout",
     "output_type": "stream",
     "text": [
      "Frame number: 240\n",
      "Second : 4.8\n",
      "\n",
      "0: 736x1280 19 players, 1 referee, 40.2ms\n",
      "Speed: 7.2ms preprocess, 40.2ms inference, 11.9ms postprocess per image at shape (1, 3, 736, 1280)\n"
     ]
    },
    {
     "name": "stderr",
     "output_type": "stream",
     "text": [
      "Processing Frames:   6%|██████▉                                                                                                        | 242/3864 [01:03<12:41,  4.76frame/s, Frame=242, Second=4.84]"
     ]
    },
    {
     "name": "stdout",
     "output_type": "stream",
     "text": [
      "Frame number: 241\n",
      "Second : 4.82\n",
      "\n",
      "0: 736x1280 18 players, 1 referee, 18.6ms\n",
      "Speed: 6.3ms preprocess, 18.6ms inference, 1.5ms postprocess per image at shape (1, 3, 736, 1280)\n"
     ]
    },
    {
     "name": "stderr",
     "output_type": "stream",
     "text": [
      "Processing Frames:   6%|██████▉                                                                                                        | 243/3864 [01:03<12:44,  4.74frame/s, Frame=243, Second=4.86]"
     ]
    },
    {
     "name": "stdout",
     "output_type": "stream",
     "text": [
      "Frame number: 242\n",
      "Second : 4.84\n",
      "\n",
      "0: 736x1280 18 players, 1 referee, 35.4ms\n",
      "Speed: 10.3ms preprocess, 35.4ms inference, 1.9ms postprocess per image at shape (1, 3, 736, 1280)\n"
     ]
    },
    {
     "name": "stderr",
     "output_type": "stream",
     "text": [
      "Processing Frames:   6%|███████                                                                                                        | 244/3864 [01:03<12:55,  4.67frame/s, Frame=244, Second=4.88]"
     ]
    },
    {
     "name": "stdout",
     "output_type": "stream",
     "text": [
      "Frame number: 243\n",
      "Second : 4.86\n",
      "\n",
      "0: 736x1280 1 goalkeeper, 19 players, 19.3ms\n",
      "Speed: 5.8ms preprocess, 19.3ms inference, 1.3ms postprocess per image at shape (1, 3, 736, 1280)\n"
     ]
    },
    {
     "name": "stderr",
     "output_type": "stream",
     "text": [
      "Processing Frames:   6%|███████                                                                                                         | 245/3864 [01:04<11:54,  5.06frame/s, Frame=245, Second=4.9]"
     ]
    },
    {
     "name": "stdout",
     "output_type": "stream",
     "text": [
      "Frame number: 244\n",
      "Second : 4.88\n",
      "\n",
      "0: 736x1280 17 players, 1 referee, 40.3ms\n",
      "Speed: 6.4ms preprocess, 40.3ms inference, 12.0ms postprocess per image at shape (1, 3, 736, 1280)\n"
     ]
    },
    {
     "name": "stderr",
     "output_type": "stream",
     "text": [
      "Processing Frames:   6%|███████                                                                                                        | 246/3864 [01:04<12:16,  4.91frame/s, Frame=246, Second=4.92]"
     ]
    },
    {
     "name": "stdout",
     "output_type": "stream",
     "text": [
      "Frame number: 245\n",
      "Second : 4.9\n",
      "\n",
      "0: 736x1280 18 players, 40.5ms\n",
      "Speed: 8.1ms preprocess, 40.5ms inference, 12.0ms postprocess per image at shape (1, 3, 736, 1280)\n"
     ]
    },
    {
     "name": "stderr",
     "output_type": "stream",
     "text": [
      "Processing Frames:   6%|███████                                                                                                        | 247/3864 [01:04<12:29,  4.82frame/s, Frame=247, Second=4.94]"
     ]
    },
    {
     "name": "stdout",
     "output_type": "stream",
     "text": [
      "Frame number: 246\n",
      "Second : 4.92\n",
      "\n",
      "0: 736x1280 17 players, 1 referee, 39.8ms\n",
      "Speed: 8.7ms preprocess, 39.8ms inference, 5.9ms postprocess per image at shape (1, 3, 736, 1280)\n"
     ]
    },
    {
     "name": "stderr",
     "output_type": "stream",
     "text": [
      "Processing Frames:   6%|███████                                                                                                        | 248/3864 [01:04<13:21,  4.51frame/s, Frame=248, Second=4.96]"
     ]
    },
    {
     "name": "stdout",
     "output_type": "stream",
     "text": [
      "Frame number: 247\n",
      "Second : 4.94\n",
      "\n",
      "0: 736x1280 17 players, 1 referee, 40.3ms\n",
      "Speed: 8.0ms preprocess, 40.3ms inference, 11.9ms postprocess per image at shape (1, 3, 736, 1280)\n"
     ]
    },
    {
     "name": "stderr",
     "output_type": "stream",
     "text": [
      "Processing Frames:   6%|███████▏                                                                                                       | 249/3864 [01:05<13:37,  4.42frame/s, Frame=249, Second=4.98]"
     ]
    },
    {
     "name": "stdout",
     "output_type": "stream",
     "text": [
      "Frame number: 248\n",
      "Second : 4.96\n",
      "\n",
      "0: 736x1280 17 players, 1 referee, 18.4ms\n",
      "Speed: 5.9ms preprocess, 18.4ms inference, 1.3ms postprocess per image at shape (1, 3, 736, 1280)\n"
     ]
    },
    {
     "name": "stderr",
     "output_type": "stream",
     "text": [
      "Processing Frames:   6%|███████▍                                                                                                          | 250/3864 [01:05<12:16,  4.91frame/s, Frame=250, Second=5]"
     ]
    },
    {
     "name": "stdout",
     "output_type": "stream",
     "text": [
      "Frame number: 249\n",
      "Second : 4.98\n",
      "\n",
      "0: 736x1280 17 players, 1 referee, 19.3ms\n",
      "Speed: 6.0ms preprocess, 19.3ms inference, 1.3ms postprocess per image at shape (1, 3, 736, 1280)\n"
     ]
    },
    {
     "name": "stderr",
     "output_type": "stream",
     "text": [
      "Processing Frames:   6%|███████▏                                                                                                       | 251/3864 [01:05<11:23,  5.29frame/s, Frame=251, Second=5.02]"
     ]
    },
    {
     "name": "stdout",
     "output_type": "stream",
     "text": [
      "Frame number: 250\n",
      "Second : 5.0\n",
      "\n",
      "0: 736x1280 17 players, 1 referee, 40.3ms\n",
      "Speed: 7.7ms preprocess, 40.3ms inference, 11.9ms postprocess per image at shape (1, 3, 736, 1280)\n"
     ]
    },
    {
     "name": "stderr",
     "output_type": "stream",
     "text": [
      "Processing Frames:   7%|███████▏                                                                                                       | 252/3864 [01:05<11:58,  5.02frame/s, Frame=252, Second=5.04]"
     ]
    },
    {
     "name": "stdout",
     "output_type": "stream",
     "text": [
      "Frame number: 251\n",
      "Second : 5.02\n",
      "\n",
      "0: 736x1280 16 players, 1 referee, 40.2ms\n",
      "Speed: 6.3ms preprocess, 40.2ms inference, 12.0ms postprocess per image at shape (1, 3, 736, 1280)\n"
     ]
    },
    {
     "name": "stderr",
     "output_type": "stream",
     "text": [
      "Processing Frames:   7%|███████▎                                                                                                       | 253/3864 [01:05<12:07,  4.97frame/s, Frame=253, Second=5.06]"
     ]
    },
    {
     "name": "stdout",
     "output_type": "stream",
     "text": [
      "Frame number: 252\n",
      "Second : 5.04\n",
      "\n",
      "0: 736x1280 17 players, 1 referee, 40.0ms\n",
      "Speed: 6.4ms preprocess, 40.0ms inference, 11.8ms postprocess per image at shape (1, 3, 736, 1280)\n"
     ]
    },
    {
     "name": "stderr",
     "output_type": "stream",
     "text": [
      "Processing Frames:   7%|███████▎                                                                                                       | 254/3864 [01:06<12:07,  4.96frame/s, Frame=254, Second=5.08]"
     ]
    },
    {
     "name": "stdout",
     "output_type": "stream",
     "text": [
      "Frame number: 253\n",
      "Second : 5.06\n",
      "\n",
      "0: 736x1280 18 players, 28.8ms\n",
      "Speed: 7.5ms preprocess, 28.8ms inference, 3.5ms postprocess per image at shape (1, 3, 736, 1280)\n"
     ]
    },
    {
     "name": "stderr",
     "output_type": "stream",
     "text": [
      "Processing Frames:   7%|███████▍                                                                                                        | 255/3864 [01:06<12:14,  4.91frame/s, Frame=255, Second=5.1]"
     ]
    },
    {
     "name": "stdout",
     "output_type": "stream",
     "text": [
      "Frame number: 254\n",
      "Second : 5.08\n",
      "\n",
      "0: 736x1280 18 players, 40.5ms\n",
      "Speed: 7.3ms preprocess, 40.5ms inference, 11.9ms postprocess per image at shape (1, 3, 736, 1280)\n"
     ]
    },
    {
     "name": "stderr",
     "output_type": "stream",
     "text": [
      "Processing Frames:   7%|███████▎                                                                                                       | 256/3864 [01:06<13:12,  4.56frame/s, Frame=256, Second=5.12]"
     ]
    },
    {
     "name": "stdout",
     "output_type": "stream",
     "text": [
      "Frame number: 255\n",
      "Second : 5.1\n",
      "\n",
      "0: 736x1280 18 players, 1 referee, 43.4ms\n",
      "Speed: 6.1ms preprocess, 43.4ms inference, 12.0ms postprocess per image at shape (1, 3, 736, 1280)\n",
      "Frame number: 256\n",
      "Second : 5.12\n"
     ]
    },
    {
     "name": "stderr",
     "output_type": "stream",
     "text": [
      "Processing Frames:   7%|███████▍                                                                                                       | 257/3864 [01:06<12:47,  4.70frame/s, Frame=257, Second=5.14]"
     ]
    },
    {
     "name": "stdout",
     "output_type": "stream",
     "text": [
      "\n",
      "0: 736x1280 18 players, 19.4ms\n",
      "Speed: 5.8ms preprocess, 19.4ms inference, 1.3ms postprocess per image at shape (1, 3, 736, 1280)\n"
     ]
    },
    {
     "name": "stderr",
     "output_type": "stream",
     "text": [
      "Processing Frames:   7%|███████▍                                                                                                       | 258/3864 [01:06<11:57,  5.03frame/s, Frame=258, Second=5.16]"
     ]
    },
    {
     "name": "stdout",
     "output_type": "stream",
     "text": [
      "Frame number: 257\n",
      "Second : 5.14\n",
      "\n",
      "0: 736x1280 16 players, 1 referee, 40.4ms\n",
      "Speed: 7.8ms preprocess, 40.4ms inference, 12.0ms postprocess per image at shape (1, 3, 736, 1280)\n"
     ]
    },
    {
     "name": "stderr",
     "output_type": "stream",
     "text": [
      "Processing Frames:   7%|███████▍                                                                                                       | 259/3864 [01:07<12:07,  4.95frame/s, Frame=259, Second=5.18]"
     ]
    },
    {
     "name": "stdout",
     "output_type": "stream",
     "text": [
      "Frame number: 258\n",
      "Second : 5.16\n",
      "\n",
      "0: 736x1280 16 players, 1 referee, 40.3ms\n",
      "Speed: 6.0ms preprocess, 40.3ms inference, 11.9ms postprocess per image at shape (1, 3, 736, 1280)\n"
     ]
    },
    {
     "name": "stderr",
     "output_type": "stream",
     "text": [
      "Processing Frames:   7%|███████▌                                                                                                        | 260/3864 [01:07<12:14,  4.91frame/s, Frame=260, Second=5.2]"
     ]
    },
    {
     "name": "stdout",
     "output_type": "stream",
     "text": [
      "Frame number: 259\n",
      "Second : 5.18\n",
      "\n",
      "0: 736x1280 17 players, 43.4ms\n",
      "Speed: 7.0ms preprocess, 43.4ms inference, 12.0ms postprocess per image at shape (1, 3, 736, 1280)\n"
     ]
    },
    {
     "name": "stderr",
     "output_type": "stream",
     "text": [
      "Processing Frames:   7%|███████▍                                                                                                       | 261/3864 [01:07<12:20,  4.86frame/s, Frame=261, Second=5.22]"
     ]
    },
    {
     "name": "stdout",
     "output_type": "stream",
     "text": [
      "Frame number: 260\n",
      "Second : 5.2\n",
      "\n",
      "0: 736x1280 17 players, 40.2ms\n",
      "Speed: 6.5ms preprocess, 40.2ms inference, 12.0ms postprocess per image at shape (1, 3, 736, 1280)\n"
     ]
    },
    {
     "name": "stderr",
     "output_type": "stream",
     "text": [
      "Processing Frames:   7%|███████▌                                                                                                       | 262/3864 [01:07<12:28,  4.81frame/s, Frame=262, Second=5.24]"
     ]
    },
    {
     "name": "stdout",
     "output_type": "stream",
     "text": [
      "Frame number: 261\n",
      "Second : 5.22\n",
      "\n",
      "0: 736x1280 16 players, 39.9ms\n",
      "Speed: 6.9ms preprocess, 39.9ms inference, 11.8ms postprocess per image at shape (1, 3, 736, 1280)\n",
      "Frame number: 262\n",
      "Second : 5.24\n"
     ]
    },
    {
     "name": "stderr",
     "output_type": "stream",
     "text": [
      "Processing Frames:   7%|███████▌                                                                                                       | 263/3864 [01:07<12:20,  4.86frame/s, Frame=263, Second=5.26]"
     ]
    },
    {
     "name": "stdout",
     "output_type": "stream",
     "text": [
      "\n",
      "0: 736x1280 16 players, 1 referee, 32.9ms\n",
      "Speed: 6.8ms preprocess, 32.9ms inference, 5.0ms postprocess per image at shape (1, 3, 736, 1280)\n"
     ]
    },
    {
     "name": "stderr",
     "output_type": "stream",
     "text": [
      "Processing Frames:   7%|███████▌                                                                                                       | 264/3864 [01:08<12:42,  4.72frame/s, Frame=264, Second=5.28]"
     ]
    },
    {
     "name": "stdout",
     "output_type": "stream",
     "text": [
      "Frame number: 263\n",
      "Second : 5.26\n",
      "\n",
      "0: 736x1280 16 players, 1 referee, 43.4ms\n",
      "Speed: 7.4ms preprocess, 43.4ms inference, 2.0ms postprocess per image at shape (1, 3, 736, 1280)\n"
     ]
    },
    {
     "name": "stderr",
     "output_type": "stream",
     "text": [
      "Processing Frames:   7%|███████▋                                                                                                        | 265/3864 [01:08<12:31,  4.79frame/s, Frame=265, Second=5.3]"
     ]
    },
    {
     "name": "stdout",
     "output_type": "stream",
     "text": [
      "Frame number: 264\n",
      "Second : 5.28\n",
      "\n",
      "0: 736x1280 15 players, 1 referee, 19.6ms\n",
      "Speed: 5.9ms preprocess, 19.6ms inference, 1.3ms postprocess per image at shape (1, 3, 736, 1280)\n"
     ]
    },
    {
     "name": "stderr",
     "output_type": "stream",
     "text": [
      "Processing Frames:   7%|███████▋                                                                                                       | 266/3864 [01:08<11:17,  5.31frame/s, Frame=266, Second=5.32]"
     ]
    },
    {
     "name": "stdout",
     "output_type": "stream",
     "text": [
      "Frame number: 265\n",
      "Second : 5.3\n",
      "\n",
      "0: 736x1280 15 players, 1 referee, 40.1ms\n",
      "Speed: 6.9ms preprocess, 40.1ms inference, 11.9ms postprocess per image at shape (1, 3, 736, 1280)\n"
     ]
    },
    {
     "name": "stderr",
     "output_type": "stream",
     "text": [
      "Processing Frames:   7%|███████▋                                                                                                       | 267/3864 [01:08<11:35,  5.17frame/s, Frame=267, Second=5.34]"
     ]
    },
    {
     "name": "stdout",
     "output_type": "stream",
     "text": [
      "Frame number: 266\n",
      "Second : 5.32\n",
      "\n",
      "0: 736x1280 15 players, 1 referee, 40.1ms\n",
      "Speed: 6.6ms preprocess, 40.1ms inference, 11.9ms postprocess per image at shape (1, 3, 736, 1280)\n"
     ]
    },
    {
     "name": "stderr",
     "output_type": "stream",
     "text": [
      "Processing Frames:   7%|███████▋                                                                                                       | 268/3864 [01:08<11:49,  5.07frame/s, Frame=268, Second=5.36]"
     ]
    },
    {
     "name": "stdout",
     "output_type": "stream",
     "text": [
      "Frame number: 267\n",
      "Second : 5.34\n",
      "\n",
      "0: 736x1280 16 players, 1 referee, 40.5ms\n",
      "Speed: 6.5ms preprocess, 40.5ms inference, 12.0ms postprocess per image at shape (1, 3, 736, 1280)\n"
     ]
    },
    {
     "name": "stderr",
     "output_type": "stream",
     "text": [
      "Processing Frames:   7%|███████▋                                                                                                       | 269/3864 [01:09<12:01,  4.98frame/s, Frame=269, Second=5.38]"
     ]
    },
    {
     "name": "stdout",
     "output_type": "stream",
     "text": [
      "Frame number: 268\n",
      "Second : 5.36\n",
      "\n",
      "0: 736x1280 17 players, 1 referee, 30.0ms\n",
      "Speed: 7.2ms preprocess, 30.0ms inference, 3.1ms postprocess per image at shape (1, 3, 736, 1280)\n"
     ]
    },
    {
     "name": "stderr",
     "output_type": "stream",
     "text": [
      "Processing Frames:   7%|███████▊                                                                                                        | 270/3864 [01:09<11:48,  5.07frame/s, Frame=270, Second=5.4]"
     ]
    },
    {
     "name": "stdout",
     "output_type": "stream",
     "text": [
      "Frame number: 269\n",
      "Second : 5.38\n",
      "\n",
      "0: 736x1280 17 players, 1 referee, 19.9ms\n",
      "Speed: 18.2ms preprocess, 19.9ms inference, 1.7ms postprocess per image at shape (1, 3, 736, 1280)\n"
     ]
    },
    {
     "name": "stderr",
     "output_type": "stream",
     "text": [
      "Processing Frames:   7%|███████▊                                                                                                       | 271/3864 [01:09<11:31,  5.20frame/s, Frame=271, Second=5.42]"
     ]
    },
    {
     "name": "stdout",
     "output_type": "stream",
     "text": [
      "Frame number: 270\n",
      "Second : 5.4\n",
      "\n",
      "0: 736x1280 17 players, 1 referee, 39.5ms\n",
      "Speed: 9.6ms preprocess, 39.5ms inference, 11.9ms postprocess per image at shape (1, 3, 736, 1280)\n"
     ]
    },
    {
     "name": "stderr",
     "output_type": "stream",
     "text": [
      "Processing Frames:   7%|███████▊                                                                                                       | 272/3864 [01:09<11:58,  5.00frame/s, Frame=272, Second=5.44]"
     ]
    },
    {
     "name": "stdout",
     "output_type": "stream",
     "text": [
      "Frame number: 271\n",
      "Second : 5.42\n",
      "\n",
      "0: 736x1280 17 players, 1 referee, 32.5ms\n",
      "Speed: 6.0ms preprocess, 32.5ms inference, 11.8ms postprocess per image at shape (1, 3, 736, 1280)\n"
     ]
    },
    {
     "name": "stderr",
     "output_type": "stream",
     "text": [
      "Processing Frames:   7%|███████▊                                                                                                       | 273/3864 [01:09<12:00,  4.98frame/s, Frame=273, Second=5.46]"
     ]
    },
    {
     "name": "stdout",
     "output_type": "stream",
     "text": [
      "Frame number: 272\n",
      "Second : 5.44\n",
      "\n",
      "0: 736x1280 16 players, 1 referee, 40.3ms\n",
      "Speed: 9.2ms preprocess, 40.3ms inference, 11.8ms postprocess per image at shape (1, 3, 736, 1280)\n"
     ]
    },
    {
     "name": "stderr",
     "output_type": "stream",
     "text": [
      "Processing Frames:   7%|███████▊                                                                                                       | 274/3864 [01:10<12:11,  4.91frame/s, Frame=274, Second=5.48]"
     ]
    },
    {
     "name": "stdout",
     "output_type": "stream",
     "text": [
      "Frame number: 273\n",
      "Second : 5.46\n",
      "\n",
      "0: 736x1280 15 players, 1 referee, 40.0ms\n",
      "Speed: 7.3ms preprocess, 40.0ms inference, 11.6ms postprocess per image at shape (1, 3, 736, 1280)\n"
     ]
    },
    {
     "name": "stderr",
     "output_type": "stream",
     "text": [
      "Processing Frames:   7%|███████▉                                                                                                       | 275/3864 [01:10<12:02,  4.97frame/s, Frame=274, Second=5.48]"
     ]
    },
    {
     "name": "stdout",
     "output_type": "stream",
     "text": [
      "Frame number: 274\n",
      "Second : 5.48\n"
     ]
    },
    {
     "name": "stderr",
     "output_type": "stream",
     "text": [
      "Processing Frames:   7%|███████▉                                                                                                        | 275/3864 [01:10<12:02,  4.97frame/s, Frame=275, Second=5.5]"
     ]
    },
    {
     "name": "stdout",
     "output_type": "stream",
     "text": [
      "\n",
      "0: 736x1280 15 players, 1 referee, 34.4ms\n",
      "Speed: 26.9ms preprocess, 34.4ms inference, 1.7ms postprocess per image at shape (1, 3, 736, 1280)\n"
     ]
    },
    {
     "name": "stderr",
     "output_type": "stream",
     "text": [
      "Processing Frames:   7%|███████▉                                                                                                       | 276/3864 [01:10<12:08,  4.92frame/s, Frame=276, Second=5.52]"
     ]
    },
    {
     "name": "stdout",
     "output_type": "stream",
     "text": [
      "Frame number: 275\n",
      "Second : 5.5\n",
      "\n",
      "0: 736x1280 15 players, 1 referee, 40.7ms\n",
      "Speed: 7.3ms preprocess, 40.7ms inference, 12.0ms postprocess per image at shape (1, 3, 736, 1280)\n"
     ]
    },
    {
     "name": "stderr",
     "output_type": "stream",
     "text": [
      "Processing Frames:   7%|███████▉                                                                                                       | 277/3864 [01:10<13:15,  4.51frame/s, Frame=277, Second=5.54]"
     ]
    },
    {
     "name": "stdout",
     "output_type": "stream",
     "text": [
      "Frame number: 276\n",
      "Second : 5.52\n",
      "\n",
      "0: 736x1280 15 players, 1 referee, 19.4ms\n",
      "Speed: 6.0ms preprocess, 19.4ms inference, 1.3ms postprocess per image at shape (1, 3, 736, 1280)\n"
     ]
    },
    {
     "name": "stderr",
     "output_type": "stream",
     "text": [
      "Processing Frames:   7%|███████▉                                                                                                       | 278/3864 [01:10<11:54,  5.02frame/s, Frame=278, Second=5.56]"
     ]
    },
    {
     "name": "stdout",
     "output_type": "stream",
     "text": [
      "Frame number: 277\n",
      "Second : 5.54\n",
      "\n",
      "0: 736x1280 16 players, 1 referee, 40.4ms\n",
      "Speed: 7.1ms preprocess, 40.4ms inference, 12.0ms postprocess per image at shape (1, 3, 736, 1280)\n"
     ]
    },
    {
     "name": "stderr",
     "output_type": "stream",
     "text": [
      "Processing Frames:   7%|████████                                                                                                       | 279/3864 [01:11<12:04,  4.95frame/s, Frame=279, Second=5.58]"
     ]
    },
    {
     "name": "stdout",
     "output_type": "stream",
     "text": [
      "Frame number: 278\n",
      "Second : 5.56\n",
      "\n",
      "0: 736x1280 18 players, 1 referee, 40.2ms\n",
      "Speed: 7.2ms preprocess, 40.2ms inference, 12.0ms postprocess per image at shape (1, 3, 736, 1280)\n"
     ]
    },
    {
     "name": "stderr",
     "output_type": "stream",
     "text": [
      "Processing Frames:   7%|████████                                                                                                        | 280/3864 [01:11<12:14,  4.88frame/s, Frame=280, Second=5.6]"
     ]
    },
    {
     "name": "stdout",
     "output_type": "stream",
     "text": [
      "Frame number: 279\n",
      "Second : 5.58\n",
      "\n",
      "0: 736x1280 19 players, 1 referee, 40.1ms\n",
      "Speed: 7.1ms preprocess, 40.1ms inference, 11.9ms postprocess per image at shape (1, 3, 736, 1280)\n"
     ]
    },
    {
     "name": "stderr",
     "output_type": "stream",
     "text": [
      "Processing Frames:   7%|████████                                                                                                       | 281/3864 [01:11<12:26,  4.80frame/s, Frame=281, Second=5.62]"
     ]
    },
    {
     "name": "stdout",
     "output_type": "stream",
     "text": [
      "Frame number: 280\n",
      "Second : 5.6\n",
      "\n",
      "0: 736x1280 18 players, 1 referee, 40.2ms\n",
      "Speed: 9.3ms preprocess, 40.2ms inference, 11.9ms postprocess per image at shape (1, 3, 736, 1280)\n"
     ]
    },
    {
     "name": "stderr",
     "output_type": "stream",
     "text": [
      "Processing Frames:   7%|████████                                                                                                       | 282/3864 [01:11<12:45,  4.68frame/s, Frame=282, Second=5.64]"
     ]
    },
    {
     "name": "stdout",
     "output_type": "stream",
     "text": [
      "Frame number: 281\n",
      "Second : 5.62\n",
      "\n",
      "0: 736x1280 18 players, 1 referee, 30.9ms\n",
      "Speed: 10.1ms preprocess, 30.9ms inference, 11.9ms postprocess per image at shape (1, 3, 736, 1280)\n"
     ]
    },
    {
     "name": "stderr",
     "output_type": "stream",
     "text": [
      "Processing Frames:   7%|████████▏                                                                                                      | 283/3864 [01:11<13:18,  4.48frame/s, Frame=283, Second=5.66]"
     ]
    },
    {
     "name": "stdout",
     "output_type": "stream",
     "text": [
      "Frame number: 282\n",
      "Second : 5.64\n",
      "\n",
      "0: 736x1280 18 players, 1 referee, 43.6ms\n",
      "Speed: 6.2ms preprocess, 43.6ms inference, 12.0ms postprocess per image at shape (1, 3, 736, 1280)\n"
     ]
    },
    {
     "name": "stderr",
     "output_type": "stream",
     "text": [
      "Processing Frames:   7%|████████▏                                                                                                      | 284/3864 [01:12<13:41,  4.36frame/s, Frame=284, Second=5.68]"
     ]
    },
    {
     "name": "stdout",
     "output_type": "stream",
     "text": [
      "Frame number: 283\n",
      "Second : 5.66\n",
      "\n",
      "0: 736x1280 18 players, 1 referee, 18.7ms\n",
      "Speed: 5.9ms preprocess, 18.7ms inference, 1.2ms postprocess per image at shape (1, 3, 736, 1280)\n"
     ]
    },
    {
     "name": "stderr",
     "output_type": "stream",
     "text": [
      "Processing Frames:   7%|████████▎                                                                                                       | 285/3864 [01:12<12:21,  4.83frame/s, Frame=285, Second=5.7]"
     ]
    },
    {
     "name": "stdout",
     "output_type": "stream",
     "text": [
      "Frame number: 284\n",
      "Second : 5.68\n",
      "\n",
      "0: 736x1280 17 players, 1 referee, 40.6ms\n",
      "Speed: 8.1ms preprocess, 40.6ms inference, 12.0ms postprocess per image at shape (1, 3, 736, 1280)\n"
     ]
    },
    {
     "name": "stderr",
     "output_type": "stream",
     "text": [
      "Processing Frames:   7%|████████▏                                                                                                      | 286/3864 [01:12<12:29,  4.77frame/s, Frame=286, Second=5.72]"
     ]
    },
    {
     "name": "stdout",
     "output_type": "stream",
     "text": [
      "Frame number: 285\n",
      "Second : 5.7\n",
      "\n",
      "0: 736x1280 18 players, 1 referee, 39.9ms\n",
      "Speed: 7.0ms preprocess, 39.9ms inference, 12.2ms postprocess per image at shape (1, 3, 736, 1280)\n"
     ]
    },
    {
     "name": "stderr",
     "output_type": "stream",
     "text": [
      "Processing Frames:   7%|████████▏                                                                                                      | 287/3864 [01:12<12:38,  4.71frame/s, Frame=287, Second=5.74]"
     ]
    },
    {
     "name": "stdout",
     "output_type": "stream",
     "text": [
      "Frame number: 286\n",
      "Second : 5.72\n",
      "\n",
      "0: 736x1280 18 players, 1 referee, 39.7ms\n",
      "Speed: 7.0ms preprocess, 39.7ms inference, 11.8ms postprocess per image at shape (1, 3, 736, 1280)\n"
     ]
    },
    {
     "name": "stderr",
     "output_type": "stream",
     "text": [
      "Processing Frames:   7%|████████▎                                                                                                      | 288/3864 [01:13<12:49,  4.65frame/s, Frame=288, Second=5.76]"
     ]
    },
    {
     "name": "stdout",
     "output_type": "stream",
     "text": [
      "Frame number: 287\n",
      "Second : 5.74\n",
      "\n",
      "0: 736x1280 17 players, 1 referee, 18.2ms\n",
      "Speed: 6.3ms preprocess, 18.2ms inference, 1.3ms postprocess per image at shape (1, 3, 736, 1280)\n"
     ]
    },
    {
     "name": "stderr",
     "output_type": "stream",
     "text": [
      "Processing Frames:   7%|████████▎                                                                                                      | 289/3864 [01:13<12:58,  4.59frame/s, Frame=289, Second=5.78]"
     ]
    },
    {
     "name": "stdout",
     "output_type": "stream",
     "text": [
      "Frame number: 288\n",
      "Second : 5.76\n",
      "\n",
      "0: 736x1280 16 players, 1 referee, 40.4ms\n",
      "Speed: 7.6ms preprocess, 40.4ms inference, 12.0ms postprocess per image at shape (1, 3, 736, 1280)\n"
     ]
    },
    {
     "name": "stderr",
     "output_type": "stream",
     "text": [
      "Processing Frames:   8%|████████▍                                                                                                       | 290/3864 [01:13<13:10,  4.52frame/s, Frame=290, Second=5.8]"
     ]
    },
    {
     "name": "stdout",
     "output_type": "stream",
     "text": [
      "Frame number: 289\n",
      "Second : 5.78\n",
      "\n",
      "0: 736x1280 16 players, 1 referee, 53.3ms\n",
      "Speed: 18.6ms preprocess, 53.3ms inference, 11.9ms postprocess per image at shape (1, 3, 736, 1280)\n"
     ]
    },
    {
     "name": "stderr",
     "output_type": "stream",
     "text": [
      "Processing Frames:   8%|████████▎                                                                                                      | 291/3864 [01:13<13:15,  4.49frame/s, Frame=291, Second=5.82]"
     ]
    },
    {
     "name": "stdout",
     "output_type": "stream",
     "text": [
      "Frame number: 290\n",
      "Second : 5.8\n",
      "\n",
      "0: 736x1280 16 players, 1 referee, 18.2ms\n",
      "Speed: 6.0ms preprocess, 18.2ms inference, 1.4ms postprocess per image at shape (1, 3, 736, 1280)\n"
     ]
    },
    {
     "name": "stderr",
     "output_type": "stream",
     "text": [
      "Processing Frames:   8%|████████▍                                                                                                      | 292/3864 [01:13<12:22,  4.81frame/s, Frame=292, Second=5.84]"
     ]
    },
    {
     "name": "stdout",
     "output_type": "stream",
     "text": [
      "Frame number: 291\n",
      "Second : 5.82\n",
      "\n",
      "0: 736x1280 16 players, 2 referees, 40.6ms\n",
      "Speed: 7.3ms preprocess, 40.6ms inference, 11.9ms postprocess per image at shape (1, 3, 736, 1280)\n"
     ]
    },
    {
     "name": "stderr",
     "output_type": "stream",
     "text": [
      "Processing Frames:   8%|████████▍                                                                                                      | 293/3864 [01:14<12:26,  4.78frame/s, Frame=293, Second=5.86]"
     ]
    },
    {
     "name": "stdout",
     "output_type": "stream",
     "text": [
      "Frame number: 292\n",
      "Second : 5.84\n",
      "\n",
      "0: 736x1280 16 players, 1 referee, 40.3ms\n",
      "Speed: 8.0ms preprocess, 40.3ms inference, 11.8ms postprocess per image at shape (1, 3, 736, 1280)\n"
     ]
    },
    {
     "name": "stderr",
     "output_type": "stream",
     "text": [
      "Processing Frames:   8%|████████▍                                                                                                      | 294/3864 [01:14<12:28,  4.77frame/s, Frame=294, Second=5.88]"
     ]
    },
    {
     "name": "stdout",
     "output_type": "stream",
     "text": [
      "Frame number: 293\n",
      "Second : 5.86\n",
      "\n",
      "0: 736x1280 15 players, 1 referee, 40.3ms\n",
      "Speed: 7.6ms preprocess, 40.3ms inference, 12.0ms postprocess per image at shape (1, 3, 736, 1280)\n"
     ]
    },
    {
     "name": "stderr",
     "output_type": "stream",
     "text": [
      "Processing Frames:   8%|████████▌                                                                                                       | 295/3864 [01:14<12:23,  4.80frame/s, Frame=295, Second=5.9]"
     ]
    },
    {
     "name": "stdout",
     "output_type": "stream",
     "text": [
      "Frame number: 294\n",
      "Second : 5.88\n",
      "\n",
      "0: 736x1280 16 players, 1 referee, 40.0ms\n",
      "Speed: 8.7ms preprocess, 40.0ms inference, 4.2ms postprocess per image at shape (1, 3, 736, 1280)\n"
     ]
    },
    {
     "name": "stderr",
     "output_type": "stream",
     "text": [
      "Processing Frames:   8%|████████▌                                                                                                      | 296/3864 [01:14<11:43,  5.07frame/s, Frame=296, Second=5.92]"
     ]
    },
    {
     "name": "stdout",
     "output_type": "stream",
     "text": [
      "Frame number: 295\n",
      "Second : 5.9\n",
      "\n",
      "0: 736x1280 15 players, 1 referee, 28.8ms\n",
      "Speed: 11.9ms preprocess, 28.8ms inference, 1.6ms postprocess per image at shape (1, 3, 736, 1280)\n"
     ]
    },
    {
     "name": "stderr",
     "output_type": "stream",
     "text": [
      "Processing Frames:   8%|████████▌                                                                                                      | 297/3864 [01:14<11:26,  5.19frame/s, Frame=297, Second=5.94]"
     ]
    },
    {
     "name": "stdout",
     "output_type": "stream",
     "text": [
      "Frame number: 296\n",
      "Second : 5.92\n",
      "\n",
      "0: 736x1280 15 players, 1 referee, 25.5ms\n",
      "Speed: 6.0ms preprocess, 25.5ms inference, 1.6ms postprocess per image at shape (1, 3, 736, 1280)\n"
     ]
    },
    {
     "name": "stderr",
     "output_type": "stream",
     "text": [
      "Processing Frames:   8%|████████▌                                                                                                      | 298/3864 [01:15<11:17,  5.26frame/s, Frame=298, Second=5.96]"
     ]
    },
    {
     "name": "stdout",
     "output_type": "stream",
     "text": [
      "Frame number: 297\n",
      "Second : 5.94\n",
      "\n",
      "0: 736x1280 14 players, 1 referee, 19.4ms\n",
      "Speed: 5.8ms preprocess, 19.4ms inference, 1.3ms postprocess per image at shape (1, 3, 736, 1280)\n"
     ]
    },
    {
     "name": "stderr",
     "output_type": "stream",
     "text": [
      "Processing Frames:   8%|████████▌                                                                                                      | 299/3864 [01:15<10:36,  5.60frame/s, Frame=299, Second=5.98]"
     ]
    },
    {
     "name": "stdout",
     "output_type": "stream",
     "text": [
      "Frame number: 298\n",
      "Second : 5.96\n",
      "\n",
      "0: 736x1280 16 players, 1 referee, 40.2ms\n",
      "Speed: 6.9ms preprocess, 40.2ms inference, 11.8ms postprocess per image at shape (1, 3, 736, 1280)\n"
     ]
    },
    {
     "name": "stderr",
     "output_type": "stream",
     "text": [
      "Processing Frames:   8%|████████▊                                                                                                         | 300/3864 [01:15<11:08,  5.33frame/s, Frame=300, Second=6]"
     ]
    },
    {
     "name": "stdout",
     "output_type": "stream",
     "text": [
      "Frame number: 299\n",
      "Second : 5.98\n",
      "\n",
      "0: 736x1280 15 players, 1 referee, 40.5ms\n",
      "Speed: 7.4ms preprocess, 40.5ms inference, 11.9ms postprocess per image at shape (1, 3, 736, 1280)\n"
     ]
    },
    {
     "name": "stderr",
     "output_type": "stream",
     "text": [
      "Processing Frames:   8%|████████▋                                                                                                      | 301/3864 [01:15<11:30,  5.16frame/s, Frame=301, Second=6.02]"
     ]
    },
    {
     "name": "stdout",
     "output_type": "stream",
     "text": [
      "Frame number: 300\n",
      "Second : 6.0\n",
      "\n",
      "0: 736x1280 15 players, 1 referee, 39.8ms\n",
      "Speed: 8.5ms preprocess, 39.8ms inference, 11.7ms postprocess per image at shape (1, 3, 736, 1280)\n"
     ]
    },
    {
     "name": "stderr",
     "output_type": "stream",
     "text": [
      "Processing Frames:   8%|████████▋                                                                                                      | 302/3864 [01:15<11:23,  5.21frame/s, Frame=302, Second=6.04]"
     ]
    },
    {
     "name": "stdout",
     "output_type": "stream",
     "text": [
      "Frame number: 301\n",
      "Second : 6.02\n",
      "\n",
      "0: 736x1280 14 players, 1 referee, 57.8ms\n",
      "Speed: 15.2ms preprocess, 57.8ms inference, 3.3ms postprocess per image at shape (1, 3, 736, 1280)\n"
     ]
    },
    {
     "name": "stderr",
     "output_type": "stream",
     "text": [
      "Processing Frames:   8%|████████▋                                                                                                      | 303/3864 [01:16<11:37,  5.11frame/s, Frame=303, Second=6.06]"
     ]
    },
    {
     "name": "stdout",
     "output_type": "stream",
     "text": [
      "Frame number: 302\n",
      "Second : 6.04\n",
      "\n",
      "0: 736x1280 14 players, 1 referee, 42.4ms\n",
      "Speed: 6.0ms preprocess, 42.4ms inference, 11.9ms postprocess per image at shape (1, 3, 736, 1280)\n",
      "Frame number: 303\n",
      "Second : 6.06\n"
     ]
    },
    {
     "name": "stderr",
     "output_type": "stream",
     "text": [
      "Processing Frames:   8%|████████▋                                                                                                      | 304/3864 [01:16<11:41,  5.08frame/s, Frame=304, Second=6.08]"
     ]
    },
    {
     "name": "stdout",
     "output_type": "stream",
     "text": [
      "\n",
      "0: 736x1280 13 players, 1 referee, 19.6ms\n",
      "Speed: 5.9ms preprocess, 19.6ms inference, 1.2ms postprocess per image at shape (1, 3, 736, 1280)\n"
     ]
    },
    {
     "name": "stderr",
     "output_type": "stream",
     "text": [
      "Processing Frames:   8%|████████▊                                                                                                       | 305/3864 [01:16<10:48,  5.49frame/s, Frame=305, Second=6.1]"
     ]
    },
    {
     "name": "stdout",
     "output_type": "stream",
     "text": [
      "Frame number: 304\n",
      "Second : 6.08\n",
      "\n",
      "0: 736x1280 15 players, 1 referee, 40.3ms\n",
      "Speed: 8.5ms preprocess, 40.3ms inference, 12.0ms postprocess per image at shape (1, 3, 736, 1280)\n"
     ]
    },
    {
     "name": "stderr",
     "output_type": "stream",
     "text": [
      "Processing Frames:   8%|████████▊                                                                                                      | 306/3864 [01:16<11:15,  5.27frame/s, Frame=306, Second=6.12]"
     ]
    },
    {
     "name": "stdout",
     "output_type": "stream",
     "text": [
      "Frame number: 305\n",
      "Second : 6.1\n",
      "\n",
      "0: 736x1280 15 players, 1 referee, 40.2ms\n",
      "Speed: 7.4ms preprocess, 40.2ms inference, 11.9ms postprocess per image at shape (1, 3, 736, 1280)\n"
     ]
    },
    {
     "name": "stderr",
     "output_type": "stream",
     "text": [
      "Processing Frames:   8%|████████▊                                                                                                      | 307/3864 [01:16<11:38,  5.09frame/s, Frame=307, Second=6.14]"
     ]
    },
    {
     "name": "stdout",
     "output_type": "stream",
     "text": [
      "Frame number: 306\n",
      "Second : 6.12\n",
      "\n",
      "0: 736x1280 14 players, 1 referee, 19.7ms\n",
      "Speed: 6.4ms preprocess, 19.7ms inference, 1.3ms postprocess per image at shape (1, 3, 736, 1280)\n"
     ]
    },
    {
     "name": "stderr",
     "output_type": "stream",
     "text": [
      "Processing Frames:   8%|████████▊                                                                                                      | 308/3864 [01:17<12:10,  4.87frame/s, Frame=308, Second=6.16]"
     ]
    },
    {
     "name": "stdout",
     "output_type": "stream",
     "text": [
      "Frame number: 307\n",
      "Second : 6.14\n",
      "\n",
      "0: 736x1280 16 players, 1 referee, 43.2ms\n",
      "Speed: 8.0ms preprocess, 43.2ms inference, 12.0ms postprocess per image at shape (1, 3, 736, 1280)\n"
     ]
    },
    {
     "name": "stderr",
     "output_type": "stream",
     "text": [
      "Processing Frames:   8%|████████▉                                                                                                      | 309/3864 [01:17<12:44,  4.65frame/s, Frame=309, Second=6.18]"
     ]
    },
    {
     "name": "stdout",
     "output_type": "stream",
     "text": [
      "Frame number: 308\n",
      "Second : 6.16\n",
      "\n",
      "0: 736x1280 15 players, 1 referee, 19.1ms\n",
      "Speed: 6.2ms preprocess, 19.1ms inference, 1.3ms postprocess per image at shape (1, 3, 736, 1280)\n"
     ]
    },
    {
     "name": "stderr",
     "output_type": "stream",
     "text": [
      "Processing Frames:   8%|████████▉                                                                                                       | 310/3864 [01:17<11:38,  5.09frame/s, Frame=310, Second=6.2]"
     ]
    },
    {
     "name": "stdout",
     "output_type": "stream",
     "text": [
      "Frame number: 309\n",
      "Second : 6.18\n",
      "\n",
      "0: 736x1280 15 players, 1 referee, 40.5ms\n",
      "Speed: 6.4ms preprocess, 40.5ms inference, 12.0ms postprocess per image at shape (1, 3, 736, 1280)\n"
     ]
    },
    {
     "name": "stderr",
     "output_type": "stream",
     "text": [
      "Processing Frames:   8%|████████▉                                                                                                      | 311/3864 [01:17<11:48,  5.02frame/s, Frame=311, Second=6.22]"
     ]
    },
    {
     "name": "stdout",
     "output_type": "stream",
     "text": [
      "Frame number: 310\n",
      "Second : 6.2\n",
      "\n",
      "0: 736x1280 15 players, 1 referee, 40.5ms\n",
      "Speed: 7.6ms preprocess, 40.5ms inference, 11.8ms postprocess per image at shape (1, 3, 736, 1280)\n"
     ]
    },
    {
     "name": "stderr",
     "output_type": "stream",
     "text": [
      "Processing Frames:   8%|████████▉                                                                                                      | 312/3864 [01:17<11:56,  4.96frame/s, Frame=312, Second=6.24]"
     ]
    },
    {
     "name": "stdout",
     "output_type": "stream",
     "text": [
      "Frame number: 311\n",
      "Second : 6.22\n",
      "\n",
      "0: 736x1280 16 players, 1 referee, 40.4ms\n",
      "Speed: 6.9ms preprocess, 40.4ms inference, 11.9ms postprocess per image at shape (1, 3, 736, 1280)\n"
     ]
    },
    {
     "name": "stderr",
     "output_type": "stream",
     "text": [
      "Processing Frames:   8%|████████▉                                                                                                      | 313/3864 [01:18<12:09,  4.87frame/s, Frame=313, Second=6.26]"
     ]
    },
    {
     "name": "stdout",
     "output_type": "stream",
     "text": [
      "Frame number: 312\n",
      "Second : 6.24\n",
      "\n",
      "0: 736x1280 16 players, 1 referee, 19.3ms\n",
      "Speed: 6.4ms preprocess, 19.3ms inference, 1.6ms postprocess per image at shape (1, 3, 736, 1280)\n",
      "Frame number: 313\n",
      "Second : 6.26\n"
     ]
    },
    {
     "name": "stderr",
     "output_type": "stream",
     "text": [
      "Processing Frames:   8%|█████████                                                                                                      | 314/3864 [01:18<12:02,  4.91frame/s, Frame=314, Second=6.28]"
     ]
    },
    {
     "name": "stdout",
     "output_type": "stream",
     "text": [
      "\n",
      "0: 736x1280 16 players, 1 referee, 43.3ms\n",
      "Speed: 6.0ms preprocess, 43.3ms inference, 12.0ms postprocess per image at shape (1, 3, 736, 1280)\n"
     ]
    },
    {
     "name": "stderr",
     "output_type": "stream",
     "text": [
      "Processing Frames:   8%|█████████▏                                                                                                      | 315/3864 [01:18<12:48,  4.62frame/s, Frame=315, Second=6.3]"
     ]
    },
    {
     "name": "stdout",
     "output_type": "stream",
     "text": [
      "Frame number: 314\n",
      "Second : 6.28\n",
      "\n",
      "0: 736x1280 16 players, 1 referee, 19.0ms\n",
      "Speed: 5.7ms preprocess, 19.0ms inference, 1.2ms postprocess per image at shape (1, 3, 736, 1280)\n"
     ]
    },
    {
     "name": "stderr",
     "output_type": "stream",
     "text": [
      "Processing Frames:   8%|█████████                                                                                                      | 316/3864 [01:18<11:51,  4.99frame/s, Frame=316, Second=6.32]"
     ]
    },
    {
     "name": "stdout",
     "output_type": "stream",
     "text": [
      "Frame number: 315\n",
      "Second : 6.3\n",
      "\n",
      "0: 736x1280 15 players, 1 referee, 40.6ms\n",
      "Speed: 7.0ms preprocess, 40.6ms inference, 11.9ms postprocess per image at shape (1, 3, 736, 1280)\n"
     ]
    },
    {
     "name": "stderr",
     "output_type": "stream",
     "text": [
      "Processing Frames:   8%|█████████                                                                                                      | 317/3864 [01:18<12:00,  4.93frame/s, Frame=317, Second=6.34]"
     ]
    },
    {
     "name": "stdout",
     "output_type": "stream",
     "text": [
      "Frame number: 316\n",
      "Second : 6.32\n",
      "\n",
      "0: 736x1280 13 players, 2 referees, 40.3ms\n",
      "Speed: 7.8ms preprocess, 40.3ms inference, 11.8ms postprocess per image at shape (1, 3, 736, 1280)\n",
      "Frame number: 317\n",
      "Second : 6.34\n"
     ]
    },
    {
     "name": "stderr",
     "output_type": "stream",
     "text": [
      "Processing Frames:   8%|█████████▏                                                                                                     | 318/3864 [01:19<11:54,  4.96frame/s, Frame=318, Second=6.36]"
     ]
    },
    {
     "name": "stdout",
     "output_type": "stream",
     "text": [
      "\n",
      "0: 736x1280 15 players, 2 referees, 39.7ms\n",
      "Speed: 6.6ms preprocess, 39.7ms inference, 11.8ms postprocess per image at shape (1, 3, 736, 1280)\n"
     ]
    },
    {
     "name": "stderr",
     "output_type": "stream",
     "text": [
      "Processing Frames:   8%|█████████▏                                                                                                     | 319/3864 [01:19<11:53,  4.97frame/s, Frame=319, Second=6.38]"
     ]
    },
    {
     "name": "stdout",
     "output_type": "stream",
     "text": [
      "Frame number: 318\n",
      "Second : 6.36\n",
      "\n",
      "0: 736x1280 16 players, 1 referee, 40.4ms\n",
      "Speed: 8.0ms preprocess, 40.4ms inference, 1.8ms postprocess per image at shape (1, 3, 736, 1280)\n"
     ]
    },
    {
     "name": "stderr",
     "output_type": "stream",
     "text": [
      "Processing Frames:   8%|█████████▎                                                                                                      | 320/3864 [01:19<12:15,  4.82frame/s, Frame=320, Second=6.4]"
     ]
    },
    {
     "name": "stdout",
     "output_type": "stream",
     "text": [
      "Frame number: 319\n",
      "Second : 6.38\n",
      "\n",
      "0: 736x1280 15 players, 1 referee, 39.9ms\n",
      "Speed: 7.6ms preprocess, 39.9ms inference, 12.0ms postprocess per image at shape (1, 3, 736, 1280)\n"
     ]
    },
    {
     "name": "stderr",
     "output_type": "stream",
     "text": [
      "Processing Frames:   8%|█████████▏                                                                                                     | 321/3864 [01:19<12:32,  4.71frame/s, Frame=321, Second=6.42]"
     ]
    },
    {
     "name": "stdout",
     "output_type": "stream",
     "text": [
      "Frame number: 320\n",
      "Second : 6.4\n",
      "\n",
      "0: 736x1280 15 players, 1 referee, 19.6ms\n",
      "Speed: 5.7ms preprocess, 19.6ms inference, 1.7ms postprocess per image at shape (1, 3, 736, 1280)\n"
     ]
    },
    {
     "name": "stderr",
     "output_type": "stream",
     "text": [
      "Processing Frames:   8%|█████████▎                                                                                                     | 322/3864 [01:19<11:22,  5.19frame/s, Frame=322, Second=6.44]"
     ]
    },
    {
     "name": "stdout",
     "output_type": "stream",
     "text": [
      "Frame number: 321\n",
      "Second : 6.42\n",
      "\n",
      "0: 736x1280 18 players, 19.4ms\n",
      "Speed: 5.9ms preprocess, 19.4ms inference, 1.3ms postprocess per image at shape (1, 3, 736, 1280)\n"
     ]
    },
    {
     "name": "stderr",
     "output_type": "stream",
     "text": [
      "Processing Frames:   8%|█████████▎                                                                                                     | 323/3864 [01:20<11:26,  5.16frame/s, Frame=322, Second=6.44]"
     ]
    },
    {
     "name": "stdout",
     "output_type": "stream",
     "text": [
      "Frame number: 322\n",
      "Second : 6.44\n"
     ]
    },
    {
     "name": "stderr",
     "output_type": "stream",
     "text": [
      "Processing Frames:   8%|█████████▎                                                                                                     | 323/3864 [01:20<11:26,  5.16frame/s, Frame=323, Second=6.46]"
     ]
    },
    {
     "name": "stdout",
     "output_type": "stream",
     "text": [
      "\n",
      "0: 736x1280 17 players, 40.4ms\n",
      "Speed: 6.0ms preprocess, 40.4ms inference, 12.0ms postprocess per image at shape (1, 3, 736, 1280)\n"
     ]
    },
    {
     "name": "stderr",
     "output_type": "stream",
     "text": [
      "Processing Frames:   8%|█████████▎                                                                                                     | 324/3864 [01:20<11:42,  5.04frame/s, Frame=324, Second=6.48]"
     ]
    },
    {
     "name": "stdout",
     "output_type": "stream",
     "text": [
      "Frame number: 323\n",
      "Second : 6.46\n",
      "\n",
      "0: 736x1280 15 players, 40.3ms\n",
      "Speed: 8.6ms preprocess, 40.3ms inference, 11.9ms postprocess per image at shape (1, 3, 736, 1280)\n"
     ]
    },
    {
     "name": "stderr",
     "output_type": "stream",
     "text": [
      "Processing Frames:   8%|█████████▍                                                                                                      | 325/3864 [01:20<11:51,  4.98frame/s, Frame=325, Second=6.5]"
     ]
    },
    {
     "name": "stdout",
     "output_type": "stream",
     "text": [
      "Frame number: 324\n",
      "Second : 6.48\n",
      "\n",
      "0: 736x1280 17 players, 40.4ms\n",
      "Speed: 6.5ms preprocess, 40.4ms inference, 12.0ms postprocess per image at shape (1, 3, 736, 1280)\n"
     ]
    },
    {
     "name": "stderr",
     "output_type": "stream",
     "text": [
      "Processing Frames:   8%|█████████▎                                                                                                     | 326/3864 [01:20<11:56,  4.94frame/s, Frame=326, Second=6.52]"
     ]
    },
    {
     "name": "stdout",
     "output_type": "stream",
     "text": [
      "Frame number: 325\n",
      "Second : 6.5\n",
      "\n",
      "0: 736x1280 18 players, 39.8ms\n",
      "Speed: 8.7ms preprocess, 39.8ms inference, 3.1ms postprocess per image at shape (1, 3, 736, 1280)\n",
      "Frame number: 326\n",
      "Second : 6.52\n"
     ]
    },
    {
     "name": "stderr",
     "output_type": "stream",
     "text": [
      "Processing Frames:   8%|█████████▍                                                                                                     | 327/3864 [01:20<12:00,  4.91frame/s, Frame=327, Second=6.54]"
     ]
    },
    {
     "name": "stdout",
     "output_type": "stream",
     "text": [
      "\n",
      "0: 736x1280 17 players, 36.6ms\n",
      "Speed: 13.3ms preprocess, 36.6ms inference, 12.0ms postprocess per image at shape (1, 3, 736, 1280)\n"
     ]
    },
    {
     "name": "stderr",
     "output_type": "stream",
     "text": [
      "Processing Frames:   8%|█████████▍                                                                                                     | 328/3864 [01:21<14:09,  4.16frame/s, Frame=328, Second=6.56]"
     ]
    },
    {
     "name": "stdout",
     "output_type": "stream",
     "text": [
      "Frame number: 327\n",
      "Second : 6.54\n",
      "\n",
      "0: 736x1280 16 players, 19.4ms\n",
      "Speed: 8.6ms preprocess, 19.4ms inference, 1.3ms postprocess per image at shape (1, 3, 736, 1280)\n"
     ]
    },
    {
     "name": "stderr",
     "output_type": "stream",
     "text": [
      "Processing Frames:   9%|█████████▍                                                                                                     | 329/3864 [01:21<12:37,  4.66frame/s, Frame=329, Second=6.58]"
     ]
    },
    {
     "name": "stdout",
     "output_type": "stream",
     "text": [
      "Frame number: 328\n",
      "Second : 6.56\n",
      "\n",
      "0: 736x1280 17 players, 45.5ms\n",
      "Speed: 5.8ms preprocess, 45.5ms inference, 11.9ms postprocess per image at shape (1, 3, 736, 1280)\n"
     ]
    },
    {
     "name": "stderr",
     "output_type": "stream",
     "text": [
      "Processing Frames:   9%|█████████▌                                                                                                      | 330/3864 [01:21<12:34,  4.68frame/s, Frame=330, Second=6.6]"
     ]
    },
    {
     "name": "stdout",
     "output_type": "stream",
     "text": [
      "Frame number: 329\n",
      "Second : 6.58\n",
      "\n",
      "0: 736x1280 16 players, 40.6ms\n",
      "Speed: 7.9ms preprocess, 40.6ms inference, 11.8ms postprocess per image at shape (1, 3, 736, 1280)\n"
     ]
    },
    {
     "name": "stderr",
     "output_type": "stream",
     "text": [
      "Processing Frames:   9%|█████████▌                                                                                                     | 331/3864 [01:21<12:29,  4.71frame/s, Frame=331, Second=6.62]"
     ]
    },
    {
     "name": "stdout",
     "output_type": "stream",
     "text": [
      "Frame number: 330\n",
      "Second : 6.6\n",
      "\n",
      "0: 736x1280 17 players, 40.2ms\n",
      "Speed: 6.7ms preprocess, 40.2ms inference, 11.8ms postprocess per image at shape (1, 3, 736, 1280)\n"
     ]
    },
    {
     "name": "stderr",
     "output_type": "stream",
     "text": [
      "Processing Frames:   9%|█████████▌                                                                                                     | 332/3864 [01:21<12:20,  4.77frame/s, Frame=332, Second=6.64]"
     ]
    },
    {
     "name": "stdout",
     "output_type": "stream",
     "text": [
      "Frame number: 331\n",
      "Second : 6.62\n",
      "\n",
      "0: 736x1280 17 players, 23.6ms\n",
      "Speed: 8.1ms preprocess, 23.6ms inference, 1.8ms postprocess per image at shape (1, 3, 736, 1280)\n"
     ]
    },
    {
     "name": "stderr",
     "output_type": "stream",
     "text": [
      "Processing Frames:   9%|█████████▌                                                                                                     | 333/3864 [01:22<12:15,  4.80frame/s, Frame=333, Second=6.66]"
     ]
    },
    {
     "name": "stdout",
     "output_type": "stream",
     "text": [
      "Frame number: 332\n",
      "Second : 6.64\n",
      "\n",
      "0: 736x1280 19 players, 21.0ms\n",
      "Speed: 5.9ms preprocess, 21.0ms inference, 1.6ms postprocess per image at shape (1, 3, 736, 1280)\n"
     ]
    },
    {
     "name": "stderr",
     "output_type": "stream",
     "text": [
      "Processing Frames:   9%|█████████▌                                                                                                     | 334/3864 [01:22<11:54,  4.94frame/s, Frame=334, Second=6.68]"
     ]
    },
    {
     "name": "stdout",
     "output_type": "stream",
     "text": [
      "Frame number: 333\n",
      "Second : 6.66\n",
      "\n",
      "0: 736x1280 19 players, 1 referee, 18.5ms\n",
      "Speed: 5.9ms preprocess, 18.5ms inference, 1.3ms postprocess per image at shape (1, 3, 736, 1280)\n"
     ]
    },
    {
     "name": "stderr",
     "output_type": "stream",
     "text": [
      "Processing Frames:   9%|█████████▋                                                                                                      | 335/3864 [01:22<11:08,  5.28frame/s, Frame=335, Second=6.7]"
     ]
    },
    {
     "name": "stdout",
     "output_type": "stream",
     "text": [
      "Frame number: 334\n",
      "Second : 6.68\n",
      "\n",
      "0: 736x1280 17 players, 1 referee, 43.4ms\n",
      "Speed: 7.3ms preprocess, 43.4ms inference, 11.7ms postprocess per image at shape (1, 3, 736, 1280)\n"
     ]
    },
    {
     "name": "stderr",
     "output_type": "stream",
     "text": [
      "Processing Frames:   9%|█████████▋                                                                                                     | 336/3864 [01:22<11:39,  5.05frame/s, Frame=336, Second=6.72]"
     ]
    },
    {
     "name": "stdout",
     "output_type": "stream",
     "text": [
      "Frame number: 335\n",
      "Second : 6.7\n",
      "\n",
      "0: 736x1280 18 players, 1 referee, 40.4ms\n",
      "Speed: 7.8ms preprocess, 40.4ms inference, 11.9ms postprocess per image at shape (1, 3, 736, 1280)\n"
     ]
    },
    {
     "name": "stderr",
     "output_type": "stream",
     "text": [
      "Processing Frames:   9%|█████████▋                                                                                                     | 337/3864 [01:22<12:03,  4.87frame/s, Frame=337, Second=6.74]"
     ]
    },
    {
     "name": "stdout",
     "output_type": "stream",
     "text": [
      "Frame number: 336\n",
      "Second : 6.72\n",
      "\n",
      "0: 736x1280 17 players, 1 referee, 33.6ms\n",
      "Speed: 5.9ms preprocess, 33.6ms inference, 1.6ms postprocess per image at shape (1, 3, 736, 1280)\n"
     ]
    },
    {
     "name": "stderr",
     "output_type": "stream",
     "text": [
      "Processing Frames:   9%|█████████▋                                                                                                     | 338/3864 [01:23<12:07,  4.85frame/s, Frame=338, Second=6.76]"
     ]
    },
    {
     "name": "stdout",
     "output_type": "stream",
     "text": [
      "Frame number: 337\n",
      "Second : 6.74\n",
      "\n",
      "0: 736x1280 17 players, 2 referees, 44.1ms\n",
      "Speed: 6.4ms preprocess, 44.1ms inference, 4.7ms postprocess per image at shape (1, 3, 736, 1280)\n"
     ]
    },
    {
     "name": "stderr",
     "output_type": "stream",
     "text": [
      "Processing Frames:   9%|█████████▋                                                                                                     | 339/3864 [01:23<12:11,  4.82frame/s, Frame=339, Second=6.78]"
     ]
    },
    {
     "name": "stdout",
     "output_type": "stream",
     "text": [
      "Frame number: 338\n",
      "Second : 6.76\n",
      "\n",
      "0: 736x1280 17 players, 1 referee, 18.8ms\n",
      "Speed: 5.9ms preprocess, 18.8ms inference, 1.3ms postprocess per image at shape (1, 3, 736, 1280)\n"
     ]
    },
    {
     "name": "stderr",
     "output_type": "stream",
     "text": [
      "Processing Frames:   9%|█████████▊                                                                                                      | 340/3864 [01:23<11:32,  5.09frame/s, Frame=340, Second=6.8]"
     ]
    },
    {
     "name": "stdout",
     "output_type": "stream",
     "text": [
      "Frame number: 339\n",
      "Second : 6.78\n",
      "\n",
      "0: 736x1280 17 players, 1 referee, 40.5ms\n",
      "Speed: 7.4ms preprocess, 40.5ms inference, 11.8ms postprocess per image at shape (1, 3, 736, 1280)\n"
     ]
    },
    {
     "name": "stderr",
     "output_type": "stream",
     "text": [
      "Processing Frames:   9%|█████████▊                                                                                                     | 341/3864 [01:23<11:54,  4.93frame/s, Frame=341, Second=6.82]"
     ]
    },
    {
     "name": "stdout",
     "output_type": "stream",
     "text": [
      "Frame number: 340\n",
      "Second : 6.8\n",
      "\n",
      "0: 736x1280 16 players, 2 referees, 40.2ms\n",
      "Speed: 7.2ms preprocess, 40.2ms inference, 12.0ms postprocess per image at shape (1, 3, 736, 1280)\n"
     ]
    },
    {
     "name": "stderr",
     "output_type": "stream",
     "text": [
      "Processing Frames:   9%|█████████▊                                                                                                     | 342/3864 [01:23<12:07,  4.84frame/s, Frame=342, Second=6.84]"
     ]
    },
    {
     "name": "stdout",
     "output_type": "stream",
     "text": [
      "Frame number: 341\n",
      "Second : 6.82\n",
      "\n",
      "0: 736x1280 16 players, 1 referee, 18.9ms\n",
      "Speed: 6.7ms preprocess, 18.9ms inference, 1.4ms postprocess per image at shape (1, 3, 736, 1280)\n",
      "Frame number: 342\n",
      "Second : 6.84\n"
     ]
    },
    {
     "name": "stderr",
     "output_type": "stream",
     "text": [
      "Processing Frames:   9%|█████████▊                                                                                                     | 343/3864 [01:24<11:59,  4.90frame/s, Frame=343, Second=6.86]"
     ]
    },
    {
     "name": "stdout",
     "output_type": "stream",
     "text": [
      "\n",
      "0: 736x1280 16 players, 1 referee, 40.5ms\n",
      "Speed: 8.0ms preprocess, 40.5ms inference, 11.9ms postprocess per image at shape (1, 3, 736, 1280)\n"
     ]
    },
    {
     "name": "stderr",
     "output_type": "stream",
     "text": [
      "Processing Frames:   9%|█████████▉                                                                                                     | 344/3864 [01:24<12:02,  4.87frame/s, Frame=344, Second=6.88]"
     ]
    },
    {
     "name": "stdout",
     "output_type": "stream",
     "text": [
      "Frame number: 343\n",
      "Second : 6.86\n",
      "\n",
      "0: 736x1280 17 players, 1 referee, 40.5ms\n",
      "Speed: 10.1ms preprocess, 40.5ms inference, 11.9ms postprocess per image at shape (1, 3, 736, 1280)\n"
     ]
    },
    {
     "name": "stderr",
     "output_type": "stream",
     "text": [
      "Processing Frames:   9%|██████████                                                                                                      | 345/3864 [01:24<12:09,  4.83frame/s, Frame=345, Second=6.9]"
     ]
    },
    {
     "name": "stdout",
     "output_type": "stream",
     "text": [
      "Frame number: 344\n",
      "Second : 6.88\n",
      "\n",
      "0: 736x1280 18 players, 1 referee, 19.5ms\n",
      "Speed: 5.8ms preprocess, 19.5ms inference, 1.3ms postprocess per image at shape (1, 3, 736, 1280)\n"
     ]
    },
    {
     "name": "stderr",
     "output_type": "stream",
     "text": [
      "Processing Frames:   9%|█████████▉                                                                                                     | 346/3864 [01:24<11:25,  5.13frame/s, Frame=346, Second=6.92]"
     ]
    },
    {
     "name": "stdout",
     "output_type": "stream",
     "text": [
      "Frame number: 345\n",
      "Second : 6.9\n",
      "\n",
      "0: 736x1280 16 players, 1 referee, 40.4ms\n",
      "Speed: 7.4ms preprocess, 40.4ms inference, 11.8ms postprocess per image at shape (1, 3, 736, 1280)\n"
     ]
    },
    {
     "name": "stderr",
     "output_type": "stream",
     "text": [
      "Processing Frames:   9%|█████████▉                                                                                                     | 347/3864 [01:24<11:39,  5.03frame/s, Frame=347, Second=6.94]"
     ]
    },
    {
     "name": "stdout",
     "output_type": "stream",
     "text": [
      "Frame number: 346\n",
      "Second : 6.92\n",
      "\n",
      "0: 736x1280 17 players, 1 referee, 40.4ms\n",
      "Speed: 7.9ms preprocess, 40.4ms inference, 11.9ms postprocess per image at shape (1, 3, 736, 1280)\n"
     ]
    },
    {
     "name": "stderr",
     "output_type": "stream",
     "text": [
      "Processing Frames:   9%|█████████▉                                                                                                     | 348/3864 [01:25<11:52,  4.94frame/s, Frame=348, Second=6.96]"
     ]
    },
    {
     "name": "stdout",
     "output_type": "stream",
     "text": [
      "Frame number: 347\n",
      "Second : 6.94\n",
      "\n",
      "0: 736x1280 16 players, 1 referee, 40.3ms\n",
      "Speed: 8.1ms preprocess, 40.3ms inference, 11.9ms postprocess per image at shape (1, 3, 736, 1280)\n"
     ]
    },
    {
     "name": "stderr",
     "output_type": "stream",
     "text": [
      "Processing Frames:   9%|██████████                                                                                                     | 349/3864 [01:25<12:03,  4.86frame/s, Frame=349, Second=6.98]"
     ]
    },
    {
     "name": "stdout",
     "output_type": "stream",
     "text": [
      "Frame number: 348\n",
      "Second : 6.96\n",
      "\n",
      "0: 736x1280 16 players, 1 referee, 32.1ms\n",
      "Speed: 10.2ms preprocess, 32.1ms inference, 9.1ms postprocess per image at shape (1, 3, 736, 1280)\n"
     ]
    },
    {
     "name": "stderr",
     "output_type": "stream",
     "text": [
      "Processing Frames:   9%|██████████▎                                                                                                       | 350/3864 [01:25<12:29,  4.69frame/s, Frame=350, Second=7]"
     ]
    },
    {
     "name": "stdout",
     "output_type": "stream",
     "text": [
      "Frame number: 349\n",
      "Second : 6.98\n",
      "\n",
      "0: 736x1280 15 players, 1 referee, 43.4ms\n",
      "Speed: 8.3ms preprocess, 43.4ms inference, 11.8ms postprocess per image at shape (1, 3, 736, 1280)\n"
     ]
    },
    {
     "name": "stderr",
     "output_type": "stream",
     "text": [
      "Processing Frames:   9%|██████████                                                                                                     | 351/3864 [01:25<12:54,  4.53frame/s, Frame=351, Second=7.02]"
     ]
    },
    {
     "name": "stdout",
     "output_type": "stream",
     "text": [
      "Frame number: 350\n",
      "Second : 7.0\n",
      "\n",
      "0: 736x1280 16 players, 1 referee, 18.9ms\n",
      "Speed: 6.6ms preprocess, 18.9ms inference, 1.2ms postprocess per image at shape (1, 3, 736, 1280)\n"
     ]
    },
    {
     "name": "stderr",
     "output_type": "stream",
     "text": [
      "Processing Frames:   9%|██████████                                                                                                     | 352/3864 [01:26<12:00,  4.88frame/s, Frame=352, Second=7.04]"
     ]
    },
    {
     "name": "stdout",
     "output_type": "stream",
     "text": [
      "Frame number: 351\n",
      "Second : 7.02\n",
      "\n",
      "0: 736x1280 1 ball, 16 players, 1 referee, 39.9ms\n",
      "Speed: 7.6ms preprocess, 39.9ms inference, 11.9ms postprocess per image at shape (1, 3, 736, 1280)\n"
     ]
    },
    {
     "name": "stderr",
     "output_type": "stream",
     "text": [
      "Processing Frames:   9%|██████████▏                                                                                                    | 353/3864 [01:26<12:16,  4.77frame/s, Frame=353, Second=7.06]"
     ]
    },
    {
     "name": "stdout",
     "output_type": "stream",
     "text": [
      "Frame number: 352\n",
      "Second : 7.04\n",
      "\n",
      "0: 736x1280 18 players, 1 referee, 42.9ms\n",
      "Speed: 6.4ms preprocess, 42.9ms inference, 12.0ms postprocess per image at shape (1, 3, 736, 1280)\n"
     ]
    },
    {
     "name": "stderr",
     "output_type": "stream",
     "text": [
      "Processing Frames:   9%|██████████▏                                                                                                    | 354/3864 [01:26<12:26,  4.70frame/s, Frame=354, Second=7.08]"
     ]
    },
    {
     "name": "stdout",
     "output_type": "stream",
     "text": [
      "Frame number: 353\n",
      "Second : 7.06\n",
      "\n",
      "0: 736x1280 17 players, 1 referee, 31.9ms\n",
      "Speed: 6.2ms preprocess, 31.9ms inference, 1.6ms postprocess per image at shape (1, 3, 736, 1280)\n"
     ]
    },
    {
     "name": "stderr",
     "output_type": "stream",
     "text": [
      "Processing Frames:   9%|██████████▎                                                                                                     | 355/3864 [01:26<12:21,  4.73frame/s, Frame=355, Second=7.1]"
     ]
    },
    {
     "name": "stdout",
     "output_type": "stream",
     "text": [
      "Frame number: 354\n",
      "Second : 7.08\n",
      "\n",
      "0: 736x1280 16 players, 1 referee, 40.7ms\n",
      "Speed: 6.6ms preprocess, 40.7ms inference, 12.0ms postprocess per image at shape (1, 3, 736, 1280)\n"
     ]
    },
    {
     "name": "stderr",
     "output_type": "stream",
     "text": [
      "Processing Frames:   9%|██████████▏                                                                                                    | 356/3864 [01:26<12:19,  4.75frame/s, Frame=356, Second=7.12]"
     ]
    },
    {
     "name": "stdout",
     "output_type": "stream",
     "text": [
      "Frame number: 355\n",
      "Second : 7.1\n",
      "\n",
      "0: 736x1280 16 players, 1 referee, 41.1ms\n",
      "Speed: 20.7ms preprocess, 41.1ms inference, 11.1ms postprocess per image at shape (1, 3, 736, 1280)\n"
     ]
    },
    {
     "name": "stderr",
     "output_type": "stream",
     "text": [
      "Processing Frames:   9%|██████████▎                                                                                                    | 357/3864 [01:27<12:17,  4.75frame/s, Frame=357, Second=7.14]"
     ]
    },
    {
     "name": "stdout",
     "output_type": "stream",
     "text": [
      "Frame number: 356\n",
      "Second : 7.12\n",
      "\n",
      "0: 736x1280 15 players, 1 referee, 18.4ms\n",
      "Speed: 6.2ms preprocess, 18.4ms inference, 1.4ms postprocess per image at shape (1, 3, 736, 1280)\n"
     ]
    },
    {
     "name": "stderr",
     "output_type": "stream",
     "text": [
      "Processing Frames:   9%|██████████▎                                                                                                    | 358/3864 [01:27<11:21,  5.15frame/s, Frame=358, Second=7.16]"
     ]
    },
    {
     "name": "stdout",
     "output_type": "stream",
     "text": [
      "Frame number: 357\n",
      "Second : 7.14\n",
      "\n",
      "0: 736x1280 17 players, 1 referee, 40.3ms\n",
      "Speed: 7.0ms preprocess, 40.3ms inference, 12.0ms postprocess per image at shape (1, 3, 736, 1280)\n"
     ]
    },
    {
     "name": "stderr",
     "output_type": "stream",
     "text": [
      "Processing Frames:   9%|██████████▎                                                                                                    | 359/3864 [01:27<11:39,  5.01frame/s, Frame=359, Second=7.18]"
     ]
    },
    {
     "name": "stdout",
     "output_type": "stream",
     "text": [
      "Frame number: 358\n",
      "Second : 7.16\n",
      "\n",
      "0: 736x1280 17 players, 1 referee, 40.5ms\n",
      "Speed: 6.3ms preprocess, 40.5ms inference, 11.8ms postprocess per image at shape (1, 3, 736, 1280)\n"
     ]
    },
    {
     "name": "stderr",
     "output_type": "stream",
     "text": [
      "Processing Frames:   9%|██████████▍                                                                                                     | 360/3864 [01:27<11:52,  4.92frame/s, Frame=360, Second=7.2]"
     ]
    },
    {
     "name": "stdout",
     "output_type": "stream",
     "text": [
      "Frame number: 359\n",
      "Second : 7.18\n",
      "\n",
      "0: 736x1280 18 players, 1 referee, 40.5ms\n",
      "Speed: 7.6ms preprocess, 40.5ms inference, 12.0ms postprocess per image at shape (1, 3, 736, 1280)\n"
     ]
    },
    {
     "name": "stderr",
     "output_type": "stream",
     "text": [
      "Processing Frames:   9%|██████████▎                                                                                                    | 361/3864 [01:27<12:00,  4.86frame/s, Frame=361, Second=7.22]"
     ]
    },
    {
     "name": "stdout",
     "output_type": "stream",
     "text": [
      "Frame number: 360\n",
      "Second : 7.2\n",
      "\n",
      "0: 736x1280 20 players, 1 referee, 30.5ms\n",
      "Speed: 8.6ms preprocess, 30.5ms inference, 1.4ms postprocess per image at shape (1, 3, 736, 1280)\n"
     ]
    },
    {
     "name": "stderr",
     "output_type": "stream",
     "text": [
      "Processing Frames:   9%|██████████▍                                                                                                    | 362/3864 [01:28<11:47,  4.95frame/s, Frame=362, Second=7.24]"
     ]
    },
    {
     "name": "stdout",
     "output_type": "stream",
     "text": [
      "Frame number: 361\n",
      "Second : 7.22\n",
      "\n",
      "0: 736x1280 18 players, 1 referee, 28.6ms\n",
      "Speed: 22.3ms preprocess, 28.6ms inference, 12.0ms postprocess per image at shape (1, 3, 736, 1280)\n"
     ]
    },
    {
     "name": "stderr",
     "output_type": "stream",
     "text": [
      "Processing Frames:   9%|██████████▍                                                                                                    | 363/3864 [01:28<12:12,  4.78frame/s, Frame=363, Second=7.26]"
     ]
    },
    {
     "name": "stdout",
     "output_type": "stream",
     "text": [
      "Frame number: 362\n",
      "Second : 7.24\n",
      "\n",
      "0: 736x1280 19 players, 1 referee, 38.9ms\n",
      "Speed: 5.8ms preprocess, 38.9ms inference, 13.3ms postprocess per image at shape (1, 3, 736, 1280)\n"
     ]
    },
    {
     "name": "stderr",
     "output_type": "stream",
     "text": [
      "Processing Frames:   9%|██████████▍                                                                                                    | 364/3864 [01:28<12:20,  4.73frame/s, Frame=364, Second=7.28]"
     ]
    },
    {
     "name": "stdout",
     "output_type": "stream",
     "text": [
      "Frame number: 363\n",
      "Second : 7.26\n",
      "\n",
      "0: 736x1280 16 players, 1 referee, 18.9ms\n",
      "Speed: 5.8ms preprocess, 18.9ms inference, 1.3ms postprocess per image at shape (1, 3, 736, 1280)\n"
     ]
    },
    {
     "name": "stderr",
     "output_type": "stream",
     "text": [
      "Processing Frames:   9%|██████████▌                                                                                                     | 365/3864 [01:28<11:26,  5.10frame/s, Frame=365, Second=7.3]"
     ]
    },
    {
     "name": "stdout",
     "output_type": "stream",
     "text": [
      "Frame number: 364\n",
      "Second : 7.28\n",
      "\n",
      "0: 736x1280 16 players, 1 referee, 40.4ms\n",
      "Speed: 8.5ms preprocess, 40.4ms inference, 12.0ms postprocess per image at shape (1, 3, 736, 1280)\n"
     ]
    },
    {
     "name": "stderr",
     "output_type": "stream",
     "text": [
      "Processing Frames:   9%|██████████▌                                                                                                    | 366/3864 [01:28<11:45,  4.96frame/s, Frame=366, Second=7.32]"
     ]
    },
    {
     "name": "stdout",
     "output_type": "stream",
     "text": [
      "Frame number: 365\n",
      "Second : 7.3\n",
      "\n",
      "0: 736x1280 16 players, 40.2ms\n",
      "Speed: 6.9ms preprocess, 40.2ms inference, 12.0ms postprocess per image at shape (1, 3, 736, 1280)\n"
     ]
    },
    {
     "name": "stderr",
     "output_type": "stream",
     "text": [
      "Processing Frames:   9%|██████████▌                                                                                                    | 367/3864 [01:29<11:49,  4.93frame/s, Frame=367, Second=7.34]"
     ]
    },
    {
     "name": "stdout",
     "output_type": "stream",
     "text": [
      "Frame number: 366\n",
      "Second : 7.32\n",
      "\n",
      "0: 736x1280 19 players, 1 referee, 40.0ms\n",
      "Speed: 7.6ms preprocess, 40.0ms inference, 12.0ms postprocess per image at shape (1, 3, 736, 1280)\n"
     ]
    },
    {
     "name": "stderr",
     "output_type": "stream",
     "text": [
      "Processing Frames:  10%|██████████▌                                                                                                    | 368/3864 [01:29<12:27,  4.68frame/s, Frame=368, Second=7.36]"
     ]
    },
    {
     "name": "stdout",
     "output_type": "stream",
     "text": [
      "Frame number: 367\n",
      "Second : 7.34\n",
      "\n",
      "0: 736x1280 20 players, 1 referee, 18.2ms\n",
      "Speed: 5.9ms preprocess, 18.2ms inference, 1.5ms postprocess per image at shape (1, 3, 736, 1280)\n"
     ]
    },
    {
     "name": "stderr",
     "output_type": "stream",
     "text": [
      "Processing Frames:  10%|██████████▌                                                                                                    | 369/3864 [01:29<12:15,  4.75frame/s, Frame=369, Second=7.38]"
     ]
    },
    {
     "name": "stdout",
     "output_type": "stream",
     "text": [
      "Frame number: 368\n",
      "Second : 7.36\n",
      "\n",
      "0: 736x1280 17 players, 1 referee, 43.5ms\n",
      "Speed: 6.2ms preprocess, 43.5ms inference, 12.1ms postprocess per image at shape (1, 3, 736, 1280)\n"
     ]
    },
    {
     "name": "stderr",
     "output_type": "stream",
     "text": [
      "Processing Frames:  10%|██████████▋                                                                                                     | 370/3864 [01:29<12:47,  4.55frame/s, Frame=370, Second=7.4]"
     ]
    },
    {
     "name": "stdout",
     "output_type": "stream",
     "text": [
      "Frame number: 369\n",
      "Second : 7.38\n",
      "\n",
      "0: 736x1280 18 players, 1 referee, 18.9ms\n",
      "Speed: 6.1ms preprocess, 18.9ms inference, 1.3ms postprocess per image at shape (1, 3, 736, 1280)\n"
     ]
    },
    {
     "name": "stderr",
     "output_type": "stream",
     "text": [
      "Processing Frames:  10%|██████████▋                                                                                                    | 371/3864 [01:29<11:50,  4.92frame/s, Frame=371, Second=7.42]"
     ]
    },
    {
     "name": "stdout",
     "output_type": "stream",
     "text": [
      "Frame number: 370\n",
      "Second : 7.4\n",
      "\n",
      "0: 736x1280 19 players, 1 referee, 40.5ms\n",
      "Speed: 7.6ms preprocess, 40.5ms inference, 11.9ms postprocess per image at shape (1, 3, 736, 1280)\n"
     ]
    },
    {
     "name": "stderr",
     "output_type": "stream",
     "text": [
      "Processing Frames:  10%|██████████▋                                                                                                    | 372/3864 [01:30<12:24,  4.69frame/s, Frame=372, Second=7.44]"
     ]
    },
    {
     "name": "stdout",
     "output_type": "stream",
     "text": [
      "Frame number: 371\n",
      "Second : 7.42\n",
      "\n",
      "0: 736x1280 17 players, 1 referee, 40.4ms\n",
      "Speed: 6.4ms preprocess, 40.4ms inference, 12.0ms postprocess per image at shape (1, 3, 736, 1280)\n"
     ]
    },
    {
     "name": "stderr",
     "output_type": "stream",
     "text": [
      "Processing Frames:  10%|██████████▋                                                                                                    | 373/3864 [01:30<12:50,  4.53frame/s, Frame=373, Second=7.46]"
     ]
    },
    {
     "name": "stdout",
     "output_type": "stream",
     "text": [
      "Frame number: 372\n",
      "Second : 7.44\n",
      "\n",
      "0: 736x1280 19 players, 1 referee, 32.2ms\n",
      "Speed: 6.6ms preprocess, 32.2ms inference, 1.5ms postprocess per image at shape (1, 3, 736, 1280)\n"
     ]
    },
    {
     "name": "stderr",
     "output_type": "stream",
     "text": [
      "Processing Frames:  10%|██████████▋                                                                                                    | 374/3864 [01:30<12:40,  4.59frame/s, Frame=374, Second=7.48]"
     ]
    },
    {
     "name": "stdout",
     "output_type": "stream",
     "text": [
      "Frame number: 373\n",
      "Second : 7.46\n",
      "\n",
      "0: 736x1280 20 players, 2 referees, 40.4ms\n",
      "Speed: 7.3ms preprocess, 40.4ms inference, 11.9ms postprocess per image at shape (1, 3, 736, 1280)\n"
     ]
    },
    {
     "name": "stderr",
     "output_type": "stream",
     "text": [
      "Processing Frames:  10%|██████████▊                                                                                                     | 375/3864 [01:30<12:43,  4.57frame/s, Frame=375, Second=7.5]"
     ]
    },
    {
     "name": "stdout",
     "output_type": "stream",
     "text": [
      "Frame number: 374\n",
      "Second : 7.48\n",
      "\n",
      "0: 736x1280 20 players, 2 referees, 40.4ms\n",
      "Speed: 8.8ms preprocess, 40.4ms inference, 11.9ms postprocess per image at shape (1, 3, 736, 1280)\n"
     ]
    },
    {
     "name": "stderr",
     "output_type": "stream",
     "text": [
      "Processing Frames:  10%|██████████▊                                                                                                    | 376/3864 [01:31<12:35,  4.62frame/s, Frame=376, Second=7.52]"
     ]
    },
    {
     "name": "stdout",
     "output_type": "stream",
     "text": [
      "Frame number: 375\n",
      "Second : 7.5\n",
      "\n",
      "0: 736x1280 18 players, 1 referee, 19.9ms\n",
      "Speed: 5.8ms preprocess, 19.9ms inference, 2.1ms postprocess per image at shape (1, 3, 736, 1280)\n"
     ]
    },
    {
     "name": "stderr",
     "output_type": "stream",
     "text": [
      "Processing Frames:  10%|██████████▊                                                                                                    | 377/3864 [01:31<11:51,  4.90frame/s, Frame=377, Second=7.54]"
     ]
    },
    {
     "name": "stdout",
     "output_type": "stream",
     "text": [
      "Frame number: 376\n",
      "Second : 7.52\n",
      "\n",
      "0: 736x1280 19 players, 1 referee, 40.0ms\n",
      "Speed: 7.0ms preprocess, 40.0ms inference, 12.1ms postprocess per image at shape (1, 3, 736, 1280)\n"
     ]
    },
    {
     "name": "stderr",
     "output_type": "stream",
     "text": [
      "Processing Frames:  10%|██████████▊                                                                                                    | 378/3864 [01:31<12:16,  4.73frame/s, Frame=378, Second=7.56]"
     ]
    },
    {
     "name": "stdout",
     "output_type": "stream",
     "text": [
      "Frame number: 377\n",
      "Second : 7.54\n",
      "\n",
      "0: 736x1280 21 players, 1 referee, 40.4ms\n",
      "Speed: 8.1ms preprocess, 40.4ms inference, 12.0ms postprocess per image at shape (1, 3, 736, 1280)\n"
     ]
    },
    {
     "name": "stderr",
     "output_type": "stream",
     "text": [
      "Processing Frames:  10%|██████████▉                                                                                                    | 379/3864 [01:31<12:36,  4.61frame/s, Frame=379, Second=7.58]"
     ]
    },
    {
     "name": "stdout",
     "output_type": "stream",
     "text": [
      "Frame number: 378\n",
      "Second : 7.56\n",
      "\n",
      "0: 736x1280 19 players, 1 referee, 40.2ms\n",
      "Speed: 6.3ms preprocess, 40.2ms inference, 12.0ms postprocess per image at shape (1, 3, 736, 1280)\n"
     ]
    },
    {
     "name": "stderr",
     "output_type": "stream",
     "text": [
      "Processing Frames:  10%|███████████                                                                                                     | 380/3864 [01:31<12:46,  4.55frame/s, Frame=380, Second=7.6]"
     ]
    },
    {
     "name": "stdout",
     "output_type": "stream",
     "text": [
      "Frame number: 379\n",
      "Second : 7.58\n",
      "\n",
      "0: 736x1280 20 players, 1 referee, 24.3ms\n",
      "Speed: 6.8ms preprocess, 24.3ms inference, 1.7ms postprocess per image at shape (1, 3, 736, 1280)\n",
      "Frame number: 380\n",
      "Second : 7.6\n"
     ]
    },
    {
     "name": "stderr",
     "output_type": "stream",
     "text": [
      "Processing Frames:  10%|██████████▉                                                                                                    | 381/3864 [01:32<13:06,  4.43frame/s, Frame=381, Second=7.62]"
     ]
    },
    {
     "name": "stdout",
     "output_type": "stream",
     "text": [
      "\n",
      "0: 736x1280 20 players, 1 referee, 43.7ms\n",
      "Speed: 7.2ms preprocess, 43.7ms inference, 12.0ms postprocess per image at shape (1, 3, 736, 1280)\n"
     ]
    },
    {
     "name": "stderr",
     "output_type": "stream",
     "text": [
      "Processing Frames:  10%|██████████▉                                                                                                    | 382/3864 [01:32<13:46,  4.21frame/s, Frame=382, Second=7.64]"
     ]
    },
    {
     "name": "stdout",
     "output_type": "stream",
     "text": [
      "Frame number: 381\n",
      "Second : 7.62\n",
      "\n",
      "0: 736x1280 20 players, 1 referee, 18.8ms\n",
      "Speed: 5.7ms preprocess, 18.8ms inference, 1.3ms postprocess per image at shape (1, 3, 736, 1280)\n"
     ]
    },
    {
     "name": "stderr",
     "output_type": "stream",
     "text": [
      "Processing Frames:  10%|███████████                                                                                                    | 383/3864 [01:32<12:23,  4.68frame/s, Frame=383, Second=7.66]"
     ]
    },
    {
     "name": "stdout",
     "output_type": "stream",
     "text": [
      "Frame number: 382\n",
      "Second : 7.64\n",
      "\n",
      "0: 736x1280 21 players, 1 referee, 40.5ms\n",
      "Speed: 7.2ms preprocess, 40.5ms inference, 12.0ms postprocess per image at shape (1, 3, 736, 1280)\n"
     ]
    },
    {
     "name": "stderr",
     "output_type": "stream",
     "text": [
      "Processing Frames:  10%|███████████                                                                                                    | 384/3864 [01:32<12:40,  4.57frame/s, Frame=384, Second=7.68]"
     ]
    },
    {
     "name": "stdout",
     "output_type": "stream",
     "text": [
      "Frame number: 383\n",
      "Second : 7.66\n",
      "\n",
      "0: 736x1280 21 players, 1 referee, 40.5ms\n",
      "Speed: 8.2ms preprocess, 40.5ms inference, 12.0ms postprocess per image at shape (1, 3, 736, 1280)\n"
     ]
    },
    {
     "name": "stderr",
     "output_type": "stream",
     "text": [
      "Processing Frames:  10%|███████████▏                                                                                                    | 385/3864 [01:33<13:00,  4.46frame/s, Frame=385, Second=7.7]"
     ]
    },
    {
     "name": "stdout",
     "output_type": "stream",
     "text": [
      "Frame number: 384\n",
      "Second : 7.68\n",
      "\n",
      "0: 736x1280 20 players, 1 referee, 30.6ms\n",
      "Speed: 5.8ms preprocess, 30.6ms inference, 4.6ms postprocess per image at shape (1, 3, 736, 1280)\n"
     ]
    },
    {
     "name": "stderr",
     "output_type": "stream",
     "text": [
      "Processing Frames:  10%|███████████                                                                                                    | 386/3864 [01:33<12:41,  4.57frame/s, Frame=386, Second=7.72]"
     ]
    },
    {
     "name": "stdout",
     "output_type": "stream",
     "text": [
      "Frame number: 385\n",
      "Second : 7.7\n",
      "\n",
      "0: 736x1280 19 players, 1 referee, 43.9ms\n",
      "Speed: 6.7ms preprocess, 43.9ms inference, 12.0ms postprocess per image at shape (1, 3, 736, 1280)\n"
     ]
    },
    {
     "name": "stderr",
     "output_type": "stream",
     "text": [
      "Processing Frames:  10%|███████████                                                                                                    | 387/3864 [01:33<13:22,  4.33frame/s, Frame=387, Second=7.74]"
     ]
    },
    {
     "name": "stdout",
     "output_type": "stream",
     "text": [
      "Frame number: 386\n",
      "Second : 7.72\n",
      "\n",
      "0: 736x1280 18 players, 1 referee, 19.4ms\n",
      "Speed: 5.9ms preprocess, 19.4ms inference, 1.3ms postprocess per image at shape (1, 3, 736, 1280)\n"
     ]
    },
    {
     "name": "stderr",
     "output_type": "stream",
     "text": [
      "Processing Frames:  10%|███████████▏                                                                                                   | 388/3864 [01:33<12:31,  4.63frame/s, Frame=388, Second=7.76]"
     ]
    },
    {
     "name": "stdout",
     "output_type": "stream",
     "text": [
      "Frame number: 387\n",
      "Second : 7.74\n",
      "\n",
      "0: 736x1280 17 players, 1 referee, 40.3ms\n",
      "Speed: 7.0ms preprocess, 40.3ms inference, 12.0ms postprocess per image at shape (1, 3, 736, 1280)\n"
     ]
    },
    {
     "name": "stderr",
     "output_type": "stream",
     "text": [
      "Processing Frames:  10%|███████████▏                                                                                                   | 389/3864 [01:33<12:23,  4.67frame/s, Frame=389, Second=7.78]"
     ]
    },
    {
     "name": "stdout",
     "output_type": "stream",
     "text": [
      "Frame number: 388\n",
      "Second : 7.76\n",
      "\n",
      "0: 736x1280 19 players, 1 referee, 39.9ms\n",
      "Speed: 6.6ms preprocess, 39.9ms inference, 11.8ms postprocess per image at shape (1, 3, 736, 1280)\n"
     ]
    },
    {
     "name": "stderr",
     "output_type": "stream",
     "text": [
      "Processing Frames:  10%|███████████▎                                                                                                    | 390/3864 [01:34<12:29,  4.63frame/s, Frame=390, Second=7.8]"
     ]
    },
    {
     "name": "stdout",
     "output_type": "stream",
     "text": [
      "Frame number: 389\n",
      "Second : 7.78\n",
      "\n",
      "0: 736x1280 19 players, 1 referee, 40.0ms\n",
      "Speed: 7.6ms preprocess, 40.0ms inference, 11.7ms postprocess per image at shape (1, 3, 736, 1280)\n"
     ]
    },
    {
     "name": "stderr",
     "output_type": "stream",
     "text": [
      "Processing Frames:  10%|███████████▏                                                                                                   | 391/3864 [01:34<12:22,  4.68frame/s, Frame=391, Second=7.82]"
     ]
    },
    {
     "name": "stdout",
     "output_type": "stream",
     "text": [
      "Frame number: 390\n",
      "Second : 7.8\n",
      "\n",
      "0: 736x1280 18 players, 1 referee, 40.6ms\n",
      "Speed: 16.6ms preprocess, 40.6ms inference, 1.7ms postprocess per image at shape (1, 3, 736, 1280)\n"
     ]
    },
    {
     "name": "stderr",
     "output_type": "stream",
     "text": [
      "Processing Frames:  10%|███████████▎                                                                                                   | 392/3864 [01:34<12:18,  4.70frame/s, Frame=392, Second=7.84]"
     ]
    },
    {
     "name": "stdout",
     "output_type": "stream",
     "text": [
      "Frame number: 391\n",
      "Second : 7.82\n",
      "\n",
      "0: 736x1280 20 players, 2 referees, 41.6ms\n",
      "Speed: 8.7ms preprocess, 41.6ms inference, 10.9ms postprocess per image at shape (1, 3, 736, 1280)\n"
     ]
    },
    {
     "name": "stderr",
     "output_type": "stream",
     "text": [
      "Processing Frames:  10%|███████████▎                                                                                                   | 393/3864 [01:34<12:34,  4.60frame/s, Frame=393, Second=7.86]"
     ]
    },
    {
     "name": "stdout",
     "output_type": "stream",
     "text": [
      "Frame number: 392\n",
      "Second : 7.84\n",
      "\n",
      "0: 736x1280 19 players, 1 referee, 19.3ms\n",
      "Speed: 6.2ms preprocess, 19.3ms inference, 1.9ms postprocess per image at shape (1, 3, 736, 1280)\n"
     ]
    },
    {
     "name": "stderr",
     "output_type": "stream",
     "text": [
      "Processing Frames:  10%|███████████▎                                                                                                   | 394/3864 [01:34<11:57,  4.84frame/s, Frame=394, Second=7.88]"
     ]
    },
    {
     "name": "stdout",
     "output_type": "stream",
     "text": [
      "Frame number: 393\n",
      "Second : 7.86\n",
      "\n",
      "0: 736x1280 19 players, 1 referee, 40.4ms\n",
      "Speed: 7.6ms preprocess, 40.4ms inference, 11.9ms postprocess per image at shape (1, 3, 736, 1280)\n"
     ]
    },
    {
     "name": "stderr",
     "output_type": "stream",
     "text": [
      "Processing Frames:  10%|███████████▍                                                                                                    | 395/3864 [01:35<12:34,  4.60frame/s, Frame=395, Second=7.9]"
     ]
    },
    {
     "name": "stdout",
     "output_type": "stream",
     "text": [
      "Frame number: 394\n",
      "Second : 7.88\n",
      "\n",
      "0: 736x1280 18 players, 1 referee, 40.3ms\n",
      "Speed: 9.7ms preprocess, 40.3ms inference, 11.9ms postprocess per image at shape (1, 3, 736, 1280)\n"
     ]
    },
    {
     "name": "stderr",
     "output_type": "stream",
     "text": [
      "Processing Frames:  10%|███████████▍                                                                                                   | 396/3864 [01:35<12:45,  4.53frame/s, Frame=396, Second=7.92]"
     ]
    },
    {
     "name": "stdout",
     "output_type": "stream",
     "text": [
      "Frame number: 395\n",
      "Second : 7.9\n",
      "\n",
      "0: 736x1280 18 players, 1 referee, 18.2ms\n",
      "Speed: 6.5ms preprocess, 18.2ms inference, 1.4ms postprocess per image at shape (1, 3, 736, 1280)\n"
     ]
    },
    {
     "name": "stderr",
     "output_type": "stream",
     "text": [
      "Processing Frames:  10%|███████████▍                                                                                                   | 397/3864 [01:35<12:53,  4.48frame/s, Frame=397, Second=7.94]"
     ]
    },
    {
     "name": "stdout",
     "output_type": "stream",
     "text": [
      "Frame number: 396\n",
      "Second : 7.92\n",
      "\n",
      "0: 736x1280 19 players, 1 referee, 40.3ms\n",
      "Speed: 7.5ms preprocess, 40.3ms inference, 12.0ms postprocess per image at shape (1, 3, 736, 1280)\n"
     ]
    },
    {
     "name": "stderr",
     "output_type": "stream",
     "text": [
      "Processing Frames:  10%|███████████▍                                                                                                   | 398/3864 [01:35<13:36,  4.25frame/s, Frame=398, Second=7.96]"
     ]
    },
    {
     "name": "stdout",
     "output_type": "stream",
     "text": [
      "Frame number: 397\n",
      "Second : 7.94\n",
      "\n",
      "0: 736x1280 21 players, 1 referee, 18.7ms\n",
      "Speed: 6.2ms preprocess, 18.7ms inference, 1.4ms postprocess per image at shape (1, 3, 736, 1280)\n"
     ]
    },
    {
     "name": "stderr",
     "output_type": "stream",
     "text": [
      "Processing Frames:  10%|███████████▍                                                                                                   | 399/3864 [01:36<12:17,  4.70frame/s, Frame=399, Second=7.98]"
     ]
    },
    {
     "name": "stdout",
     "output_type": "stream",
     "text": [
      "Frame number: 398\n",
      "Second : 7.96\n",
      "\n",
      "0: 736x1280 20 players, 1 referee, 40.5ms\n",
      "Speed: 7.3ms preprocess, 40.5ms inference, 12.0ms postprocess per image at shape (1, 3, 736, 1280)\n"
     ]
    },
    {
     "name": "stderr",
     "output_type": "stream",
     "text": [
      "Processing Frames:  10%|███████████▊                                                                                                      | 400/3864 [01:36<12:36,  4.58frame/s, Frame=400, Second=8]"
     ]
    },
    {
     "name": "stdout",
     "output_type": "stream",
     "text": [
      "Frame number: 399\n",
      "Second : 7.98\n",
      "\n",
      "0: 736x1280 20 players, 1 referee, 40.3ms\n",
      "Speed: 6.9ms preprocess, 40.3ms inference, 12.0ms postprocess per image at shape (1, 3, 736, 1280)\n"
     ]
    },
    {
     "name": "stderr",
     "output_type": "stream",
     "text": [
      "Processing Frames:  10%|███████████▌                                                                                                   | 401/3864 [01:36<12:50,  4.49frame/s, Frame=401, Second=8.02]"
     ]
    },
    {
     "name": "stdout",
     "output_type": "stream",
     "text": [
      "Frame number: 400\n",
      "Second : 8.0\n",
      "\n",
      "0: 736x1280 20 players, 1 referee, 40.1ms\n",
      "Speed: 8.0ms preprocess, 40.1ms inference, 11.7ms postprocess per image at shape (1, 3, 736, 1280)\n"
     ]
    },
    {
     "name": "stderr",
     "output_type": "stream",
     "text": [
      "Processing Frames:  10%|███████████▌                                                                                                   | 402/3864 [01:36<12:42,  4.54frame/s, Frame=402, Second=8.04]"
     ]
    },
    {
     "name": "stdout",
     "output_type": "stream",
     "text": [
      "Frame number: 401\n",
      "Second : 8.02\n",
      "\n",
      "0: 736x1280 20 players, 1 referee, 18.3ms\n",
      "Speed: 6.2ms preprocess, 18.3ms inference, 1.4ms postprocess per image at shape (1, 3, 736, 1280)\n"
     ]
    },
    {
     "name": "stderr",
     "output_type": "stream",
     "text": [
      "Processing Frames:  10%|███████████▌                                                                                                   | 403/3864 [01:36<11:41,  4.93frame/s, Frame=403, Second=8.06]"
     ]
    },
    {
     "name": "stdout",
     "output_type": "stream",
     "text": [
      "Frame number: 402\n",
      "Second : 8.04\n",
      "\n",
      "0: 736x1280 20 players, 1 referee, 38.2ms\n",
      "Speed: 6.0ms preprocess, 38.2ms inference, 3.5ms postprocess per image at shape (1, 3, 736, 1280)\n"
     ]
    },
    {
     "name": "stderr",
     "output_type": "stream",
     "text": [
      "Processing Frames:  10%|███████████▌                                                                                                   | 404/3864 [01:37<12:53,  4.47frame/s, Frame=404, Second=8.08]"
     ]
    },
    {
     "name": "stdout",
     "output_type": "stream",
     "text": [
      "Frame number: 403\n",
      "Second : 8.06\n",
      "\n",
      "0: 736x1280 20 players, 1 referee, 40.3ms\n",
      "Speed: 9.5ms preprocess, 40.3ms inference, 12.2ms postprocess per image at shape (1, 3, 736, 1280)\n"
     ]
    },
    {
     "name": "stderr",
     "output_type": "stream",
     "text": [
      "Processing Frames:  10%|███████████▋                                                                                                    | 405/3864 [01:37<12:40,  4.55frame/s, Frame=405, Second=8.1]"
     ]
    },
    {
     "name": "stdout",
     "output_type": "stream",
     "text": [
      "Frame number: 404\n",
      "Second : 8.08\n",
      "\n",
      "0: 736x1280 18 players, 1 referee, 19.0ms\n",
      "Speed: 5.8ms preprocess, 19.0ms inference, 1.3ms postprocess per image at shape (1, 3, 736, 1280)\n"
     ]
    },
    {
     "name": "stderr",
     "output_type": "stream",
     "text": [
      "Processing Frames:  11%|███████████▋                                                                                                   | 406/3864 [01:37<11:46,  4.89frame/s, Frame=406, Second=8.12]"
     ]
    },
    {
     "name": "stdout",
     "output_type": "stream",
     "text": [
      "Frame number: 405\n",
      "Second : 8.1\n",
      "\n",
      "0: 736x1280 20 players, 1 referee, 40.2ms\n",
      "Speed: 6.9ms preprocess, 40.2ms inference, 11.8ms postprocess per image at shape (1, 3, 736, 1280)\n"
     ]
    },
    {
     "name": "stderr",
     "output_type": "stream",
     "text": [
      "Processing Frames:  11%|███████████▋                                                                                                   | 407/3864 [01:37<12:15,  4.70frame/s, Frame=407, Second=8.14]"
     ]
    },
    {
     "name": "stdout",
     "output_type": "stream",
     "text": [
      "Frame number: 406\n",
      "Second : 8.12\n",
      "\n",
      "0: 736x1280 20 players, 1 referee, 40.4ms\n",
      "Speed: 7.0ms preprocess, 40.4ms inference, 11.9ms postprocess per image at shape (1, 3, 736, 1280)\n"
     ]
    },
    {
     "name": "stderr",
     "output_type": "stream",
     "text": [
      "Processing Frames:  11%|███████████▋                                                                                                   | 408/3864 [01:38<12:39,  4.55frame/s, Frame=408, Second=8.16]"
     ]
    },
    {
     "name": "stdout",
     "output_type": "stream",
     "text": [
      "Frame number: 407\n",
      "Second : 8.14\n",
      "\n",
      "0: 736x1280 21 players, 1 referee, 19.5ms\n",
      "Speed: 6.1ms preprocess, 19.5ms inference, 1.3ms postprocess per image at shape (1, 3, 736, 1280)\n"
     ]
    },
    {
     "name": "stderr",
     "output_type": "stream",
     "text": [
      "Processing Frames:  11%|███████████▋                                                                                                   | 409/3864 [01:38<12:38,  4.55frame/s, Frame=409, Second=8.18]"
     ]
    },
    {
     "name": "stdout",
     "output_type": "stream",
     "text": [
      "Frame number: 408\n",
      "Second : 8.16\n",
      "\n",
      "0: 736x1280 21 players, 1 referee, 40.3ms\n",
      "Speed: 9.7ms preprocess, 40.3ms inference, 11.8ms postprocess per image at shape (1, 3, 736, 1280)\n"
     ]
    },
    {
     "name": "stderr",
     "output_type": "stream",
     "text": [
      "Processing Frames:  11%|███████████▉                                                                                                    | 410/3864 [01:38<12:49,  4.49frame/s, Frame=410, Second=8.2]"
     ]
    },
    {
     "name": "stdout",
     "output_type": "stream",
     "text": [
      "Frame number: 409\n",
      "Second : 8.18\n",
      "\n",
      "0: 736x1280 21 players, 1 referee, 18.5ms\n",
      "Speed: 5.8ms preprocess, 18.5ms inference, 1.3ms postprocess per image at shape (1, 3, 736, 1280)\n"
     ]
    },
    {
     "name": "stderr",
     "output_type": "stream",
     "text": [
      "Processing Frames:  11%|███████████▊                                                                                                   | 411/3864 [01:38<11:38,  4.94frame/s, Frame=411, Second=8.22]"
     ]
    },
    {
     "name": "stdout",
     "output_type": "stream",
     "text": [
      "Frame number: 410\n",
      "Second : 8.2\n",
      "\n",
      "0: 736x1280 20 players, 1 referee, 40.4ms\n",
      "Speed: 7.6ms preprocess, 40.4ms inference, 11.9ms postprocess per image at shape (1, 3, 736, 1280)\n"
     ]
    },
    {
     "name": "stderr",
     "output_type": "stream",
     "text": [
      "Processing Frames:  11%|███████████▊                                                                                                   | 412/3864 [01:38<12:05,  4.76frame/s, Frame=412, Second=8.24]"
     ]
    },
    {
     "name": "stdout",
     "output_type": "stream",
     "text": [
      "Frame number: 411\n",
      "Second : 8.22\n",
      "\n",
      "0: 736x1280 19 players, 1 referee, 40.4ms\n",
      "Speed: 7.3ms preprocess, 40.4ms inference, 12.0ms postprocess per image at shape (1, 3, 736, 1280)\n"
     ]
    },
    {
     "name": "stderr",
     "output_type": "stream",
     "text": [
      "Processing Frames:  11%|███████████▊                                                                                                   | 413/3864 [01:39<12:24,  4.64frame/s, Frame=413, Second=8.26]"
     ]
    },
    {
     "name": "stdout",
     "output_type": "stream",
     "text": [
      "Frame number: 412\n",
      "Second : 8.24\n",
      "\n",
      "0: 736x1280 19 players, 1 referee, 34.3ms\n",
      "Speed: 9.1ms preprocess, 34.3ms inference, 1.4ms postprocess per image at shape (1, 3, 736, 1280)\n"
     ]
    },
    {
     "name": "stderr",
     "output_type": "stream",
     "text": [
      "Processing Frames:  11%|███████████▉                                                                                                   | 414/3864 [01:39<11:42,  4.91frame/s, Frame=414, Second=8.28]"
     ]
    },
    {
     "name": "stdout",
     "output_type": "stream",
     "text": [
      "Frame number: 413\n",
      "Second : 8.26\n",
      "\n",
      "0: 736x1280 19 players, 1 referee, 38.8ms\n",
      "Speed: 28.5ms preprocess, 38.8ms inference, 11.8ms postprocess per image at shape (1, 3, 736, 1280)\n"
     ]
    },
    {
     "name": "stderr",
     "output_type": "stream",
     "text": [
      "Processing Frames:  11%|████████████                                                                                                    | 415/3864 [01:39<13:21,  4.30frame/s, Frame=415, Second=8.3]"
     ]
    },
    {
     "name": "stdout",
     "output_type": "stream",
     "text": [
      "Frame number: 414\n",
      "Second : 8.28\n",
      "\n",
      "0: 736x1280 19 players, 1 referee, 39.0ms\n",
      "Speed: 13.0ms preprocess, 39.0ms inference, 12.0ms postprocess per image at shape (1, 3, 736, 1280)\n"
     ]
    },
    {
     "name": "stderr",
     "output_type": "stream",
     "text": [
      "Processing Frames:  11%|███████████▉                                                                                                   | 416/3864 [01:39<13:15,  4.33frame/s, Frame=416, Second=8.32]"
     ]
    },
    {
     "name": "stdout",
     "output_type": "stream",
     "text": [
      "Frame number: 415\n",
      "Second : 8.3\n",
      "\n",
      "0: 736x1280 19 players, 1 referee, 18.9ms\n",
      "Speed: 5.7ms preprocess, 18.9ms inference, 1.3ms postprocess per image at shape (1, 3, 736, 1280)\n"
     ]
    },
    {
     "name": "stderr",
     "output_type": "stream",
     "text": [
      "Processing Frames:  11%|███████████▉                                                                                                   | 417/3864 [01:40<12:24,  4.63frame/s, Frame=417, Second=8.34]"
     ]
    },
    {
     "name": "stdout",
     "output_type": "stream",
     "text": [
      "Frame number: 416\n",
      "Second : 8.32\n",
      "\n",
      "0: 736x1280 19 players, 1 referee, 40.6ms\n",
      "Speed: 6.7ms preprocess, 40.6ms inference, 11.8ms postprocess per image at shape (1, 3, 736, 1280)\n"
     ]
    },
    {
     "name": "stderr",
     "output_type": "stream",
     "text": [
      "Processing Frames:  11%|████████████                                                                                                   | 418/3864 [01:40<12:43,  4.51frame/s, Frame=418, Second=8.36]"
     ]
    },
    {
     "name": "stdout",
     "output_type": "stream",
     "text": [
      "Frame number: 417\n",
      "Second : 8.34\n",
      "\n",
      "0: 736x1280 21 players, 1 referee, 40.4ms\n",
      "Speed: 6.9ms preprocess, 40.4ms inference, 12.0ms postprocess per image at shape (1, 3, 736, 1280)\n"
     ]
    },
    {
     "name": "stderr",
     "output_type": "stream",
     "text": [
      "Processing Frames:  11%|████████████                                                                                                   | 419/3864 [01:40<12:54,  4.45frame/s, Frame=419, Second=8.38]"
     ]
    },
    {
     "name": "stdout",
     "output_type": "stream",
     "text": [
      "Frame number: 418\n",
      "Second : 8.36\n",
      "\n",
      "0: 736x1280 20 players, 1 referee, 40.2ms\n",
      "Speed: 6.2ms preprocess, 40.2ms inference, 12.0ms postprocess per image at shape (1, 3, 736, 1280)\n"
     ]
    },
    {
     "name": "stderr",
     "output_type": "stream",
     "text": [
      "Processing Frames:  11%|████████████▏                                                                                                   | 420/3864 [01:40<13:03,  4.40frame/s, Frame=420, Second=8.4]"
     ]
    },
    {
     "name": "stdout",
     "output_type": "stream",
     "text": [
      "Frame number: 419\n",
      "Second : 8.38\n",
      "\n",
      "0: 736x1280 20 players, 1 referee, 26.0ms\n",
      "Speed: 6.6ms preprocess, 26.0ms inference, 1.3ms postprocess per image at shape (1, 3, 736, 1280)\n"
     ]
    },
    {
     "name": "stderr",
     "output_type": "stream",
     "text": [
      "Processing Frames:  11%|████████████                                                                                                   | 421/3864 [01:40<12:40,  4.53frame/s, Frame=421, Second=8.42]"
     ]
    },
    {
     "name": "stdout",
     "output_type": "stream",
     "text": [
      "Frame number: 420\n",
      "Second : 8.4\n",
      "\n",
      "0: 736x1280 20 players, 1 referee, 43.9ms\n",
      "Speed: 7.2ms preprocess, 43.9ms inference, 2.7ms postprocess per image at shape (1, 3, 736, 1280)\n"
     ]
    },
    {
     "name": "stderr",
     "output_type": "stream",
     "text": [
      "Processing Frames:  11%|████████████                                                                                                   | 422/3864 [01:41<12:44,  4.50frame/s, Frame=422, Second=8.44]"
     ]
    },
    {
     "name": "stdout",
     "output_type": "stream",
     "text": [
      "Frame number: 421\n",
      "Second : 8.42\n",
      "\n",
      "0: 736x1280 20 players, 1 referee, 19.4ms\n",
      "Speed: 5.9ms preprocess, 19.4ms inference, 1.5ms postprocess per image at shape (1, 3, 736, 1280)\n"
     ]
    },
    {
     "name": "stderr",
     "output_type": "stream",
     "text": [
      "Processing Frames:  11%|████████████▏                                                                                                  | 423/3864 [01:41<11:59,  4.79frame/s, Frame=423, Second=8.46]"
     ]
    },
    {
     "name": "stdout",
     "output_type": "stream",
     "text": [
      "Frame number: 422\n",
      "Second : 8.44\n",
      "\n",
      "0: 736x1280 20 players, 1 referee, 40.5ms\n",
      "Speed: 6.4ms preprocess, 40.5ms inference, 11.8ms postprocess per image at shape (1, 3, 736, 1280)\n"
     ]
    },
    {
     "name": "stderr",
     "output_type": "stream",
     "text": [
      "Processing Frames:  11%|████████████▏                                                                                                  | 424/3864 [01:41<12:30,  4.59frame/s, Frame=424, Second=8.48]"
     ]
    },
    {
     "name": "stdout",
     "output_type": "stream",
     "text": [
      "Frame number: 423\n",
      "Second : 8.46\n",
      "\n",
      "0: 736x1280 20 players, 1 referee, 40.3ms\n",
      "Speed: 9.9ms preprocess, 40.3ms inference, 11.9ms postprocess per image at shape (1, 3, 736, 1280)\n"
     ]
    },
    {
     "name": "stderr",
     "output_type": "stream",
     "text": [
      "Processing Frames:  11%|████████████▎                                                                                                   | 425/3864 [01:41<12:45,  4.49frame/s, Frame=425, Second=8.5]"
     ]
    },
    {
     "name": "stdout",
     "output_type": "stream",
     "text": [
      "Frame number: 424\n",
      "Second : 8.48\n",
      "\n",
      "0: 736x1280 20 players, 1 referee, 40.0ms\n",
      "Speed: 9.8ms preprocess, 40.0ms inference, 9.4ms postprocess per image at shape (1, 3, 736, 1280)\n"
     ]
    },
    {
     "name": "stderr",
     "output_type": "stream",
     "text": [
      "Processing Frames:  11%|████████████▏                                                                                                  | 426/3864 [01:42<12:44,  4.50frame/s, Frame=426, Second=8.52]"
     ]
    },
    {
     "name": "stdout",
     "output_type": "stream",
     "text": [
      "Frame number: 425\n",
      "Second : 8.5\n",
      "\n",
      "0: 736x1280 20 players, 1 referee, 43.5ms\n",
      "Speed: 14.1ms preprocess, 43.5ms inference, 11.9ms postprocess per image at shape (1, 3, 736, 1280)\n"
     ]
    },
    {
     "name": "stderr",
     "output_type": "stream",
     "text": [
      "Processing Frames:  11%|████████████▎                                                                                                  | 427/3864 [01:42<13:54,  4.12frame/s, Frame=427, Second=8.54]"
     ]
    },
    {
     "name": "stdout",
     "output_type": "stream",
     "text": [
      "Frame number: 426\n",
      "Second : 8.52\n",
      "\n",
      "0: 736x1280 20 players, 1 referee, 19.4ms\n",
      "Speed: 5.9ms preprocess, 19.4ms inference, 1.3ms postprocess per image at shape (1, 3, 736, 1280)\n"
     ]
    },
    {
     "name": "stderr",
     "output_type": "stream",
     "text": [
      "Processing Frames:  11%|████████████▎                                                                                                  | 428/3864 [01:42<12:42,  4.51frame/s, Frame=428, Second=8.56]"
     ]
    },
    {
     "name": "stdout",
     "output_type": "stream",
     "text": [
      "Frame number: 427\n",
      "Second : 8.54\n",
      "\n",
      "0: 736x1280 19 players, 1 referee, 40.4ms\n",
      "Speed: 8.0ms preprocess, 40.4ms inference, 11.8ms postprocess per image at shape (1, 3, 736, 1280)\n"
     ]
    },
    {
     "name": "stderr",
     "output_type": "stream",
     "text": [
      "Processing Frames:  11%|████████████▎                                                                                                  | 429/3864 [01:42<13:03,  4.38frame/s, Frame=429, Second=8.58]"
     ]
    },
    {
     "name": "stdout",
     "output_type": "stream",
     "text": [
      "Frame number: 428\n",
      "Second : 8.56\n",
      "\n",
      "0: 736x1280 19 players, 1 referee, 40.4ms\n",
      "Speed: 8.3ms preprocess, 40.4ms inference, 11.9ms postprocess per image at shape (1, 3, 736, 1280)\n"
     ]
    },
    {
     "name": "stderr",
     "output_type": "stream",
     "text": [
      "Processing Frames:  11%|████████████▍                                                                                                   | 430/3864 [01:42<13:14,  4.32frame/s, Frame=430, Second=8.6]"
     ]
    },
    {
     "name": "stdout",
     "output_type": "stream",
     "text": [
      "Frame number: 429\n",
      "Second : 8.58\n",
      "\n",
      "0: 736x1280 19 players, 1 referee, 19.7ms\n",
      "Speed: 6.5ms preprocess, 19.7ms inference, 5.7ms postprocess per image at shape (1, 3, 736, 1280)\n"
     ]
    },
    {
     "name": "stderr",
     "output_type": "stream",
     "text": [
      "Processing Frames:  11%|████████████▍                                                                                                  | 431/3864 [01:43<12:24,  4.61frame/s, Frame=431, Second=8.62]"
     ]
    },
    {
     "name": "stdout",
     "output_type": "stream",
     "text": [
      "Frame number: 430\n",
      "Second : 8.6\n",
      "\n",
      "0: 736x1280 20 players, 1 referee, 43.0ms\n",
      "Speed: 6.5ms preprocess, 43.0ms inference, 12.0ms postprocess per image at shape (1, 3, 736, 1280)\n"
     ]
    },
    {
     "name": "stderr",
     "output_type": "stream",
     "text": [
      "Processing Frames:  11%|████████████▍                                                                                                  | 432/3864 [01:43<12:36,  4.54frame/s, Frame=432, Second=8.64]"
     ]
    },
    {
     "name": "stdout",
     "output_type": "stream",
     "text": [
      "Frame number: 431\n",
      "Second : 8.62\n",
      "\n",
      "0: 736x1280 20 players, 1 referee, 18.9ms\n",
      "Speed: 5.8ms preprocess, 18.9ms inference, 1.3ms postprocess per image at shape (1, 3, 736, 1280)\n"
     ]
    },
    {
     "name": "stderr",
     "output_type": "stream",
     "text": [
      "Processing Frames:  11%|████████████▍                                                                                                  | 433/3864 [01:43<11:27,  4.99frame/s, Frame=433, Second=8.66]"
     ]
    },
    {
     "name": "stdout",
     "output_type": "stream",
     "text": [
      "Frame number: 432\n",
      "Second : 8.64\n",
      "\n",
      "0: 736x1280 20 players, 1 referee, 39.0ms\n",
      "Speed: 7.4ms preprocess, 39.0ms inference, 11.9ms postprocess per image at shape (1, 3, 736, 1280)\n"
     ]
    },
    {
     "name": "stderr",
     "output_type": "stream",
     "text": [
      "Processing Frames:  11%|████████████▍                                                                                                  | 434/3864 [01:43<11:51,  4.82frame/s, Frame=434, Second=8.68]"
     ]
    },
    {
     "name": "stdout",
     "output_type": "stream",
     "text": [
      "Frame number: 433\n",
      "Second : 8.66\n",
      "\n",
      "0: 736x1280 20 players, 1 referee, 40.2ms\n",
      "Speed: 8.1ms preprocess, 40.2ms inference, 11.9ms postprocess per image at shape (1, 3, 736, 1280)\n"
     ]
    },
    {
     "name": "stderr",
     "output_type": "stream",
     "text": [
      "Processing Frames:  11%|████████████▌                                                                                                   | 435/3864 [01:43<12:12,  4.68frame/s, Frame=435, Second=8.7]"
     ]
    },
    {
     "name": "stdout",
     "output_type": "stream",
     "text": [
      "Frame number: 434\n",
      "Second : 8.68\n",
      "\n",
      "0: 736x1280 20 players, 1 referee, 40.2ms\n",
      "Speed: 8.0ms preprocess, 40.2ms inference, 11.8ms postprocess per image at shape (1, 3, 736, 1280)\n"
     ]
    },
    {
     "name": "stderr",
     "output_type": "stream",
     "text": [
      "Processing Frames:  11%|████████████▌                                                                                                  | 436/3864 [01:44<12:22,  4.62frame/s, Frame=436, Second=8.72]"
     ]
    },
    {
     "name": "stdout",
     "output_type": "stream",
     "text": [
      "Frame number: 435\n",
      "Second : 8.7\n",
      "\n",
      "0: 736x1280 20 players, 1 referee, 27.2ms\n",
      "Speed: 21.9ms preprocess, 27.2ms inference, 1.5ms postprocess per image at shape (1, 3, 736, 1280)\n"
     ]
    },
    {
     "name": "stderr",
     "output_type": "stream",
     "text": [
      "Processing Frames:  11%|████████████▌                                                                                                  | 437/3864 [01:44<12:09,  4.70frame/s, Frame=437, Second=8.74]"
     ]
    },
    {
     "name": "stdout",
     "output_type": "stream",
     "text": [
      "Frame number: 436\n",
      "Second : 8.72\n",
      "\n",
      "0: 736x1280 20 players, 1 referee, 40.7ms\n",
      "Speed: 6.5ms preprocess, 40.7ms inference, 12.0ms postprocess per image at shape (1, 3, 736, 1280)\n"
     ]
    },
    {
     "name": "stderr",
     "output_type": "stream",
     "text": [
      "Processing Frames:  11%|████████████▌                                                                                                  | 438/3864 [01:44<12:07,  4.71frame/s, Frame=438, Second=8.76]"
     ]
    },
    {
     "name": "stdout",
     "output_type": "stream",
     "text": [
      "Frame number: 437\n",
      "Second : 8.74\n",
      "\n",
      "0: 736x1280 19 players, 1 referee, 18.6ms\n",
      "Speed: 5.9ms preprocess, 18.6ms inference, 1.2ms postprocess per image at shape (1, 3, 736, 1280)\n"
     ]
    },
    {
     "name": "stderr",
     "output_type": "stream",
     "text": [
      "Processing Frames:  11%|████████████▌                                                                                                  | 439/3864 [01:44<11:31,  4.95frame/s, Frame=439, Second=8.78]"
     ]
    },
    {
     "name": "stdout",
     "output_type": "stream",
     "text": [
      "Frame number: 438\n",
      "Second : 8.76\n",
      "\n",
      "0: 736x1280 19 players, 1 referee, 40.4ms\n",
      "Speed: 7.9ms preprocess, 40.4ms inference, 11.9ms postprocess per image at shape (1, 3, 736, 1280)\n"
     ]
    },
    {
     "name": "stderr",
     "output_type": "stream",
     "text": [
      "Processing Frames:  11%|████████████▊                                                                                                   | 440/3864 [01:45<12:02,  4.74frame/s, Frame=440, Second=8.8]"
     ]
    },
    {
     "name": "stdout",
     "output_type": "stream",
     "text": [
      "Frame number: 439\n",
      "Second : 8.78\n",
      "\n",
      "0: 736x1280 20 players, 1 referee, 40.2ms\n",
      "Speed: 8.7ms preprocess, 40.2ms inference, 12.2ms postprocess per image at shape (1, 3, 736, 1280)\n"
     ]
    },
    {
     "name": "stderr",
     "output_type": "stream",
     "text": [
      "Processing Frames:  11%|████████████▋                                                                                                  | 441/3864 [01:45<12:30,  4.56frame/s, Frame=441, Second=8.82]"
     ]
    },
    {
     "name": "stdout",
     "output_type": "stream",
     "text": [
      "Frame number: 440\n",
      "Second : 8.8\n",
      "\n",
      "0: 736x1280 20 players, 1 referee, 19.8ms\n",
      "Speed: 5.8ms preprocess, 19.8ms inference, 1.3ms postprocess per image at shape (1, 3, 736, 1280)\n"
     ]
    },
    {
     "name": "stderr",
     "output_type": "stream",
     "text": [
      "Processing Frames:  11%|████████████▋                                                                                                  | 442/3864 [01:45<12:47,  4.46frame/s, Frame=442, Second=8.84]"
     ]
    },
    {
     "name": "stdout",
     "output_type": "stream",
     "text": [
      "Frame number: 441\n",
      "Second : 8.82\n",
      "\n",
      "0: 736x1280 20 players, 2 referees, 43.2ms\n",
      "Speed: 5.9ms preprocess, 43.2ms inference, 11.9ms postprocess per image at shape (1, 3, 736, 1280)\n"
     ]
    },
    {
     "name": "stderr",
     "output_type": "stream",
     "text": [
      "Processing Frames:  11%|████████████▋                                                                                                  | 443/3864 [01:45<13:03,  4.37frame/s, Frame=443, Second=8.86]"
     ]
    },
    {
     "name": "stdout",
     "output_type": "stream",
     "text": [
      "Frame number: 442\n",
      "Second : 8.84\n",
      "\n",
      "0: 736x1280 20 players, 2 referees, 19.3ms\n",
      "Speed: 5.8ms preprocess, 19.3ms inference, 1.3ms postprocess per image at shape (1, 3, 736, 1280)\n"
     ]
    },
    {
     "name": "stderr",
     "output_type": "stream",
     "text": [
      "Processing Frames:  11%|████████████▊                                                                                                  | 444/3864 [01:45<11:51,  4.80frame/s, Frame=444, Second=8.88]"
     ]
    },
    {
     "name": "stdout",
     "output_type": "stream",
     "text": [
      "Frame number: 443\n",
      "Second : 8.86\n",
      "\n",
      "0: 736x1280 20 players, 2 referees, 40.0ms\n",
      "Speed: 7.7ms preprocess, 40.0ms inference, 11.9ms postprocess per image at shape (1, 3, 736, 1280)\n"
     ]
    },
    {
     "name": "stderr",
     "output_type": "stream",
     "text": [
      "Processing Frames:  12%|████████████▉                                                                                                   | 445/3864 [01:46<12:13,  4.66frame/s, Frame=445, Second=8.9]"
     ]
    },
    {
     "name": "stdout",
     "output_type": "stream",
     "text": [
      "Frame number: 444\n",
      "Second : 8.88\n",
      "\n",
      "0: 736x1280 19 players, 1 referee, 40.5ms\n",
      "Speed: 7.0ms preprocess, 40.5ms inference, 11.9ms postprocess per image at shape (1, 3, 736, 1280)\n"
     ]
    },
    {
     "name": "stderr",
     "output_type": "stream",
     "text": [
      "Processing Frames:  12%|████████████▊                                                                                                  | 446/3864 [01:46<12:34,  4.53frame/s, Frame=446, Second=8.92]"
     ]
    },
    {
     "name": "stdout",
     "output_type": "stream",
     "text": [
      "Frame number: 445\n",
      "Second : 8.9\n",
      "\n",
      "0: 736x1280 19 players, 1 referee, 20.9ms\n",
      "Speed: 5.7ms preprocess, 20.9ms inference, 1.4ms postprocess per image at shape (1, 3, 736, 1280)\n"
     ]
    },
    {
     "name": "stderr",
     "output_type": "stream",
     "text": [
      "Processing Frames:  12%|████████████▊                                                                                                  | 447/3864 [01:46<12:35,  4.52frame/s, Frame=447, Second=8.94]"
     ]
    },
    {
     "name": "stdout",
     "output_type": "stream",
     "text": [
      "Frame number: 446\n",
      "Second : 8.92\n",
      "\n",
      "0: 736x1280 20 players, 2 referees, 40.7ms\n",
      "Speed: 7.4ms preprocess, 40.7ms inference, 11.9ms postprocess per image at shape (1, 3, 736, 1280)\n"
     ]
    },
    {
     "name": "stderr",
     "output_type": "stream",
     "text": [
      "Processing Frames:  12%|████████████▊                                                                                                  | 448/3864 [01:46<13:07,  4.34frame/s, Frame=448, Second=8.96]"
     ]
    },
    {
     "name": "stdout",
     "output_type": "stream",
     "text": [
      "Frame number: 447\n",
      "Second : 8.94\n",
      "\n",
      "0: 736x1280 19 players, 1 referee, 19.7ms\n",
      "Speed: 8.4ms preprocess, 19.7ms inference, 1.3ms postprocess per image at shape (1, 3, 736, 1280)\n"
     ]
    },
    {
     "name": "stderr",
     "output_type": "stream",
     "text": [
      "Processing Frames:  12%|████████████▉                                                                                                  | 449/3864 [01:47<12:12,  4.66frame/s, Frame=449, Second=8.98]"
     ]
    },
    {
     "name": "stdout",
     "output_type": "stream",
     "text": [
      "Frame number: 448\n",
      "Second : 8.96\n",
      "\n",
      "0: 736x1280 19 players, 1 referee, 40.3ms\n",
      "Speed: 7.5ms preprocess, 40.3ms inference, 11.9ms postprocess per image at shape (1, 3, 736, 1280)\n"
     ]
    },
    {
     "name": "stderr",
     "output_type": "stream",
     "text": [
      "Processing Frames:  12%|█████████████▎                                                                                                    | 450/3864 [01:47<12:42,  4.48frame/s, Frame=450, Second=9]"
     ]
    },
    {
     "name": "stdout",
     "output_type": "stream",
     "text": [
      "Frame number: 449\n",
      "Second : 8.98\n",
      "\n",
      "0: 736x1280 20 players, 1 referee, 40.4ms\n",
      "Speed: 7.3ms preprocess, 40.4ms inference, 12.0ms postprocess per image at shape (1, 3, 736, 1280)\n"
     ]
    },
    {
     "name": "stderr",
     "output_type": "stream",
     "text": [
      "Processing Frames:  12%|████████████▉                                                                                                  | 451/3864 [01:47<12:58,  4.39frame/s, Frame=451, Second=9.02]"
     ]
    },
    {
     "name": "stdout",
     "output_type": "stream",
     "text": [
      "Frame number: 450\n",
      "Second : 9.0\n",
      "\n",
      "0: 736x1280 19 players, 1 referee, 21.0ms\n",
      "Speed: 6.3ms preprocess, 21.0ms inference, 1.3ms postprocess per image at shape (1, 3, 736, 1280)\n"
     ]
    },
    {
     "name": "stderr",
     "output_type": "stream",
     "text": [
      "Processing Frames:  12%|████████████▉                                                                                                  | 452/3864 [01:47<13:22,  4.25frame/s, Frame=452, Second=9.04]"
     ]
    },
    {
     "name": "stdout",
     "output_type": "stream",
     "text": [
      "Frame number: 451\n",
      "Second : 9.02\n",
      "\n",
      "0: 736x1280 19 players, 1 referee, 40.5ms\n",
      "Speed: 7.4ms preprocess, 40.5ms inference, 12.0ms postprocess per image at shape (1, 3, 736, 1280)\n"
     ]
    },
    {
     "name": "stderr",
     "output_type": "stream",
     "text": [
      "Processing Frames:  12%|█████████████                                                                                                  | 453/3864 [01:48<14:07,  4.03frame/s, Frame=453, Second=9.06]"
     ]
    },
    {
     "name": "stdout",
     "output_type": "stream",
     "text": [
      "Frame number: 452\n",
      "Second : 9.04\n",
      "\n",
      "0: 736x1280 20 players, 1 referee, 18.5ms\n",
      "Speed: 6.7ms preprocess, 18.5ms inference, 1.3ms postprocess per image at shape (1, 3, 736, 1280)\n"
     ]
    },
    {
     "name": "stderr",
     "output_type": "stream",
     "text": [
      "Processing Frames:  12%|█████████████                                                                                                  | 454/3864 [01:48<12:34,  4.52frame/s, Frame=454, Second=9.08]"
     ]
    },
    {
     "name": "stdout",
     "output_type": "stream",
     "text": [
      "Frame number: 453\n",
      "Second : 9.06\n",
      "\n",
      "0: 736x1280 19 players, 1 referee, 40.4ms\n",
      "Speed: 6.5ms preprocess, 40.4ms inference, 12.0ms postprocess per image at shape (1, 3, 736, 1280)\n"
     ]
    },
    {
     "name": "stderr",
     "output_type": "stream",
     "text": [
      "Processing Frames:  12%|█████████████▏                                                                                                  | 455/3864 [01:48<12:53,  4.41frame/s, Frame=455, Second=9.1]"
     ]
    },
    {
     "name": "stdout",
     "output_type": "stream",
     "text": [
      "Frame number: 454\n",
      "Second : 9.08\n",
      "\n",
      "0: 736x1280 18 players, 1 referee, 40.3ms\n",
      "Speed: 7.8ms preprocess, 40.3ms inference, 12.0ms postprocess per image at shape (1, 3, 736, 1280)\n"
     ]
    },
    {
     "name": "stderr",
     "output_type": "stream",
     "text": [
      "Processing Frames:  12%|█████████████                                                                                                  | 456/3864 [01:48<12:42,  4.47frame/s, Frame=456, Second=9.12]"
     ]
    },
    {
     "name": "stdout",
     "output_type": "stream",
     "text": [
      "Frame number: 455\n",
      "Second : 9.1\n",
      "\n",
      "0: 736x1280 19 players, 1 referee, 40.1ms\n",
      "Speed: 6.9ms preprocess, 40.1ms inference, 11.7ms postprocess per image at shape (1, 3, 736, 1280)\n"
     ]
    },
    {
     "name": "stderr",
     "output_type": "stream",
     "text": [
      "Processing Frames:  12%|█████████████▏                                                                                                 | 457/3864 [01:48<13:56,  4.07frame/s, Frame=457, Second=9.14]"
     ]
    },
    {
     "name": "stdout",
     "output_type": "stream",
     "text": [
      "Frame number: 456\n",
      "Second : 9.12\n",
      "\n",
      "0: 736x1280 19 players, 1 referee, 38.6ms\n",
      "Speed: 6.0ms preprocess, 38.6ms inference, 12.0ms postprocess per image at shape (1, 3, 736, 1280)\n"
     ]
    },
    {
     "name": "stderr",
     "output_type": "stream",
     "text": [
      "Processing Frames:  12%|█████████████▏                                                                                                 | 458/3864 [01:49<14:16,  3.98frame/s, Frame=458, Second=9.16]"
     ]
    },
    {
     "name": "stdout",
     "output_type": "stream",
     "text": [
      "Frame number: 457\n",
      "Second : 9.14\n",
      "\n",
      "0: 736x1280 19 players, 1 referee, 18.9ms\n",
      "Speed: 6.0ms preprocess, 18.9ms inference, 1.3ms postprocess per image at shape (1, 3, 736, 1280)\n"
     ]
    },
    {
     "name": "stderr",
     "output_type": "stream",
     "text": [
      "Processing Frames:  12%|█████████████▏                                                                                                 | 459/3864 [01:49<12:39,  4.48frame/s, Frame=459, Second=9.18]"
     ]
    },
    {
     "name": "stdout",
     "output_type": "stream",
     "text": [
      "Frame number: 458\n",
      "Second : 9.16\n",
      "\n",
      "0: 736x1280 19 players, 1 referee, 40.3ms\n",
      "Speed: 6.8ms preprocess, 40.3ms inference, 11.8ms postprocess per image at shape (1, 3, 736, 1280)\n"
     ]
    },
    {
     "name": "stderr",
     "output_type": "stream",
     "text": [
      "Processing Frames:  12%|█████████████▎                                                                                                  | 460/3864 [01:49<12:44,  4.45frame/s, Frame=460, Second=9.2]"
     ]
    },
    {
     "name": "stdout",
     "output_type": "stream",
     "text": [
      "Frame number: 459\n",
      "Second : 9.18\n",
      "\n",
      "0: 736x1280 19 players, 1 referee, 40.3ms\n",
      "Speed: 7.9ms preprocess, 40.3ms inference, 12.0ms postprocess per image at shape (1, 3, 736, 1280)\n"
     ]
    },
    {
     "name": "stderr",
     "output_type": "stream",
     "text": [
      "Processing Frames:  12%|█████████████▏                                                                                                 | 461/3864 [01:49<12:57,  4.38frame/s, Frame=461, Second=9.22]"
     ]
    },
    {
     "name": "stdout",
     "output_type": "stream",
     "text": [
      "Frame number: 460\n",
      "Second : 9.2\n",
      "\n",
      "0: 736x1280 19 players, 1 referee, 39.9ms\n",
      "Speed: 7.4ms preprocess, 39.9ms inference, 1.6ms postprocess per image at shape (1, 3, 736, 1280)\n",
      "Frame number: 461\n",
      "Second : 9.22\n"
     ]
    },
    {
     "name": "stderr",
     "output_type": "stream",
     "text": [
      "Processing Frames:  12%|█████████████▎                                                                                                 | 462/3864 [01:50<13:24,  4.23frame/s, Frame=462, Second=9.24]"
     ]
    },
    {
     "name": "stdout",
     "output_type": "stream",
     "text": [
      "\n",
      "0: 736x1280 19 players, 2 referees, 40.5ms\n",
      "Speed: 8.0ms preprocess, 40.5ms inference, 12.0ms postprocess per image at shape (1, 3, 736, 1280)\n"
     ]
    },
    {
     "name": "stderr",
     "output_type": "stream",
     "text": [
      "Processing Frames:  12%|█████████████▎                                                                                                 | 463/3864 [01:50<13:56,  4.07frame/s, Frame=463, Second=9.26]"
     ]
    },
    {
     "name": "stdout",
     "output_type": "stream",
     "text": [
      "Frame number: 462\n",
      "Second : 9.24\n",
      "\n",
      "0: 736x1280 19 players, 1 referee, 32.0ms\n",
      "Speed: 8.3ms preprocess, 32.0ms inference, 2.0ms postprocess per image at shape (1, 3, 736, 1280)\n"
     ]
    },
    {
     "name": "stderr",
     "output_type": "stream",
     "text": [
      "Processing Frames:  12%|█████████████▎                                                                                                 | 464/3864 [01:50<12:48,  4.42frame/s, Frame=464, Second=9.28]"
     ]
    },
    {
     "name": "stdout",
     "output_type": "stream",
     "text": [
      "Frame number: 463\n",
      "Second : 9.26\n",
      "\n",
      "0: 736x1280 1 ball, 18 players, 1 referee, 19.4ms\n",
      "Speed: 5.7ms preprocess, 19.4ms inference, 1.3ms postprocess per image at shape (1, 3, 736, 1280)\n"
     ]
    },
    {
     "name": "stderr",
     "output_type": "stream",
     "text": [
      "Processing Frames:  12%|█████████████▍                                                                                                  | 465/3864 [01:50<11:57,  4.74frame/s, Frame=465, Second=9.3]"
     ]
    },
    {
     "name": "stdout",
     "output_type": "stream",
     "text": [
      "Frame number: 464\n",
      "Second : 9.28\n",
      "\n",
      "0: 736x1280 18 players, 1 referee, 40.2ms\n",
      "Speed: 6.3ms preprocess, 40.2ms inference, 12.0ms postprocess per image at shape (1, 3, 736, 1280)\n"
     ]
    },
    {
     "name": "stderr",
     "output_type": "stream",
     "text": [
      "Processing Frames:  12%|█████████████▍                                                                                                 | 466/3864 [01:50<12:18,  4.60frame/s, Frame=466, Second=9.32]"
     ]
    },
    {
     "name": "stdout",
     "output_type": "stream",
     "text": [
      "Frame number: 465\n",
      "Second : 9.3\n",
      "\n",
      "0: 736x1280 18 players, 1 referee, 40.5ms\n",
      "Speed: 6.8ms preprocess, 40.5ms inference, 11.8ms postprocess per image at shape (1, 3, 736, 1280)\n"
     ]
    },
    {
     "name": "stderr",
     "output_type": "stream",
     "text": [
      "Processing Frames:  12%|█████████████▍                                                                                                 | 466/3864 [01:51<13:30,  4.19frame/s, Frame=466, Second=9.32]\n"
     ]
    },
    {
     "ename": "KeyboardInterrupt",
     "evalue": "",
     "output_type": "error",
     "traceback": [
      "\u001b[0;31m---------------------------------------------------------------------------\u001b[0m",
      "\u001b[0;31mKeyboardInterrupt\u001b[0m                         Traceback (most recent call last)",
      "Cell \u001b[0;32mIn[16], line 130\u001b[0m\n\u001b[1;32m    124\u001b[0m \u001b[38;5;66;03m######### Part 2 ##########\u001b[39;00m\n\u001b[1;32m    125\u001b[0m \u001b[38;5;66;03m# Players Team Prediction #\u001b[39;00m\n\u001b[1;32m    126\u001b[0m \u001b[38;5;66;03m###########################\u001b[39;00m\n\u001b[1;32m    127\u001b[0m \n\u001b[1;32m    128\u001b[0m \u001b[38;5;66;03m# Extract players' crops for team classification\u001b[39;00m\n\u001b[1;32m    129\u001b[0m players_crops \u001b[38;5;241m=\u001b[39m [sv\u001b[38;5;241m.\u001b[39mcrop_image(frame, xyxy) \u001b[38;5;28;01mfor\u001b[39;00m xyxy \u001b[38;5;129;01min\u001b[39;00m players_detections\u001b[38;5;241m.\u001b[39mxyxy]\n\u001b[0;32m--> 130\u001b[0m players_team_ids \u001b[38;5;241m=\u001b[39m\u001b[43mclassifier\u001b[49m\u001b[38;5;241;43m.\u001b[39;49m\u001b[43mpredict\u001b[49m\u001b[43m(\u001b[49m\u001b[43mplayers_crops\u001b[49m\u001b[43m)\u001b[49m\n\u001b[1;32m    131\u001b[0m players_detections\u001b[38;5;241m.\u001b[39mclass_id \u001b[38;5;241m=\u001b[39m np\u001b[38;5;241m.\u001b[39marray(players_team_ids)\n\u001b[1;32m    133\u001b[0m \u001b[38;5;66;03m# Handle goalkeepers' team assignment if needed\u001b[39;00m\n\u001b[1;32m    134\u001b[0m \u001b[38;5;66;03m# For simplicity, assign them to the same team as the majority of players\u001b[39;00m\n",
      "File \u001b[0;32m~/Game-State-Reconstruction/sports/sports/common/team.py:153\u001b[0m, in \u001b[0;36mTeamClassifier.predict\u001b[0;34m(self, crops)\u001b[0m\n\u001b[1;32m    150\u001b[0m \u001b[38;5;28;01mif\u001b[39;00m \u001b[38;5;28mlen\u001b[39m(crops) \u001b[38;5;241m==\u001b[39m \u001b[38;5;241m0\u001b[39m:\n\u001b[1;32m    151\u001b[0m     \u001b[38;5;28;01mreturn\u001b[39;00m np\u001b[38;5;241m.\u001b[39marray([])\n\u001b[0;32m--> 153\u001b[0m data \u001b[38;5;241m=\u001b[39m \u001b[38;5;28;43mself\u001b[39;49m\u001b[38;5;241;43m.\u001b[39;49m\u001b[43mextract_features\u001b[49m\u001b[43m(\u001b[49m\u001b[43mcrops\u001b[49m\u001b[43m)\u001b[49m\n\u001b[1;32m    154\u001b[0m projections \u001b[38;5;241m=\u001b[39m \u001b[38;5;28mself\u001b[39m\u001b[38;5;241m.\u001b[39mreducer\u001b[38;5;241m.\u001b[39mtransform(data)\n\u001b[1;32m    155\u001b[0m \u001b[38;5;28;01mreturn\u001b[39;00m \u001b[38;5;28mself\u001b[39m\u001b[38;5;241m.\u001b[39mcluster_model\u001b[38;5;241m.\u001b[39mpredict(projections)\n",
      "File \u001b[0;32m~/Game-State-Reconstruction/sports/sports/common/team.py:123\u001b[0m, in \u001b[0;36mTeamClassifier.extract_features\u001b[0;34m(self, crops)\u001b[0m\n\u001b[1;32m    120\u001b[0m \u001b[38;5;28;01mwith\u001b[39;00m autocast(\u001b[38;5;124m'\u001b[39m\u001b[38;5;124mcuda:3\u001b[39m\u001b[38;5;124m'\u001b[39m):  \u001b[38;5;66;03m# Enable mixed precision\u001b[39;00m\n\u001b[1;32m    121\u001b[0m     inputs \u001b[38;5;241m=\u001b[39m \u001b[38;5;28mself\u001b[39m\u001b[38;5;241m.\u001b[39mprocessor(\n\u001b[1;32m    122\u001b[0m         images\u001b[38;5;241m=\u001b[39mbatch, return_tensors\u001b[38;5;241m=\u001b[39m\u001b[38;5;124m\"\u001b[39m\u001b[38;5;124mpt\u001b[39m\u001b[38;5;124m\"\u001b[39m)\u001b[38;5;241m.\u001b[39mto(\u001b[38;5;28mself\u001b[39m\u001b[38;5;241m.\u001b[39mdevice)\n\u001b[0;32m--> 123\u001b[0m     outputs \u001b[38;5;241m=\u001b[39m \u001b[38;5;28;43mself\u001b[39;49m\u001b[38;5;241;43m.\u001b[39;49m\u001b[43mfeatures_model\u001b[49m\u001b[43m(\u001b[49m\u001b[38;5;241;43m*\u001b[39;49m\u001b[38;5;241;43m*\u001b[39;49m\u001b[43minputs\u001b[49m\u001b[43m)\u001b[49m\n\u001b[1;32m    124\u001b[0m     embeddings \u001b[38;5;241m=\u001b[39m torch\u001b[38;5;241m.\u001b[39mmean(outputs\u001b[38;5;241m.\u001b[39mlast_hidden_state, dim\u001b[38;5;241m=\u001b[39m\u001b[38;5;241m1\u001b[39m)\u001b[38;5;241m.\u001b[39mcpu()\u001b[38;5;241m.\u001b[39mnumpy()\n\u001b[1;32m    125\u001b[0m     data\u001b[38;5;241m.\u001b[39mappend(embeddings)\n",
      "File \u001b[0;32m~/miniconda3/envs/torchgpu/lib/python3.9/site-packages/torch/nn/modules/module.py:1736\u001b[0m, in \u001b[0;36mModule._wrapped_call_impl\u001b[0;34m(self, *args, **kwargs)\u001b[0m\n\u001b[1;32m   1734\u001b[0m     \u001b[38;5;28;01mreturn\u001b[39;00m \u001b[38;5;28mself\u001b[39m\u001b[38;5;241m.\u001b[39m_compiled_call_impl(\u001b[38;5;241m*\u001b[39margs, \u001b[38;5;241m*\u001b[39m\u001b[38;5;241m*\u001b[39mkwargs)  \u001b[38;5;66;03m# type: ignore[misc]\u001b[39;00m\n\u001b[1;32m   1735\u001b[0m \u001b[38;5;28;01melse\u001b[39;00m:\n\u001b[0;32m-> 1736\u001b[0m     \u001b[38;5;28;01mreturn\u001b[39;00m \u001b[38;5;28;43mself\u001b[39;49m\u001b[38;5;241;43m.\u001b[39;49m\u001b[43m_call_impl\u001b[49m\u001b[43m(\u001b[49m\u001b[38;5;241;43m*\u001b[39;49m\u001b[43margs\u001b[49m\u001b[43m,\u001b[49m\u001b[43m \u001b[49m\u001b[38;5;241;43m*\u001b[39;49m\u001b[38;5;241;43m*\u001b[39;49m\u001b[43mkwargs\u001b[49m\u001b[43m)\u001b[49m\n",
      "File \u001b[0;32m~/miniconda3/envs/torchgpu/lib/python3.9/site-packages/torch/nn/modules/module.py:1747\u001b[0m, in \u001b[0;36mModule._call_impl\u001b[0;34m(self, *args, **kwargs)\u001b[0m\n\u001b[1;32m   1742\u001b[0m \u001b[38;5;66;03m# If we don't have any hooks, we want to skip the rest of the logic in\u001b[39;00m\n\u001b[1;32m   1743\u001b[0m \u001b[38;5;66;03m# this function, and just call forward.\u001b[39;00m\n\u001b[1;32m   1744\u001b[0m \u001b[38;5;28;01mif\u001b[39;00m \u001b[38;5;129;01mnot\u001b[39;00m (\u001b[38;5;28mself\u001b[39m\u001b[38;5;241m.\u001b[39m_backward_hooks \u001b[38;5;129;01mor\u001b[39;00m \u001b[38;5;28mself\u001b[39m\u001b[38;5;241m.\u001b[39m_backward_pre_hooks \u001b[38;5;129;01mor\u001b[39;00m \u001b[38;5;28mself\u001b[39m\u001b[38;5;241m.\u001b[39m_forward_hooks \u001b[38;5;129;01mor\u001b[39;00m \u001b[38;5;28mself\u001b[39m\u001b[38;5;241m.\u001b[39m_forward_pre_hooks\n\u001b[1;32m   1745\u001b[0m         \u001b[38;5;129;01mor\u001b[39;00m _global_backward_pre_hooks \u001b[38;5;129;01mor\u001b[39;00m _global_backward_hooks\n\u001b[1;32m   1746\u001b[0m         \u001b[38;5;129;01mor\u001b[39;00m _global_forward_hooks \u001b[38;5;129;01mor\u001b[39;00m _global_forward_pre_hooks):\n\u001b[0;32m-> 1747\u001b[0m     \u001b[38;5;28;01mreturn\u001b[39;00m \u001b[43mforward_call\u001b[49m\u001b[43m(\u001b[49m\u001b[38;5;241;43m*\u001b[39;49m\u001b[43margs\u001b[49m\u001b[43m,\u001b[49m\u001b[43m \u001b[49m\u001b[38;5;241;43m*\u001b[39;49m\u001b[38;5;241;43m*\u001b[39;49m\u001b[43mkwargs\u001b[49m\u001b[43m)\u001b[49m\n\u001b[1;32m   1749\u001b[0m result \u001b[38;5;241m=\u001b[39m \u001b[38;5;28;01mNone\u001b[39;00m\n\u001b[1;32m   1750\u001b[0m called_always_called_hooks \u001b[38;5;241m=\u001b[39m \u001b[38;5;28mset\u001b[39m()\n",
      "File \u001b[0;32m~/miniconda3/envs/torchgpu/lib/python3.9/site-packages/transformers/models/siglip/modeling_siglip.py:1190\u001b[0m, in \u001b[0;36mSiglipVisionModel.forward\u001b[0;34m(self, pixel_values, output_attentions, output_hidden_states, return_dict, interpolate_pos_encoding)\u001b[0m\n\u001b[1;32m   1166\u001b[0m \u001b[38;5;250m\u001b[39m\u001b[38;5;124mr\u001b[39m\u001b[38;5;124;03m\"\"\"\u001b[39;00m\n\u001b[1;32m   1167\u001b[0m \u001b[38;5;124;03mReturns:\u001b[39;00m\n\u001b[1;32m   1168\u001b[0m \n\u001b[0;32m   (...)\u001b[0m\n\u001b[1;32m   1186\u001b[0m \u001b[38;5;124;03m>>> pooled_output = outputs.pooler_output  # pooled features\u001b[39;00m\n\u001b[1;32m   1187\u001b[0m \u001b[38;5;124;03m```\"\"\"\u001b[39;00m\n\u001b[1;32m   1188\u001b[0m return_dict \u001b[38;5;241m=\u001b[39m return_dict \u001b[38;5;28;01mif\u001b[39;00m return_dict \u001b[38;5;129;01mis\u001b[39;00m \u001b[38;5;129;01mnot\u001b[39;00m \u001b[38;5;28;01mNone\u001b[39;00m \u001b[38;5;28;01melse\u001b[39;00m \u001b[38;5;28mself\u001b[39m\u001b[38;5;241m.\u001b[39mconfig\u001b[38;5;241m.\u001b[39muse_return_dict\n\u001b[0;32m-> 1190\u001b[0m \u001b[38;5;28;01mreturn\u001b[39;00m \u001b[38;5;28;43mself\u001b[39;49m\u001b[38;5;241;43m.\u001b[39;49m\u001b[43mvision_model\u001b[49m\u001b[43m(\u001b[49m\n\u001b[1;32m   1191\u001b[0m \u001b[43m    \u001b[49m\u001b[43mpixel_values\u001b[49m\u001b[38;5;241;43m=\u001b[39;49m\u001b[43mpixel_values\u001b[49m\u001b[43m,\u001b[49m\n\u001b[1;32m   1192\u001b[0m \u001b[43m    \u001b[49m\u001b[43moutput_attentions\u001b[49m\u001b[38;5;241;43m=\u001b[39;49m\u001b[43moutput_attentions\u001b[49m\u001b[43m,\u001b[49m\n\u001b[1;32m   1193\u001b[0m \u001b[43m    \u001b[49m\u001b[43moutput_hidden_states\u001b[49m\u001b[38;5;241;43m=\u001b[39;49m\u001b[43moutput_hidden_states\u001b[49m\u001b[43m,\u001b[49m\n\u001b[1;32m   1194\u001b[0m \u001b[43m    \u001b[49m\u001b[43mreturn_dict\u001b[49m\u001b[38;5;241;43m=\u001b[39;49m\u001b[43mreturn_dict\u001b[49m\u001b[43m,\u001b[49m\n\u001b[1;32m   1195\u001b[0m \u001b[43m    \u001b[49m\u001b[43minterpolate_pos_encoding\u001b[49m\u001b[38;5;241;43m=\u001b[39;49m\u001b[43minterpolate_pos_encoding\u001b[49m\u001b[43m,\u001b[49m\n\u001b[1;32m   1196\u001b[0m \u001b[43m\u001b[49m\u001b[43m)\u001b[49m\n",
      "File \u001b[0;32m~/miniconda3/envs/torchgpu/lib/python3.9/site-packages/torch/nn/modules/module.py:1736\u001b[0m, in \u001b[0;36mModule._wrapped_call_impl\u001b[0;34m(self, *args, **kwargs)\u001b[0m\n\u001b[1;32m   1734\u001b[0m     \u001b[38;5;28;01mreturn\u001b[39;00m \u001b[38;5;28mself\u001b[39m\u001b[38;5;241m.\u001b[39m_compiled_call_impl(\u001b[38;5;241m*\u001b[39margs, \u001b[38;5;241m*\u001b[39m\u001b[38;5;241m*\u001b[39mkwargs)  \u001b[38;5;66;03m# type: ignore[misc]\u001b[39;00m\n\u001b[1;32m   1735\u001b[0m \u001b[38;5;28;01melse\u001b[39;00m:\n\u001b[0;32m-> 1736\u001b[0m     \u001b[38;5;28;01mreturn\u001b[39;00m \u001b[38;5;28;43mself\u001b[39;49m\u001b[38;5;241;43m.\u001b[39;49m\u001b[43m_call_impl\u001b[49m\u001b[43m(\u001b[49m\u001b[38;5;241;43m*\u001b[39;49m\u001b[43margs\u001b[49m\u001b[43m,\u001b[49m\u001b[43m \u001b[49m\u001b[38;5;241;43m*\u001b[39;49m\u001b[38;5;241;43m*\u001b[39;49m\u001b[43mkwargs\u001b[49m\u001b[43m)\u001b[49m\n",
      "File \u001b[0;32m~/miniconda3/envs/torchgpu/lib/python3.9/site-packages/torch/nn/modules/module.py:1747\u001b[0m, in \u001b[0;36mModule._call_impl\u001b[0;34m(self, *args, **kwargs)\u001b[0m\n\u001b[1;32m   1742\u001b[0m \u001b[38;5;66;03m# If we don't have any hooks, we want to skip the rest of the logic in\u001b[39;00m\n\u001b[1;32m   1743\u001b[0m \u001b[38;5;66;03m# this function, and just call forward.\u001b[39;00m\n\u001b[1;32m   1744\u001b[0m \u001b[38;5;28;01mif\u001b[39;00m \u001b[38;5;129;01mnot\u001b[39;00m (\u001b[38;5;28mself\u001b[39m\u001b[38;5;241m.\u001b[39m_backward_hooks \u001b[38;5;129;01mor\u001b[39;00m \u001b[38;5;28mself\u001b[39m\u001b[38;5;241m.\u001b[39m_backward_pre_hooks \u001b[38;5;129;01mor\u001b[39;00m \u001b[38;5;28mself\u001b[39m\u001b[38;5;241m.\u001b[39m_forward_hooks \u001b[38;5;129;01mor\u001b[39;00m \u001b[38;5;28mself\u001b[39m\u001b[38;5;241m.\u001b[39m_forward_pre_hooks\n\u001b[1;32m   1745\u001b[0m         \u001b[38;5;129;01mor\u001b[39;00m _global_backward_pre_hooks \u001b[38;5;129;01mor\u001b[39;00m _global_backward_hooks\n\u001b[1;32m   1746\u001b[0m         \u001b[38;5;129;01mor\u001b[39;00m _global_forward_hooks \u001b[38;5;129;01mor\u001b[39;00m _global_forward_pre_hooks):\n\u001b[0;32m-> 1747\u001b[0m     \u001b[38;5;28;01mreturn\u001b[39;00m \u001b[43mforward_call\u001b[49m\u001b[43m(\u001b[49m\u001b[38;5;241;43m*\u001b[39;49m\u001b[43margs\u001b[49m\u001b[43m,\u001b[49m\u001b[43m \u001b[49m\u001b[38;5;241;43m*\u001b[39;49m\u001b[38;5;241;43m*\u001b[39;49m\u001b[43mkwargs\u001b[49m\u001b[43m)\u001b[49m\n\u001b[1;32m   1749\u001b[0m result \u001b[38;5;241m=\u001b[39m \u001b[38;5;28;01mNone\u001b[39;00m\n\u001b[1;32m   1750\u001b[0m called_always_called_hooks \u001b[38;5;241m=\u001b[39m \u001b[38;5;28mset\u001b[39m()\n",
      "File \u001b[0;32m~/miniconda3/envs/torchgpu/lib/python3.9/site-packages/transformers/models/siglip/modeling_siglip.py:1101\u001b[0m, in \u001b[0;36mSiglipVisionTransformer.forward\u001b[0;34m(self, pixel_values, output_attentions, output_hidden_states, return_dict, interpolate_pos_encoding)\u001b[0m\n\u001b[1;32m   1098\u001b[0m last_hidden_state \u001b[38;5;241m=\u001b[39m encoder_outputs[\u001b[38;5;241m0\u001b[39m]\n\u001b[1;32m   1099\u001b[0m last_hidden_state \u001b[38;5;241m=\u001b[39m \u001b[38;5;28mself\u001b[39m\u001b[38;5;241m.\u001b[39mpost_layernorm(last_hidden_state)\n\u001b[0;32m-> 1101\u001b[0m pooler_output \u001b[38;5;241m=\u001b[39m \u001b[38;5;28;43mself\u001b[39;49m\u001b[38;5;241;43m.\u001b[39;49m\u001b[43mhead\u001b[49m\u001b[43m(\u001b[49m\u001b[43mlast_hidden_state\u001b[49m\u001b[43m)\u001b[49m \u001b[38;5;28;01mif\u001b[39;00m \u001b[38;5;28mself\u001b[39m\u001b[38;5;241m.\u001b[39muse_head \u001b[38;5;28;01melse\u001b[39;00m \u001b[38;5;28;01mNone\u001b[39;00m\n\u001b[1;32m   1102\u001b[0m \u001b[38;5;28;01mif\u001b[39;00m \u001b[38;5;129;01mnot\u001b[39;00m return_dict:\n\u001b[1;32m   1103\u001b[0m     \u001b[38;5;28;01mreturn\u001b[39;00m (last_hidden_state, pooler_output) \u001b[38;5;241m+\u001b[39m encoder_outputs[\u001b[38;5;241m1\u001b[39m:]\n",
      "File \u001b[0;32m~/miniconda3/envs/torchgpu/lib/python3.9/site-packages/torch/nn/modules/module.py:1736\u001b[0m, in \u001b[0;36mModule._wrapped_call_impl\u001b[0;34m(self, *args, **kwargs)\u001b[0m\n\u001b[1;32m   1734\u001b[0m     \u001b[38;5;28;01mreturn\u001b[39;00m \u001b[38;5;28mself\u001b[39m\u001b[38;5;241m.\u001b[39m_compiled_call_impl(\u001b[38;5;241m*\u001b[39margs, \u001b[38;5;241m*\u001b[39m\u001b[38;5;241m*\u001b[39mkwargs)  \u001b[38;5;66;03m# type: ignore[misc]\u001b[39;00m\n\u001b[1;32m   1735\u001b[0m \u001b[38;5;28;01melse\u001b[39;00m:\n\u001b[0;32m-> 1736\u001b[0m     \u001b[38;5;28;01mreturn\u001b[39;00m \u001b[38;5;28;43mself\u001b[39;49m\u001b[38;5;241;43m.\u001b[39;49m\u001b[43m_call_impl\u001b[49m\u001b[43m(\u001b[49m\u001b[38;5;241;43m*\u001b[39;49m\u001b[43margs\u001b[49m\u001b[43m,\u001b[49m\u001b[43m \u001b[49m\u001b[38;5;241;43m*\u001b[39;49m\u001b[38;5;241;43m*\u001b[39;49m\u001b[43mkwargs\u001b[49m\u001b[43m)\u001b[49m\n",
      "File \u001b[0;32m~/miniconda3/envs/torchgpu/lib/python3.9/site-packages/torch/nn/modules/module.py:1747\u001b[0m, in \u001b[0;36mModule._call_impl\u001b[0;34m(self, *args, **kwargs)\u001b[0m\n\u001b[1;32m   1742\u001b[0m \u001b[38;5;66;03m# If we don't have any hooks, we want to skip the rest of the logic in\u001b[39;00m\n\u001b[1;32m   1743\u001b[0m \u001b[38;5;66;03m# this function, and just call forward.\u001b[39;00m\n\u001b[1;32m   1744\u001b[0m \u001b[38;5;28;01mif\u001b[39;00m \u001b[38;5;129;01mnot\u001b[39;00m (\u001b[38;5;28mself\u001b[39m\u001b[38;5;241m.\u001b[39m_backward_hooks \u001b[38;5;129;01mor\u001b[39;00m \u001b[38;5;28mself\u001b[39m\u001b[38;5;241m.\u001b[39m_backward_pre_hooks \u001b[38;5;129;01mor\u001b[39;00m \u001b[38;5;28mself\u001b[39m\u001b[38;5;241m.\u001b[39m_forward_hooks \u001b[38;5;129;01mor\u001b[39;00m \u001b[38;5;28mself\u001b[39m\u001b[38;5;241m.\u001b[39m_forward_pre_hooks\n\u001b[1;32m   1745\u001b[0m         \u001b[38;5;129;01mor\u001b[39;00m _global_backward_pre_hooks \u001b[38;5;129;01mor\u001b[39;00m _global_backward_hooks\n\u001b[1;32m   1746\u001b[0m         \u001b[38;5;129;01mor\u001b[39;00m _global_forward_hooks \u001b[38;5;129;01mor\u001b[39;00m _global_forward_pre_hooks):\n\u001b[0;32m-> 1747\u001b[0m     \u001b[38;5;28;01mreturn\u001b[39;00m \u001b[43mforward_call\u001b[49m\u001b[43m(\u001b[49m\u001b[38;5;241;43m*\u001b[39;49m\u001b[43margs\u001b[49m\u001b[43m,\u001b[49m\u001b[43m \u001b[49m\u001b[38;5;241;43m*\u001b[39;49m\u001b[38;5;241;43m*\u001b[39;49m\u001b[43mkwargs\u001b[49m\u001b[43m)\u001b[49m\n\u001b[1;32m   1749\u001b[0m result \u001b[38;5;241m=\u001b[39m \u001b[38;5;28;01mNone\u001b[39;00m\n\u001b[1;32m   1750\u001b[0m called_always_called_hooks \u001b[38;5;241m=\u001b[39m \u001b[38;5;28mset\u001b[39m()\n",
      "File \u001b[0;32m~/miniconda3/envs/torchgpu/lib/python3.9/site-packages/transformers/models/siglip/modeling_siglip.py:1132\u001b[0m, in \u001b[0;36mSiglipMultiheadAttentionPoolingHead.forward\u001b[0;34m(self, hidden_state)\u001b[0m\n\u001b[1;32m   1130\u001b[0m residual \u001b[38;5;241m=\u001b[39m hidden_state\n\u001b[1;32m   1131\u001b[0m hidden_state \u001b[38;5;241m=\u001b[39m \u001b[38;5;28mself\u001b[39m\u001b[38;5;241m.\u001b[39mlayernorm(hidden_state)\n\u001b[0;32m-> 1132\u001b[0m hidden_state \u001b[38;5;241m=\u001b[39m residual \u001b[38;5;241m+\u001b[39m \u001b[38;5;28;43mself\u001b[39;49m\u001b[38;5;241;43m.\u001b[39;49m\u001b[43mmlp\u001b[49m\u001b[43m(\u001b[49m\u001b[43mhidden_state\u001b[49m\u001b[43m)\u001b[49m\n\u001b[1;32m   1134\u001b[0m \u001b[38;5;28;01mreturn\u001b[39;00m hidden_state[:, \u001b[38;5;241m0\u001b[39m]\n",
      "File \u001b[0;32m~/miniconda3/envs/torchgpu/lib/python3.9/site-packages/torch/nn/modules/module.py:1736\u001b[0m, in \u001b[0;36mModule._wrapped_call_impl\u001b[0;34m(self, *args, **kwargs)\u001b[0m\n\u001b[1;32m   1734\u001b[0m     \u001b[38;5;28;01mreturn\u001b[39;00m \u001b[38;5;28mself\u001b[39m\u001b[38;5;241m.\u001b[39m_compiled_call_impl(\u001b[38;5;241m*\u001b[39margs, \u001b[38;5;241m*\u001b[39m\u001b[38;5;241m*\u001b[39mkwargs)  \u001b[38;5;66;03m# type: ignore[misc]\u001b[39;00m\n\u001b[1;32m   1735\u001b[0m \u001b[38;5;28;01melse\u001b[39;00m:\n\u001b[0;32m-> 1736\u001b[0m     \u001b[38;5;28;01mreturn\u001b[39;00m \u001b[38;5;28;43mself\u001b[39;49m\u001b[38;5;241;43m.\u001b[39;49m\u001b[43m_call_impl\u001b[49m\u001b[43m(\u001b[49m\u001b[38;5;241;43m*\u001b[39;49m\u001b[43margs\u001b[49m\u001b[43m,\u001b[49m\u001b[43m \u001b[49m\u001b[38;5;241;43m*\u001b[39;49m\u001b[38;5;241;43m*\u001b[39;49m\u001b[43mkwargs\u001b[49m\u001b[43m)\u001b[49m\n",
      "File \u001b[0;32m~/miniconda3/envs/torchgpu/lib/python3.9/site-packages/torch/nn/modules/module.py:1747\u001b[0m, in \u001b[0;36mModule._call_impl\u001b[0;34m(self, *args, **kwargs)\u001b[0m\n\u001b[1;32m   1742\u001b[0m \u001b[38;5;66;03m# If we don't have any hooks, we want to skip the rest of the logic in\u001b[39;00m\n\u001b[1;32m   1743\u001b[0m \u001b[38;5;66;03m# this function, and just call forward.\u001b[39;00m\n\u001b[1;32m   1744\u001b[0m \u001b[38;5;28;01mif\u001b[39;00m \u001b[38;5;129;01mnot\u001b[39;00m (\u001b[38;5;28mself\u001b[39m\u001b[38;5;241m.\u001b[39m_backward_hooks \u001b[38;5;129;01mor\u001b[39;00m \u001b[38;5;28mself\u001b[39m\u001b[38;5;241m.\u001b[39m_backward_pre_hooks \u001b[38;5;129;01mor\u001b[39;00m \u001b[38;5;28mself\u001b[39m\u001b[38;5;241m.\u001b[39m_forward_hooks \u001b[38;5;129;01mor\u001b[39;00m \u001b[38;5;28mself\u001b[39m\u001b[38;5;241m.\u001b[39m_forward_pre_hooks\n\u001b[1;32m   1745\u001b[0m         \u001b[38;5;129;01mor\u001b[39;00m _global_backward_pre_hooks \u001b[38;5;129;01mor\u001b[39;00m _global_backward_hooks\n\u001b[1;32m   1746\u001b[0m         \u001b[38;5;129;01mor\u001b[39;00m _global_forward_hooks \u001b[38;5;129;01mor\u001b[39;00m _global_forward_pre_hooks):\n\u001b[0;32m-> 1747\u001b[0m     \u001b[38;5;28;01mreturn\u001b[39;00m \u001b[43mforward_call\u001b[49m\u001b[43m(\u001b[49m\u001b[38;5;241;43m*\u001b[39;49m\u001b[43margs\u001b[49m\u001b[43m,\u001b[49m\u001b[43m \u001b[49m\u001b[38;5;241;43m*\u001b[39;49m\u001b[38;5;241;43m*\u001b[39;49m\u001b[43mkwargs\u001b[49m\u001b[43m)\u001b[49m\n\u001b[1;32m   1749\u001b[0m result \u001b[38;5;241m=\u001b[39m \u001b[38;5;28;01mNone\u001b[39;00m\n\u001b[1;32m   1750\u001b[0m called_always_called_hooks \u001b[38;5;241m=\u001b[39m \u001b[38;5;28mset\u001b[39m()\n",
      "File \u001b[0;32m~/miniconda3/envs/torchgpu/lib/python3.9/site-packages/transformers/models/siglip/modeling_siglip.py:608\u001b[0m, in \u001b[0;36mSiglipMLP.forward\u001b[0;34m(self, hidden_states)\u001b[0m\n\u001b[1;32m    607\u001b[0m \u001b[38;5;28;01mdef\u001b[39;00m \u001b[38;5;21mforward\u001b[39m(\u001b[38;5;28mself\u001b[39m, hidden_states: torch\u001b[38;5;241m.\u001b[39mTensor) \u001b[38;5;241m-\u001b[39m\u001b[38;5;241m>\u001b[39m torch\u001b[38;5;241m.\u001b[39mTensor:\n\u001b[0;32m--> 608\u001b[0m     hidden_states \u001b[38;5;241m=\u001b[39m \u001b[38;5;28;43mself\u001b[39;49m\u001b[38;5;241;43m.\u001b[39;49m\u001b[43mfc1\u001b[49m\u001b[43m(\u001b[49m\u001b[43mhidden_states\u001b[49m\u001b[43m)\u001b[49m\n\u001b[1;32m    609\u001b[0m     hidden_states \u001b[38;5;241m=\u001b[39m \u001b[38;5;28mself\u001b[39m\u001b[38;5;241m.\u001b[39mactivation_fn(hidden_states)\n\u001b[1;32m    610\u001b[0m     hidden_states \u001b[38;5;241m=\u001b[39m \u001b[38;5;28mself\u001b[39m\u001b[38;5;241m.\u001b[39mfc2(hidden_states)\n",
      "File \u001b[0;32m~/miniconda3/envs/torchgpu/lib/python3.9/site-packages/torch/nn/modules/module.py:1736\u001b[0m, in \u001b[0;36mModule._wrapped_call_impl\u001b[0;34m(self, *args, **kwargs)\u001b[0m\n\u001b[1;32m   1734\u001b[0m     \u001b[38;5;28;01mreturn\u001b[39;00m \u001b[38;5;28mself\u001b[39m\u001b[38;5;241m.\u001b[39m_compiled_call_impl(\u001b[38;5;241m*\u001b[39margs, \u001b[38;5;241m*\u001b[39m\u001b[38;5;241m*\u001b[39mkwargs)  \u001b[38;5;66;03m# type: ignore[misc]\u001b[39;00m\n\u001b[1;32m   1735\u001b[0m \u001b[38;5;28;01melse\u001b[39;00m:\n\u001b[0;32m-> 1736\u001b[0m     \u001b[38;5;28;01mreturn\u001b[39;00m \u001b[38;5;28;43mself\u001b[39;49m\u001b[38;5;241;43m.\u001b[39;49m\u001b[43m_call_impl\u001b[49m\u001b[43m(\u001b[49m\u001b[38;5;241;43m*\u001b[39;49m\u001b[43margs\u001b[49m\u001b[43m,\u001b[49m\u001b[43m \u001b[49m\u001b[38;5;241;43m*\u001b[39;49m\u001b[38;5;241;43m*\u001b[39;49m\u001b[43mkwargs\u001b[49m\u001b[43m)\u001b[49m\n",
      "File \u001b[0;32m~/miniconda3/envs/torchgpu/lib/python3.9/site-packages/torch/nn/modules/module.py:1747\u001b[0m, in \u001b[0;36mModule._call_impl\u001b[0;34m(self, *args, **kwargs)\u001b[0m\n\u001b[1;32m   1742\u001b[0m \u001b[38;5;66;03m# If we don't have any hooks, we want to skip the rest of the logic in\u001b[39;00m\n\u001b[1;32m   1743\u001b[0m \u001b[38;5;66;03m# this function, and just call forward.\u001b[39;00m\n\u001b[1;32m   1744\u001b[0m \u001b[38;5;28;01mif\u001b[39;00m \u001b[38;5;129;01mnot\u001b[39;00m (\u001b[38;5;28mself\u001b[39m\u001b[38;5;241m.\u001b[39m_backward_hooks \u001b[38;5;129;01mor\u001b[39;00m \u001b[38;5;28mself\u001b[39m\u001b[38;5;241m.\u001b[39m_backward_pre_hooks \u001b[38;5;129;01mor\u001b[39;00m \u001b[38;5;28mself\u001b[39m\u001b[38;5;241m.\u001b[39m_forward_hooks \u001b[38;5;129;01mor\u001b[39;00m \u001b[38;5;28mself\u001b[39m\u001b[38;5;241m.\u001b[39m_forward_pre_hooks\n\u001b[1;32m   1745\u001b[0m         \u001b[38;5;129;01mor\u001b[39;00m _global_backward_pre_hooks \u001b[38;5;129;01mor\u001b[39;00m _global_backward_hooks\n\u001b[1;32m   1746\u001b[0m         \u001b[38;5;129;01mor\u001b[39;00m _global_forward_hooks \u001b[38;5;129;01mor\u001b[39;00m _global_forward_pre_hooks):\n\u001b[0;32m-> 1747\u001b[0m     \u001b[38;5;28;01mreturn\u001b[39;00m \u001b[43mforward_call\u001b[49m\u001b[43m(\u001b[49m\u001b[38;5;241;43m*\u001b[39;49m\u001b[43margs\u001b[49m\u001b[43m,\u001b[49m\u001b[43m \u001b[49m\u001b[38;5;241;43m*\u001b[39;49m\u001b[38;5;241;43m*\u001b[39;49m\u001b[43mkwargs\u001b[49m\u001b[43m)\u001b[49m\n\u001b[1;32m   1749\u001b[0m result \u001b[38;5;241m=\u001b[39m \u001b[38;5;28;01mNone\u001b[39;00m\n\u001b[1;32m   1750\u001b[0m called_always_called_hooks \u001b[38;5;241m=\u001b[39m \u001b[38;5;28mset\u001b[39m()\n",
      "File \u001b[0;32m~/miniconda3/envs/torchgpu/lib/python3.9/site-packages/torch/nn/modules/linear.py:125\u001b[0m, in \u001b[0;36mLinear.forward\u001b[0;34m(self, input)\u001b[0m\n\u001b[1;32m    124\u001b[0m \u001b[38;5;28;01mdef\u001b[39;00m \u001b[38;5;21mforward\u001b[39m(\u001b[38;5;28mself\u001b[39m, \u001b[38;5;28minput\u001b[39m: Tensor) \u001b[38;5;241m-\u001b[39m\u001b[38;5;241m>\u001b[39m Tensor:\n\u001b[0;32m--> 125\u001b[0m     \u001b[38;5;28;01mreturn\u001b[39;00m \u001b[43mF\u001b[49m\u001b[38;5;241;43m.\u001b[39;49m\u001b[43mlinear\u001b[49m\u001b[43m(\u001b[49m\u001b[38;5;28;43minput\u001b[39;49m\u001b[43m,\u001b[49m\u001b[43m \u001b[49m\u001b[38;5;28;43mself\u001b[39;49m\u001b[38;5;241;43m.\u001b[39;49m\u001b[43mweight\u001b[49m\u001b[43m,\u001b[49m\u001b[43m \u001b[49m\u001b[38;5;28;43mself\u001b[39;49m\u001b[38;5;241;43m.\u001b[39;49m\u001b[43mbias\u001b[49m\u001b[43m)\u001b[49m\n",
      "\u001b[0;31mKeyboardInterrupt\u001b[0m: "
     ]
    }
   ],
   "source": [
    "import os\n",
    "import cv2\n",
    "import numpy as np\n",
    "import pandas as pd\n",
    "import torch\n",
    "from PIL import Image\n",
    "import time\n",
    "import supervision as sv\n",
    "from torch.amp import autocast\n",
    "from ultralytics import YOLO\n",
    "\n",
    "# Initialize variables and configurations\n",
    "frame_save_path = '/dkucc/home/oe23/Game-State-Reconstruction/saved_frames'\n",
    "os.makedirs(frame_save_path, exist_ok=True)\n",
    "\n",
    "video_path = \"/dkucc/home/oe23/football_tracking/C0018_1.MP4\"\n",
    "\n",
    "# Initialize trackers and models\n",
    "cap = cv2.VideoCapture(video_path)\n",
    "tracker = sv.ByteTrack()\n",
    "player_model_conf_thresh = 0.5\n",
    "\n",
    "# Initialize frame counter and other necessary variables\n",
    "frame_nbr = 0\n",
    "nbr_frames_no_ball = 0\n",
    "nbr_frames_no_ball_thresh = 50\n",
    "ball_track_history = {'src': [], 'dst': []}\n",
    "ball_track_dist_thresh = 50\n",
    "max_track_length = 100\n",
    "prev_frame_time = time.time()\n",
    "\n",
    "# Define team names\n",
    "Team1 = 'Team1'\n",
    "Team2 = 'Team2'\n",
    "\n",
    "# Define class IDs\n",
    "BALL_ID = 0\n",
    "GOALKEEPER_ID = 1\n",
    "PLAYER_ID = 2\n",
    "REFEREE_ID = 3\n",
    "TEAM1_ID = 0\n",
    "TEAM2_ID = 1\n",
    "REFEREE_VIS_ID = 2\n",
    "\n",
    "# Define colors in hex for the annotators\n",
    "color_palette_hex = ['#FF0000', '#0000FF', '#FFD700']  # Red, Blue, Gold\n",
    "\n",
    "# Initialize Supervision's Annotators\n",
    "ellipse_annotator = sv.EllipseAnnotator(\n",
    "    color=sv.ColorPalette.from_hex(color_palette_hex),\n",
    "    thickness=2\n",
    ")\n",
    "\n",
    "label_annotator = sv.LabelAnnotator(\n",
    "    color=sv.ColorPalette.from_hex(color_palette_hex),\n",
    "    text_color=sv.Color.from_hex('#000000'),\n",
    "    text_position=sv.Position.BOTTOM_CENTER,\n",
    "    text_scale=0.5\n",
    ")\n",
    "\n",
    "triangle_annotator = sv.TriangleAnnotator(\n",
    "    color=sv.Color.from_hex('#FFD700'),\n",
    "    base=25,\n",
    "    height=21,\n",
    "    outline_thickness=1\n",
    ")\n",
    "\n",
    "total_frames = int(cap.get(cv2.CAP_PROP_FRAME_COUNT))\n",
    "\n",
    "# Loop through the video frames\n",
    "with tqdm(total=total_frames, desc=\"Processing Frames\", unit=\"frame\") as pbar:\n",
    "    while cap.isOpened():\n",
    "        print(f\"Frame number: {frame_nbr}\")\n",
    "        print(f\"Second : {frame_nbr/50}\")\n",
    "\n",
    "        # Read a frame from the video\n",
    "        success, frame = cap.read()\n",
    "        if not success:\n",
    "            print(\"Failed to read frame or end of video reached.\")\n",
    "            break\n",
    "\n",
    "        frame_nbr += 1\n",
    "        # Update tqdm progress bar\n",
    "        pbar.update(1)\n",
    "        pbar.set_postfix({\n",
    "            \"Frame\": frame_nbr,\n",
    "            \"Second\": round(frame_nbr / 50, 2)\n",
    "        })\n",
    "        \n",
    "        # Reset ball tracks if no ball detected for a threshold number of frames\n",
    "        if nbr_frames_no_ball > nbr_frames_no_ball_thresh:\n",
    "            ball_track_history['dst'] = []\n",
    "            ball_track_history['src'] = []\n",
    "\n",
    "        #################### Part 1 ####################\n",
    "        # Object Detection & Tracking\n",
    "        ################################################\n",
    "\n",
    "        # Run YOLOv8 players inference on the frame\n",
    "        with autocast('cuda'):\n",
    "            results_players = model_players(frame, conf=player_model_conf_thresh, device=device)\n",
    "\n",
    "        # Convert detections to supervision Detections\n",
    "        detections = sv.Detections.from_ultralytics(results_players[0])\n",
    "\n",
    "        # Separate ball detections\n",
    "        ball_detections = detections[detections.class_id == BALL_ID]\n",
    "        ball_detections.xyxy = sv.pad_boxes(xyxy=ball_detections.xyxy, px=10)\n",
    "\n",
    "        # Exclude ball detections for tracking\n",
    "        all_detections = detections[detections.class_id != BALL_ID]\n",
    "\n",
    "        # Apply NMS if needed\n",
    "        all_detections = all_detections.with_nms(threshold=0.5, class_agnostic=True)\n",
    "\n",
    "        # Update detections with tracker\n",
    "        all_detections = tracker.update_with_detections(detections=all_detections)\n",
    "\n",
    "        # Separate detections by class\n",
    "        goalkeepers_detections = all_detections[all_detections.class_id == GOALKEEPER_ID]\n",
    "        players_detections = all_detections[all_detections.class_id == PLAYER_ID]\n",
    "        referees_detections = all_detections[all_detections.class_id == REFEREE_ID]\n",
    "\n",
    "        ######### Part 2 ##########\n",
    "        # Players Team Prediction #\n",
    "        ###########################\n",
    "\n",
    "        # Extract players' crops for team classification\n",
    "        players_crops = [sv.crop_image(frame, xyxy) for xyxy in players_detections.xyxy]\n",
    "        players_team_ids =classifier.predict(players_crops)\n",
    "        players_detections.class_id = np.array(players_team_ids)\n",
    "\n",
    "        # Handle goalkeepers' team assignment if needed\n",
    "        # For simplicity, assign them to the same team as the majority of players\n",
    "        if len(players_team_ids) > 0:\n",
    "            majority_team = np.bincount(players_team_ids).argmax()\n",
    "        else:\n",
    "            majority_team = TEAM1_ID\n",
    "        goalkeepers_detections.class_id = np.array([majority_team] * len(goalkeepers_detections))\n",
    "\n",
    "        # Adjust referees' class IDs for visualization\n",
    "        referees_detections.class_id = np.array([REFEREE_VIS_ID] * len(referees_detections))\n",
    "\n",
    "        # Merge all detections back\n",
    "        all_detections = sv.Detections.merge([\n",
    "            players_detections, goalkeepers_detections, referees_detections\n",
    "        ])\n",
    "\n",
    "        # Prepare labels using tracker IDs\n",
    "        labels = [\n",
    "            f\"#{tracker_id}\" if tracker_id is not None else \"#0\"\n",
    "            for tracker_id in all_detections.tracker_id\n",
    "        ]\n",
    "\n",
    "        # Convert class IDs to int\n",
    "        all_detections.class_id = all_detections.class_id.astype(int)\n",
    "\n",
    "        # Annotate the frame\n",
    "        annotated_frame = frame.copy()\n",
    "\n",
    "        # Annotate players, goalkeepers, and referees\n",
    "        annotated_frame = ellipse_annotator.annotate(\n",
    "            scene=annotated_frame,\n",
    "            detections=all_detections\n",
    "        )\n",
    "        annotated_frame = label_annotator.annotate(\n",
    "            scene=annotated_frame,\n",
    "            detections=all_detections,\n",
    "            labels=labels\n",
    "        )\n",
    "\n",
    "        # Annotate the ball\n",
    "        if len(ball_detections) > 0:\n",
    "            annotated_frame = triangle_annotator.annotate(\n",
    "                scene=annotated_frame,\n",
    "                detections=ball_detections\n",
    "            )\n",
    "\n",
    "        # Update ball tracking history\n",
    "        if len(ball_detections) > 0:\n",
    "            nbr_frames_no_ball = 0\n",
    "            detected_ball_pos = ball_detections.xyxy[0][:2]\n",
    "            ball_track_history['src'].append(tuple(map(int, detected_ball_pos)))\n",
    "            ball_track_history['dst'].append(tuple(map(int, detected_ball_pos)))\n",
    "        else:\n",
    "            nbr_frames_no_ball += 1\n",
    "\n",
    "        # Limit ball track history length\n",
    "        if len(ball_track_history['dst']) > max_track_length:\n",
    "            ball_track_history['dst'].pop(0)\n",
    "\n",
    "        # Display FPS\n",
    "        final_img = annotated_frame.copy()\n",
    "        new_frame_time = time.time()\n",
    "        fps = 1 / (new_frame_time - prev_frame_time) if (new_frame_time - prev_frame_time) > 0 else 0\n",
    "        prev_frame_time = new_frame_time\n",
    "        cv2.putText(\n",
    "            final_img,\n",
    "            f\"FPS: {int(fps)}\",\n",
    "            (20, 30),\n",
    "            cv2.FONT_HERSHEY_SIMPLEX,\n",
    "            0.9,\n",
    "            (0, 0, 0),\n",
    "            2\n",
    "        )\n",
    "\n",
    "        # Save the frame as a JPEG file\n",
    "        frame_filename = os.path.join(frame_save_path, f'frame_{frame_nbr:04d}.jpg')\n",
    "        cv2.imwrite(frame_filename, final_img)\n",
    "\n",
    "# Release the video capture object and close all OpenCV windows\n",
    "cap.release()"
   ]
  },
  {
   "cell_type": "code",
   "execution_count": null,
   "metadata": {},
   "outputs": [
    {
     "name": "stderr",
     "output_type": "stream",
     "text": [
      "2024-11-26 12:58:36,646 - INFO - Starting video creation: /dkucc/home/oe23/Game-State-Reconstruction/output_video.mp4\n",
      "2024-11-26 12:58:36,647 - INFO - Total frames to write: 3863\n",
      "2024-11-26 12:58:40,090 - INFO - Written 100/3863 frames\n",
      "2024-11-26 12:58:43,503 - INFO - Written 200/3863 frames\n",
      "2024-11-26 12:58:47,009 - INFO - Written 300/3863 frames\n",
      "2024-11-26 12:58:50,268 - INFO - Written 400/3863 frames\n",
      "2024-11-26 12:58:53,631 - INFO - Written 500/3863 frames\n",
      "2024-11-26 12:58:57,016 - INFO - Written 600/3863 frames\n",
      "2024-11-26 12:59:00,478 - INFO - Written 700/3863 frames\n",
      "2024-11-26 12:59:03,846 - INFO - Written 800/3863 frames\n",
      "2024-11-26 12:59:07,163 - INFO - Written 900/3863 frames\n",
      "2024-11-26 12:59:10,397 - INFO - Written 1000/3863 frames\n",
      "2024-11-26 12:59:13,845 - INFO - Written 1100/3863 frames\n",
      "2024-11-26 12:59:17,178 - INFO - Written 1200/3863 frames\n",
      "2024-11-26 12:59:20,518 - INFO - Written 1300/3863 frames\n",
      "2024-11-26 12:59:23,784 - INFO - Written 1400/3863 frames\n",
      "2024-11-26 12:59:27,254 - INFO - Written 1500/3863 frames\n",
      "2024-11-26 12:59:30,976 - INFO - Written 1600/3863 frames\n",
      "2024-11-26 12:59:34,627 - INFO - Written 1700/3863 frames\n",
      "2024-11-26 12:59:38,180 - INFO - Written 1800/3863 frames\n",
      "2024-11-26 12:59:41,543 - INFO - Written 1900/3863 frames\n",
      "2024-11-26 12:59:44,983 - INFO - Written 2000/3863 frames\n",
      "2024-11-26 12:59:48,297 - INFO - Written 2100/3863 frames\n",
      "2024-11-26 12:59:51,652 - INFO - Written 2200/3863 frames\n",
      "2024-11-26 12:59:55,200 - INFO - Written 2300/3863 frames\n",
      "2024-11-26 12:59:58,640 - INFO - Written 2400/3863 frames\n",
      "2024-11-26 13:00:01,952 - INFO - Written 2500/3863 frames\n",
      "2024-11-26 13:00:05,237 - INFO - Written 2600/3863 frames\n",
      "2024-11-26 13:00:08,589 - INFO - Written 2700/3863 frames\n",
      "2024-11-26 13:00:11,824 - INFO - Written 2800/3863 frames\n",
      "2024-11-26 13:00:15,103 - INFO - Written 2900/3863 frames\n",
      "2024-11-26 13:00:18,377 - INFO - Written 3000/3863 frames\n",
      "2024-11-26 13:00:21,471 - INFO - Written 3100/3863 frames\n",
      "2024-11-26 13:00:24,709 - INFO - Written 3200/3863 frames\n",
      "2024-11-26 13:00:28,105 - INFO - Written 3300/3863 frames\n",
      "2024-11-26 13:00:31,476 - INFO - Written 3400/3863 frames\n",
      "2024-11-26 13:00:34,955 - INFO - Written 3500/3863 frames\n",
      "2024-11-26 13:00:38,363 - INFO - Written 3600/3863 frames\n",
      "2024-11-26 13:00:41,910 - INFO - Written 3700/3863 frames\n",
      "2024-11-26 13:00:45,421 - INFO - Written 3800/3863 frames\n",
      "2024-11-26 13:00:47,569 - INFO - Written 3863/3863 frames\n",
      "2024-11-26 13:00:47,601 - INFO - Video saved successfully at /dkucc/home/oe23/Game-State-Reconstruction/output_video.mp4\n"
     ]
    }
   ],
   "source": [
    "import cv2\n",
    "import os\n",
    "from natsort import natsorted\n",
    "\n",
    "def frames_to_video(frames_dir, output_video_path, fps=50, frame_size=None, codec='mp4v'):\n",
    "    \"\"\"\n",
    "    Convert a sequence of image frames into a video file.\n",
    "\n",
    "    Parameters:\n",
    "    - frames_dir (str): Path to the directory containing the frames.\n",
    "    - output_video_path (str): Path where the output video will be saved.\n",
    "    - fps (int, optional): Frames per second for the output video. Default is 30.\n",
    "    - frame_size (tuple, optional): Size of the video frames as (width, height). If None, it will be inferred from the first frame.\n",
    "    - codec (str, optional): FourCC code for the codec. Default is 'mp4v'.\n",
    "    \"\"\"\n",
    "    # List all files in the frames directory\n",
    "    files = os.listdir(frames_dir)\n",
    "    \n",
    "    # Filter out non-JPEG files (optional, adjust if using different formats)\n",
    "    image_files = [f for f in files if f.endswith(('.jpg', '.jpeg', '.png'))]\n",
    "    \n",
    "    # Sort the files naturally (e.g., frame_1.jpg, frame_2.jpg, ..., frame_10.jpg)\n",
    "    image_files = natsorted(image_files)\n",
    "    \n",
    "    if not image_files:\n",
    "        raise ValueError(f\"No image files found in directory: {frames_dir}\")\n",
    "    \n",
    "    # Read the first frame to get the frame size if not provided\n",
    "    first_frame_path = os.path.join(frames_dir, image_files[0])\n",
    "    first_frame = cv2.imread(first_frame_path)\n",
    "    if first_frame is None:\n",
    "        raise ValueError(f\"Unable to read the first frame: {first_frame_path}\")\n",
    "    \n",
    "    if frame_size is None:\n",
    "        height, width, layers = first_frame.shape\n",
    "        frame_size = (width, height)\n",
    "    else:\n",
    "        # Optionally, resize the frame if frame_size is provided\n",
    "        first_frame = cv2.resize(first_frame, frame_size)\n",
    "    \n",
    "    # Define the codec and create VideoWriter object\n",
    "    fourcc = cv2.VideoWriter_fourcc(*codec)\n",
    "    out = cv2.VideoWriter(output_video_path, fourcc, fps, frame_size)\n",
    "    \n",
    "    logging.info(f\"Starting video creation: {output_video_path}\")\n",
    "    logging.info(f\"Total frames to write: {len(image_files)}\")\n",
    "    \n",
    "    for idx, image_file in enumerate(image_files):\n",
    "        frame_path = os.path.join(frames_dir, image_file)\n",
    "        frame = cv2.imread(frame_path)\n",
    "        \n",
    "        if frame is None:\n",
    "            logging.warning(f\"Skipping unreadable frame: {frame_path}\")\n",
    "            continue\n",
    "        \n",
    "        if frame_size is not None:\n",
    "            frame = cv2.resize(frame, frame_size)\n",
    "        \n",
    "        out.write(frame)\n",
    "        \n",
    "        if (idx + 1) % 100 == 0 or (idx + 1) == len(image_files):\n",
    "            logging.info(f\"Written {idx + 1}/{len(image_files)} frames\")\n",
    "    \n",
    "    # Release everything if job is finished\n",
    "    out.release()\n",
    "    logging.info(f\"Video saved successfully at {output_video_path}\")\n",
    "\n",
    "if __name__ == \"__main__\":\n",
    "    import logging\n",
    "\n",
    "    # Configure logging to display progress\n",
    "    logging.basicConfig(\n",
    "        level=logging.INFO,\n",
    "        format='%(asctime)s - %(levelname)s - %(message)s'\n",
    "    )\n",
    "    \n",
    "    # Parameters\n",
    "    frames_directory = '/dkucc/home/oe23/Game-State-Reconstruction/saved_frames'  # Replace with your frames directory\n",
    "    output_video = '/dkucc/home/oe23/Game-State-Reconstruction/output_video.mp4'  # Desired output video path\n",
    "    frames_per_second = 50             # Adjust FPS as needed\n",
    "    codec = 'mp4v'                     # Codec for MP4. For AVI, you might use 'XVID'\n",
    "    \n",
    "    # Optional: Define frame size (width, height). If None, it will be inferred.\n",
    "    # Ensure all frames have the same size or handle resizing accordingly.\n",
    "    frame_dimensions = None  # e.g., (1280, 720)\n",
    "    \n",
    "    # Convert frames to video\n",
    "    try:\n",
    "        frames_to_video(\n",
    "            frames_dir=frames_directory,\n",
    "            output_video_path=output_video,\n",
    "            fps=frames_per_second,\n",
    "            frame_size=frame_dimensions,\n",
    "            codec=codec\n",
    "        )\n",
    "    except Exception as e:\n",
    "        logging.error(f\"Error during video creation: {e}\")\n"
   ]
  },
  {
   "cell_type": "code",
   "execution_count": null,
   "metadata": {},
   "outputs": [
    {
     "name": "stdout",
     "output_type": "stream",
     "text": [
      "Collecting natsort\n",
      "  Using cached natsort-8.4.0-py3-none-any.whl.metadata (21 kB)\n",
      "Using cached natsort-8.4.0-py3-none-any.whl (38 kB)\n",
      "Installing collected packages: natsort\n",
      "Successfully installed natsort-8.4.0\n"
     ]
    }
   ],
   "source": [
    "!pip install natsort"
   ]
  }
 ],
 "metadata": {
  "kernelspec": {
   "display_name": "Python 3 (ipykernel)",
   "language": "python",
   "name": "python3"
  },
  "language_info": {
   "codemirror_mode": {
    "name": "ipython",
    "version": 3
   },
   "file_extension": ".py",
   "mimetype": "text/x-python",
   "name": "python",
   "nbconvert_exporter": "python",
   "pygments_lexer": "ipython3",
   "version": "3.9.20"
  }
 },
 "nbformat": 4,
 "nbformat_minor": 2
}
